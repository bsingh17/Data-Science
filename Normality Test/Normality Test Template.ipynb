{
 "cells": [
  {
   "cell_type": "markdown",
   "metadata": {},
   "source": [
    "# Normality Tests In Python\n",
    "\n",
    "An important decision point when working with a sample of data is whether to use parametric or nonparametric statistical methods.\n",
    "\n",
    "Parametric statistical methods assume that the data has a known and specific distribution, often a Gaussian distribution. If a data sample is not Gaussian, then the assumptions of parametric statistical tests are violated and nonparametric statistical methods must be used.\n",
    "\n",
    "There are a range of techniques that you can use to check if your data sample deviates from a Gaussian distribution, called normality tests.\n",
    "\n",
    "In this tutorial, you will discover the importance of checking whether a data sample deviates from the normal distribution and a suite of techniques that you can use to evaluate your data sample."
   ]
  },
  {
   "cell_type": "markdown",
   "metadata": {},
   "source": [
    "## Project Overview:\n",
    "\n",
    "This tutorial is divided into 5 parts; they are:\n",
    "\n",
    "1. Normality Assumption\n",
    "2. Test Dataset\n",
    "3. Visual Normality Checks\n",
    "4. Statistical Normality Tests\n"
   ]
  },
  {
   "cell_type": "markdown",
   "metadata": {},
   "source": [
    "# Step-1: Normality Assumption:\n",
    "\n",
    "A large fraction of the field of statistics is concerned with data that assumes that it was drawn from a Gaussian distribution.\n",
    "\n",
    "If methods are used that assume a Gaussian distribution, and your data was drawn from a different distribution, the findings may be misleading or plain wrong.\n",
    "\n",
    "There are a number of techniques that you can check if your data sample is Gaussian or sufficiently Gaussian-like to use the standard techniques, or sufficiently non-Gaussian to instead use non-parametric statistical methods.\n",
    "\n",
    "This is a key decision point when it comes to choosing statistical methods for your data sample. We can summarize this decision as follows:\n",
    "\n",
    "If Data Is Gaussian:\n",
    "\tUse Parametric Statistical Methods\n",
    "Else:\n",
    "\tUse Nonparametric Statistical Methods"
   ]
  },
  {
   "cell_type": "raw",
   "metadata": {},
   "source": [
    "If Data Is Gaussian:\n",
    "\tUse Parametric Statistical Methods\n",
    "Else:\n",
    "\tUse Nonparametric Statistical Methods"
   ]
  },
  {
   "cell_type": "markdown",
   "metadata": {},
   "source": [
    "## Step-2: Test Dataset:"
   ]
  },
  {
   "cell_type": "code",
   "execution_count": 11,
   "metadata": {},
   "outputs": [],
   "source": [
    "# generate gaussian data\n",
    "\n",
    "# import seed from numpy.random import seed\n",
    "\n",
    "# import randn from numpy.random import randn\n",
    "\n",
    "# import mean from numpy import mean\n",
    "\n",
    "# import std from numpy import std\n",
    "\n",
    "# seed the random number generator\n",
    "\n",
    "# generate univariate observations\n",
    "\n",
    "# print the mean and std of data\n"
   ]
  },
  {
   "cell_type": "markdown",
   "metadata": {},
   "source": [
    "## Step-3: Visual Normality Checks:\n",
    "\n",
    "We can create plots of the data to check whether it is Gaussian.\n",
    "\n",
    "These checks are qualitative, so less accurate than the statistical methods we will calculate in the next section. Nevertheless, they are fast and like the statistical tests, must still be interpreted before you can make a call about your data sample.\n",
    "\n",
    "In this section, we will look at two common methods for visually inspecting a dataset to check if it was drawn from a Gaussian distribution.The methods are as follows:\n",
    "\n",
    "1. Histogram Plot\n",
    "2. Quantile Quantile Plot"
   ]
  },
  {
   "cell_type": "markdown",
   "metadata": {},
   "source": [
    "## Histogram Plot:\n",
    "\n",
    "A simple and commonly used plot to quickly check the distribution of a sample of data is the histogram.\n",
    "\n",
    "In the histogram, the data is divided into a pre-specified number of groups called bins. The data is then sorted into each bin and the count of the number of observations in each bin is retained.\n",
    "\n",
    "The plot shows the bins across the x-axis maintaining their ordinal relationship, and the count in each bin on the y-axis."
   ]
  },
  {
   "cell_type": "code",
   "execution_count": 13,
   "metadata": {},
   "outputs": [],
   "source": [
    "# histogram plot\n",
    "\n",
    "# import seed from numpy.random import seed\n",
    "\n",
    "# import randn from numpy.random import randn\n",
    "\n",
    "# import pyplot from matplotlib import pyplot\n",
    "\n",
    "# seed the random number generator\n",
    "\n",
    "# generate univariate observations\n",
    "\n",
    "# histogram plot\n"
   ]
  },
  {
   "cell_type": "markdown",
   "metadata": {},
   "source": [
    "## Quantile-Quantile Test:\n",
    "\n",
    "This plot generates its own sample of the idealized distribution that we are comparing with, in this case the Gaussian distribution. The idealized samples are divided into groups (e.g. 5), called quantiles. Each data point in the sample is paired with a similar member from the idealized distribution at the same cumulative distribution.\n",
    "\n",
    "The resulting points are plotted as a scatter plot with the idealized value on the x-axis and the data sample on the y-axis.\n",
    "\n",
    "A perfect match for the distribution will be shown by a line of dots on a 45-degree angle from the bottom left of the plot to the top right. Often a line is drawn on the plot to help make this expectation clear. Deviations by the dots from the line shows a deviation from the expected distribution."
   ]
  },
  {
   "cell_type": "code",
   "execution_count": 14,
   "metadata": {},
   "outputs": [],
   "source": [
    "# QQ Plot:\n",
    "\n",
    "# import seed from numpy.random import seed\n",
    "\n",
    "# import randn from numpy.random import randn\n",
    "\n",
    "# import qqplot from statsmodels.graphics.gofplots import qqplot\n",
    "\n",
    "# import matplotlib.pyplot as plt\n",
    "\n",
    "# seed the random number generator\n",
    "\n",
    "# generate univariate observations\n",
    "\n",
    "# q-q plot\n"
   ]
  },
  {
   "cell_type": "markdown",
   "metadata": {},
   "source": [
    "## Step-4: Statistical Normality Test:\n",
    "\n",
    "The Test which we will be using is Shapiro-Wilk Test.\n",
    "### Interpretation of a test:\n",
    "\n",
    "Before you can apply the statistical tests, you must know how to interpret the results.\n",
    "\n",
    "Each test will return at least two things:\n",
    "\n",
    "Statistic: A quantity calculated by the test that can be interpreted in the context of the test via comparing it to critical values from the distribution of the test statistic.\n",
    "\n",
    "p-value: Used to interpret the test, in this case whether the sample was drawn from a Gaussian distribution.\n",
    "\n",
    "Each test calculates a test-specific statistic. This statistic can aid in the interpretation of the result, although it may require a deeper proficiency with statistics and a deeper knowledge of the specific statistical test. Instead, the p-value can be used to quickly and accurately interpret the statistic in practical applications.\n",
    "\n",
    "The tests assume that that the sample was drawn from a Gaussian distribution. Technically this is called the null hypothesis, or H0. A threshold level is chosen called alpha, typically 5% (or 0.05), that is used to interpret the p-value.\n",
    "\n",
    "In the SciPy implementation of these tests, you can interpret the p value as follows.\n",
    "\n",
    "p <= alpha: reject H0, not normal.\n",
    "\n",
    "p > alpha: fail to reject H0, normal.\n",
    "\n",
    "This means that, in general, we are seeking results with a larger p-value to confirm that our sample was likely drawn from a Gaussian distribution.\n",
    "\n",
    "A result above 5% does not mean that the null hypothesis is true. It means that it is very likely true given available evidence. The p-value is not the probability of the data fitting a Gaussian distribution; it can be thought of as a value that helps us interpret the statistical test."
   ]
  },
  {
   "cell_type": "markdown",
   "metadata": {},
   "source": [
    "## Shapiro-Wilk Test:\n",
    "The Shapiro-Wilk test evaluates a data sample and quantifies how likely it is that the data was drawn from a Gaussian distribution, named for Samuel Shapiro and Martin Wilk.\n",
    "\n",
    "In practice, the Shapiro-Wilk test is believed to be a reliable test of normality, although there is some suggestion that the test may be suitable for smaller samples of data, e.g. thousands of observations or fewer.\n",
    "\n",
    "The shapiro() SciPy function will calculate the Shapiro-Wilk on a given dataset. The function returns both the W-statistic calculated by the test and the p-value.Shapiro-Wilk Test:"
   ]
  },
  {
   "cell_type": "code",
   "execution_count": 15,
   "metadata": {},
   "outputs": [],
   "source": [
    "# Shapiro-Wilk Test:\n",
    "\n",
    "# import seed from numpy.random import seed\n",
    "\n",
    "# import randn from numpy.random import randn\n",
    "\n",
    "# import shapiro from scipy.stats import shapiro\n",
    "\n",
    "# seed the random number generator\n",
    "\n",
    "# generate univariate observations\n",
    "\n",
    "# normality test\n",
    "\n",
    "# interpret\n"
   ]
  }
 ],
 "metadata": {
  "kernelspec": {
   "display_name": "Python 3",
   "language": "python",
   "name": "python3"
  },
  "language_info": {
   "codemirror_mode": {
    "name": "ipython",
    "version": 3
   },
   "file_extension": ".py",
   "mimetype": "text/x-python",
   "name": "python",
   "nbconvert_exporter": "python",
   "pygments_lexer": "ipython3",
   "version": "3.7.4"
  }
 },
 "nbformat": 4,
 "nbformat_minor": 2
}
