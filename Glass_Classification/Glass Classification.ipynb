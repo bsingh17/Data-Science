{
 "cells": [
  {
   "cell_type": "markdown",
   "metadata": {
    "_uuid": "089818e3b27240c3a35275795768c7d019b70894"
   },
   "source": [
    "**Simple Glass Type Predictor/Classifier**"
   ]
  },
  {
   "cell_type": "code",
   "execution_count": null,
   "metadata": {
    "_cell_guid": "b1076dfc-b9ad-4769-8c92-a6c4dae69d19",
    "_uuid": "8f2839f25d086af736a60e9eeb907d3b93b6e0e5"
   },
   "outputs": [],
   "source": [
    "#Importing the required libraries\n",
    "#Use pandas, seaborn, numpy and matplotlib \n",
    "\n"
   ]
  },
  {
   "cell_type": "code",
   "execution_count": null,
   "metadata": {
    "_cell_guid": "79c7e3d0-c299-4dcb-8224-4455121ee9b0",
    "_uuid": "d629ff2d2480ee46fbb7e2d37f6b5fab8052498a"
   },
   "outputs": [],
   "source": [
    "#Read the values of the dataset into a Pandas Dataframe\n",
    "#Also display the dataframe\n",
    "\n"
   ]
  },
  {
   "cell_type": "code",
   "execution_count": null,
   "metadata": {
    "_uuid": "5fb1fc55034f921cbbe2c9c40c03ff585c38e74e"
   },
   "outputs": [],
   "source": [
    "# Display class values\n"
   ]
  },
  {
   "cell_type": "code",
   "execution_count": null,
   "metadata": {
    "_uuid": "40a1ef2dc056a1aa690b3cfcb96cd62da6993b57"
   },
   "outputs": [],
   "source": [
    "# Convert the target feature(Household) into a binary feature\n",
    "# glass_type 1, 2, 3 are window glass\n",
    "# glass_type 5, 6, 7 are non-window glass\n",
    "\n"
   ]
  },
  {
   "cell_type": "code",
   "execution_count": null,
   "metadata": {
    "_uuid": "54699339b5e9d436fd387f7376ad0aa7dcc27b81"
   },
   "outputs": [],
   "source": [
    "#  Plot Aluminum (al) vs household\n"
   ]
  },
  {
   "cell_type": "code",
   "execution_count": null,
   "metadata": {
    "_uuid": "9133633968b7e859ee2b5fa80317b6d4a5397f60"
   },
   "outputs": [],
   "source": [
    "#Create Train/Test Split using sklearn\n",
    "#Split the Dataset into 70:30 or 80:20 ratio\n"
    "\n"
   ]
  },
  {
   "cell_type": "markdown",
   "metadata": {
    "_uuid": "c52e4a36c9dbeb50fb4b69f3e38ec1cf85c9a76c"
   },
   "source": [
    "**Predicting with Linear Regression**"
   ]
  },
  {
   "cell_type": "code",
   "execution_count": null,
   "metadata": {
    "_uuid": "f04f493545ef5662705c087453878e6ad614d727"
   },
   "outputs": [],
   "source": [
    "from sklearn.linear_model import LinearRegression\n",
    "\n",
    "# Fit the model\n",
    "\n",
    "\n",
    "\n",
    "# Create a separate table to store predictions\n",
    "\n",
    "\n",
    "\n",
    "# Predict with Linear Regression\n",
    "\n",
    "\n"
   ]
  },
  {
   "cell_type": "code",
   "execution_count": null,
   "metadata": {
    "_uuid": "2368823af11a663af11c11a9893c68f4e0f3c921"
   },
   "outputs": [],
   "source": [
    "# Examine the first 15 linear regression predictions\n"
   ]
  },
  {
   "cell_type": "markdown",
   "metadata": {
    "_uuid": "75e9e298bcb78910477337686b118ae371873dcb"
   },
   "source": [
    "Did you notice that there are some numbers below 0 and above 1 which is definitely not a good thing?"
   ]
  },
  {
   "cell_type": "code",
   "execution_count": null,
   "metadata": {
    "_uuid": "6b2aa39c91736ad28598a9305dd45d0147ccb241"
   },
   "outputs": [],
   "source": [
    "# Plot Linear Regression Line\n"
   ]
  },
  {
   "cell_type": "markdown",
   "metadata": {
    "_uuid": "b3c5165e7dcd0891c2dcbf319a21bff1d084f969"
   },
   "source": [
    "You Linear regression should be making predictions outside the range of 0 and 1\n",
    "This is not acceptable.\n",
    "Lets now try to apply Logistic Regression."
   ]
  },
  {
   "cell_type": "markdown",
   "metadata": {
    "_uuid": "6f2bb77e7ccc7d115a8ad49100b9d68ba23aad88"
   },
   "source": [
    "**Logistic Regression**"
   ]
  },
  {
   "cell_type": "code",
   "execution_count": null,
   "metadata": {
    "_uuid": "03847715c013adb60203a72594ca5f4959ec2351"
   },
   "outputs": [],
   "source": [
    "from sklearn.linear_model import LogisticRegression\n",
    "# Fit logistic regression model\n",
    "\n",
    "\n"
   ]
  },
  {
   "cell_type": "markdown",
   "metadata": {
    "_uuid": "cae8100eab94d0b33a3a92afe07a022d71bd5f1a"
   },
   "source": [
    "**Predict Class Probabilities & Class Predictions**"
   ]
  },
  {
   "cell_type": "code",
   "execution_count": null,
   "metadata": {
    "_uuid": "f1167830bb06fc972dc569b77c3068589355944d"
   },
   "outputs": [],
   "source": [
    "# Make class label predictions\n"
   ]
  },
  {
   "cell_type": "code",
   "execution_count": null,
   "metadata": {
    "_uuid": "c64e99d3d7aa360f3d6347671b68902cd0e572af"
   },
   "outputs": [],
   "source": [
    "# Make class probability predictions\n"
   ]
  },
  {
   "cell_type": "code",
   "execution_count": null,
   "metadata": {
    "_uuid": "977841131fd3f309d0b53d48e31510977c4a9967"
   },
   "outputs": [],
   "source": [
    "# Predict with Logistic Regression\n",
    "\n",
    "# Predict Probability with Logistic Regression\n"
   ]
  },
  {
   "cell_type": "code",
   "execution_count": null,
   "metadata": {
    "_uuid": "ec7b0126e55b161267ced4a887d82f63ea4f6b21"
   },
   "outputs": [],
   "source": [
    "# Plot logistic regression line \n"
   ]
  },
  {
   "cell_type": "markdown",
   "metadata": {
    "_uuid": "ed6351c60dc4207a0d3ad52715c32d2b0ee6445f"
   },
   "source": [
    "**Compare Predictions**\n"
   ]
  },
  {
   "cell_type": "code",
   "execution_count": null,
   "metadata": {
    "_uuid": "1fd1c2a6d4a4f69a7dea7d43ce646217a4226063"
   },
   "outputs": [],
   "source": [
    "# Examine the table\n"
   ]
  },
  {
   "cell_type": "markdown",
   "metadata": {
    "_uuid": "d202b42b7335e315694b292666e103c7e2a2f16c"
   },
   "source": [
    "**Model Evaluation**\n"
   ]
  },
  {
   "cell_type": "code",
   "execution_count": null,
   "metadata": {
    "_uuid": "afce830c249e0f8584ee8cbed47000e05e83f6b0"
   },
   "outputs": [],
   "source": [
    "# Observe class predictions on test set\n",
    "\n",
    "# Store predictions\n"
   ]
  },
  {
   "cell_type": "code",
   "execution_count": null,
   "metadata": {
    "_uuid": "90c4e89e4660fefc555dadf50b8f022e20b052ff"
   },
   "outputs": [],
   "source": [
    "from sklearn import metrics\n",
    "# Print Confusion Matrix\n",
    "\n"
   ]
  },
  {
   "cell_type": "code",
   "execution_count": null,
   "metadata": {
    "_uuid": "696583704808dd330e0c1ff9f1b7257e4c486342"
   },
   "outputs": [],
   "source": [
    "# Print the metrics classification report\n"
   ]
  },
  {
   "cell_type": "code",
   "execution_count": null,
   "metadata": {
    "_uuid": "246e6be95ff3c6b21091bf6284dd1132e9c8306d"
   },
   "outputs": [],
   "source": [
    "# Use the statsmodel library \n",
    "# Import the library\n",
    "\n",
    "# Define independent variables\n",
    "\n",
    "\n",
    "# Fit the logistic regression function\n"
   ]
  },
  {
   "cell_type": "code",
   "execution_count": null,
   "metadata": {
    "_uuid": "212a4cd6860a9715bf5b430300c8985300c7e058"
   },
   "outputs": [],
   "source": [
    "# Display the parameter coefficients \n"
   ]
  },
  {
   "cell_type": "code",
   "execution_count": null,
   "metadata": {},
   "outputs": [],
   "source": [
    "# The End"
   ]
  }
 ],
 "metadata": {
  "kernelspec": {
   "display_name": "Python 3",
   "language": "python",
   "name": "python3"
  },
  "language_info": {
   "codemirror_mode": {
    "name": "ipython",
    "version": 3
   },
   "file_extension": ".py",
   "mimetype": "text/x-python",
   "name": "python",
   "nbconvert_exporter": "python",
   "pygments_lexer": "ipython3",
   "version": "3.7.4"
  }
 },
 "nbformat": 4,
 "nbformat_minor": 1
}
