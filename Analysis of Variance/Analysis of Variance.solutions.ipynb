{
 "cells": [
  {
   "cell_type": "markdown",
   "metadata": {},
   "source": [
    "# Analysis of Variance"
   ]
  },
  {
   "cell_type": "markdown",
   "metadata": {},
   "source": [
    "#### Analysis of variance (ANOVA) is a collection of statistical models and their associated estimation procedures"
   ]
  },
  {
   "cell_type": "markdown",
   "metadata": {},
   "source": [
    "In this project we will be analysing the variance by generating the own data for comparing more than 2 groups. "
   ]
  },
  {
   "cell_type": "markdown",
   "metadata": {},
   "source": [
    "Here, we will be creating a own data of races with age and compare with the voter's age. We will be doing the ANOVA and performing t-test on each pair. Finally we will perform pairwise_tukeyhsd "
   ]
  },
  {
   "cell_type": "markdown",
   "metadata": {},
   "source": [
    "### Importing the Necessary Libraries"
   ]
  },
  {
   "cell_type": "code",
   "execution_count": 1,
   "metadata": {},
   "outputs": [],
   "source": [
    "# Importing the necessary Libraries\n",
    "\n",
    "# Library for creating arrays\n",
    "import numpy as np\n",
    "# Library for dealing with dataframes \n",
    "import pandas as pd\n",
    "# Library for plotting graphs\n",
    "import matplotlib.pyplot as plt\n",
    "# Library for statistical functions\n",
    "import scipy.stats as stats\n",
    "# Library for pairwise_tukeyhsd model\n",
    "from statsmodels.stats.multicomp import pairwise_tukeyhsd"
   ]
  },
  {
   "cell_type": "markdown",
   "metadata": {},
   "source": [
    "### Doing ANOVA for data with same mean"
   ]
  },
  {
   "cell_type": "code",
   "execution_count": 2,
   "metadata": {},
   "outputs": [
    {
     "data": {
      "text/plain": [
       "F_onewayResult(statistic=0.9992474219749592, pvalue=0.4169507381717259)"
      ]
     },
     "execution_count": 2,
     "metadata": {},
     "output_type": "execute_result"
    }
   ],
   "source": [
    "# Generating the random array\n",
    "np.random.seed(12)\n",
    "\n",
    "# Creating the column for race\n",
    "races =   [\"asian\",\"black\",\"hispanic\",\"other\",\"white\",\"red\"]\n",
    "\n",
    "# Generate random data for voter_race \n",
    "voter_race = np.random.choice(a= races,\n",
    "                              p = [0.05, 0.10 ,0.25, 0.05, 0.5,0.05],\n",
    "                              size=1000)\n",
    "# Generate the data for voter_age by poisson process with random variates\n",
    "voter_age = stats.poisson.rvs(loc=18,\n",
    "                              mu=30,\n",
    "                              size=1000)\n",
    "\n",
    "\"Here we have created the groups with same mean\"\n",
    "\n",
    "# Group the voter_age data by voter_race and create the group\n",
    "voter_frame = pd.DataFrame({\"race\":voter_race,\"age\":voter_age})\n",
    "groups = voter_frame.groupby(\"race\").groups\n",
    "\n",
    "# Extract individual groups of race\n",
    "asian = voter_age[groups[\"asian\"]]\n",
    "black = voter_age[groups[\"black\"]]\n",
    "hispanic = voter_age[groups[\"hispanic\"]]\n",
    "other = voter_age[groups[\"other\"]]\n",
    "white = voter_age[groups[\"white\"]]\n",
    "red = voter_age[groups[\"red\"]]\n",
    "\n",
    "# Perform the ANOVA\n",
    "stats.f_oneway(asian, black, hispanic, other, white,red)"
   ]
  },
  {
   "cell_type": "markdown",
   "metadata": {},
   "source": [
    "The test output yields an F-statistic of 1.774 and a p-value of 0.1317, which indicates that there is no significant difference between the means of each group."
   ]
  },
  {
   "cell_type": "markdown",
   "metadata": {},
   "source": [
    "### Doing ANOVA for data with same mean"
   ]
  },
  {
   "cell_type": "code",
   "execution_count": 3,
   "metadata": {},
   "outputs": [
    {
     "data": {
      "text/plain": [
       "F_onewayResult(statistic=8.063504632370885, pvalue=1.8141841040387716e-07)"
      ]
     },
     "execution_count": 3,
     "metadata": {},
     "output_type": "execute_result"
    }
   ],
   "source": [
    "# Generating the random array\n",
    "np.random.seed(12)\n",
    "\n",
    "# Generate random data for the voter_race\n",
    "voter_race = np.random.choice(a= races,\n",
    "                              p = [0.05, 0.10 ,0.25, 0.05, 0.5, 0.05],\n",
    "                              size=1000)\n",
    "\n",
    "# Create data for white_ages with by poisson process with random variates with different mean\n",
    "white_ages = stats.poisson.rvs(loc=18, \n",
    "                              mu=32,\n",
    "                              size=1000)\n",
    "\n",
    "# Generate the data for voter_age by poisson process with random variates\n",
    "voter_age = stats.poisson.rvs(loc=18,\n",
    "                              mu=30,\n",
    "                              size=1000)\n",
    "\n",
    "# Compare the whites_age and voter_age where the voter race is \"white\" \n",
    "voter_age = np.where(voter_race==\"white\", white_ages, voter_age)\n",
    "\n",
    "# Group the voter_age data by voter_race and create the group\n",
    "voter_frame = pd.DataFrame({\"race\":voter_race,\"age\":voter_age})\n",
    "groups = voter_frame.groupby(\"race\").groups   \n",
    "\n",
    "# Extract individual groups of race\n",
    "asian = voter_age[groups[\"asian\"]]\n",
    "black = voter_age[groups[\"black\"]]\n",
    "hispanic = voter_age[groups[\"hispanic\"]]\n",
    "other = voter_age[groups[\"other\"]]\n",
    "white = voter_age[groups[\"white\"]]\n",
    "red = voter_age[groups[\"red\"]]\n",
    "\n",
    "# Perform the ANOVA\n",
    "stats.f_oneway(asian, black, hispanic, other, white,red)"
   ]
  },
  {
   "cell_type": "markdown",
   "metadata": {},
   "source": [
    "Here, we are doing the analysis with the white race with other races keeping the means different. Here, we know the data set so we are analysing for the positive variables only. In the real data, we will not know that. "
   ]
  },
  {
   "cell_type": "markdown",
   "metadata": {},
   "source": [
    "### Perform T_Test on each pair"
   ]
  },
  {
   "cell_type": "code",
   "execution_count": 4,
   "metadata": {},
   "outputs": [
    {
     "name": "stdout",
     "output_type": "stream",
     "text": [
      "asian black\n",
      "Ttest_indResult(statistic=1.066832705495598, pvalue=0.28793754619868195)\n",
      "asian hispanic\n",
      "Ttest_indResult(statistic=-0.33877918718078126, pvalue=0.7350229469581708)\n",
      "asian other\n",
      "Ttest_indResult(statistic=0.006772864724701021, pvalue=0.9946105844490029)\n",
      "asian white\n",
      "Ttest_indResult(statistic=-2.2914351134949835, pvalue=0.02230863992673963)\n",
      "asian red\n",
      "Ttest_indResult(statistic=1.1983135840432235, pvalue=0.23397622406310178)\n",
      "black hispanic\n",
      "Ttest_indResult(statistic=-1.9058633327219765, pvalue=0.05751604669546656)\n",
      "black other\n",
      "Ttest_indResult(statistic=-0.9774909876399726, pvalue=0.32997688719434004)\n",
      "black white\n",
      "Ttest_indResult(statistic=-4.899822492333437, pvalue=1.2306973807225665e-06)\n",
      "black red\n",
      "Ttest_indResult(statistic=0.25749179408121803, pvalue=0.797179949829921)\n",
      "hispanic other\n",
      "Ttest_indResult(statistic=0.35101420250972537, pvalue=0.7258282382702971)\n",
      "hispanic white\n",
      "Ttest_indResult(statistic=-3.6763909997424324, pvalue=0.0002531573564451057)\n",
      "hispanic red\n",
      "Ttest_indResult(statistic=1.7057578104269528, pvalue=0.08912020717346773)\n",
      "other white\n",
      "Ttest_indResult(statistic=-2.377580186141817, pvalue=0.017757252946579663)\n",
      "other red\n",
      "Ttest_indResult(statistic=1.0157122163867853, pvalue=0.31231951755512205)\n",
      "white red\n",
      "Ttest_indResult(statistic=3.9269893149346324, pvalue=9.668569695903856e-05)\n"
     ]
    }
   ],
   "source": [
    "\n",
    "# Get all race pairs using the for loop\n",
    "race_pairs = []\n",
    "\n",
    "for race1 in range(5):\n",
    "    for race2  in range(race1+1,6):\n",
    "        race_pairs.append((races[race1], races[race2]))\n",
    "\n",
    "# Conduct t-test on each pair using for loop\n",
    "for race1, race2 in race_pairs: \n",
    "    print(race1, race2)\n",
    "    print(stats.ttest_ind(voter_age[groups[race1]], \n",
    "                          voter_age[groups[race2]]))   "
   ]
  },
  {
   "cell_type": "markdown",
   "metadata": {},
   "source": [
    "### Perform turkey pairwise test"
   ]
  },
  {
   "cell_type": "code",
   "execution_count": 5,
   "metadata": {},
   "outputs": [
    {
     "data": {
      "text/html": [
       "<table class=\"simpletable\">\n",
       "<caption>Multiple Comparison of Means - Tukey HSD, FWER=0.05</caption>\n",
       "<tr>\n",
       "   <th>group1</th>   <th>group2</th>  <th>meandiff</th>  <th>p-adj</th>  <th>lower</th>   <th>upper</th> <th>reject</th>\n",
       "</tr>\n",
       "<tr>\n",
       "    <td>asian</td>    <td>black</td>   <td>-1.0237</td>   <td>0.9</td>  <td>-3.9229</td> <td>1.8755</td>  <td>False</td>\n",
       "</tr>\n",
       "<tr>\n",
       "    <td>asian</td>  <td>hispanic</td>  <td>0.3239</td>    <td>0.9</td>  <td>-2.2741</td> <td>2.9219</td>  <td>False</td>\n",
       "</tr>\n",
       "<tr>\n",
       "    <td>asian</td>    <td>other</td>   <td>-0.0085</td>   <td>0.9</td>  <td>-3.2742</td> <td>3.2573</td>  <td>False</td>\n",
       "</tr>\n",
       "<tr>\n",
       "    <td>asian</td>     <td>red</td>    <td>-1.2684</td> <td>0.8805</td> <td>-4.5979</td> <td>2.0611</td>  <td>False</td>\n",
       "</tr>\n",
       "<tr>\n",
       "    <td>asian</td>    <td>white</td>   <td>1.8997</td>  <td>0.2496</td> <td>-0.5926</td>  <td>4.392</td>  <td>False</td>\n",
       "</tr>\n",
       "<tr>\n",
       "    <td>black</td>  <td>hispanic</td>  <td>1.3476</td>  <td>0.3436</td> <td>-0.577</td>  <td>3.2722</td>  <td>False</td>\n",
       "</tr>\n",
       "<tr>\n",
       "    <td>black</td>    <td>other</td>   <td>1.0152</td>    <td>0.9</td>  <td>-1.7451</td> <td>3.7756</td>  <td>False</td>\n",
       "</tr>\n",
       "<tr>\n",
       "    <td>black</td>     <td>red</td>    <td>-0.2447</td>   <td>0.9</td>  <td>-3.0802</td> <td>2.5908</td>  <td>False</td>\n",
       "</tr>\n",
       "<tr>\n",
       "    <td>black</td>    <td>white</td>   <td>2.9234</td>   <td>0.001</td>  <td>1.144</td>  <td>4.7028</td>  <td>True</td> \n",
       "</tr>\n",
       "<tr>\n",
       "  <td>hispanic</td>   <td>other</td>   <td>-0.3324</td>   <td>0.9</td>  <td>-2.7744</td> <td>2.1097</td>  <td>False</td>\n",
       "</tr>\n",
       "<tr>\n",
       "  <td>hispanic</td>    <td>red</td>    <td>-1.5923</td> <td>0.4679</td> <td>-4.119</td>  <td>0.9344</td>  <td>False</td>\n",
       "</tr>\n",
       "<tr>\n",
       "  <td>hispanic</td>   <td>white</td>   <td>1.5758</td>  <td>0.0036</td> <td>0.3468</td>  <td>2.8048</td>  <td>True</td> \n",
       "</tr>\n",
       "<tr>\n",
       "    <td>other</td>     <td>red</td>    <td>-1.2599</td> <td>0.8613</td> <td>-4.4692</td> <td>1.9494</td>  <td>False</td>\n",
       "</tr>\n",
       "<tr>\n",
       "    <td>other</td>    <td>white</td>   <td>1.9082</td>  <td>0.1793</td> <td>-0.4212</td> <td>4.2375</td>  <td>False</td>\n",
       "</tr>\n",
       "<tr>\n",
       "     <td>red</td>     <td>white</td>   <td>3.1681</td>  <td>0.0027</td> <td>0.7502</td>   <td>5.586</td>  <td>True</td> \n",
       "</tr>\n",
       "</table>"
      ],
      "text/plain": [
       "<class 'statsmodels.iolib.table.SimpleTable'>"
      ]
     },
     "execution_count": 5,
     "metadata": {},
     "output_type": "execute_result"
    },
    {
     "data": {
      "image/png": "[encoded data removed]",
      "text/plain": [
       "<Figure size 720x432 with 1 Axes>"
      ]
     },
     "metadata": {
      "needs_background": "light"
     },
     "output_type": "display_data"
    }
   ],
   "source": [
    "# Perform the turkey pairwise test\n",
    "tukey = pairwise_tukeyhsd(endog=voter_age,     # Data\n",
    "                          groups=voter_race,   # Groups\n",
    "                          alpha=0.05)          # Significance level\n",
    "\n",
    "# Plot the graph between them for the group confidence intervals\n",
    "tukey.plot_simultaneous()   \n",
    "# Plot a vertical line with parameters as x=49.57, ymin=-0.5, ymax=4.5, color=\"red\"\n",
    "plt.vlines(x=49.57,ymin=-0.5,ymax=4.5, color=\"red\")\n",
    "\n",
    "# See the test summary\n",
    "tukey.summary()             \n"
   ]
  }
 ],
 "metadata": {
  "kernelspec": {
   "display_name": "Python 3",
   "language": "python",
   "name": "python3"
  },
  "language_info": {
   "codemirror_mode": {
    "name": "ipython",
    "version": 3
   },
   "file_extension": ".py",
   "mimetype": "text/x-python",
   "name": "python",
   "nbconvert_exporter": "python",
   "pygments_lexer": "ipython3",
   "version": "3.7.5"
  }
 },
 "nbformat": 4,
 "nbformat_minor": 2
}
