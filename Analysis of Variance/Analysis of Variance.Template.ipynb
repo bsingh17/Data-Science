{
 "cells": [
  {
   "cell_type": "markdown",
   "metadata": {},
   "source": [
    "# Analysis of Variance"
   ]
  },
  {
   "cell_type": "markdown",
   "metadata": {},
   "source": [
    "#### Analysis of variance (ANOVA) is a collection of statistical models and their associated estimation procedures"
   ]
  },
  {
   "cell_type": "markdown",
   "metadata": {},
   "source": [
    "In this project we will be analysing the variance by generating the own data for comparing more than 2 groups. "
   ]
  },
  {
   "cell_type": "markdown",
   "metadata": {},
   "source": [
    "Here, we will be creating a own data of races with age and compare with the voter's age. We will be doing the ANOVA and performing t-test on each pair. Finally we will perform pairwise_tukeyhsd "
   ]
  },
  {
   "cell_type": "markdown",
   "metadata": {},
   "source": [
    "### Importing the Necessary Libraries"
   ]
  },
  {
   "cell_type": "code",
   "execution_count": null,
   "metadata": {},
   "outputs": [],
   "source": [
    "# Importing the necessary Libraries\n",
    "\n",
    "# Library for creating arrays\n",
    "\n",
    "# Library for dealing with dataframes \n",
    "\n",
    "# Library for plotting graphs\n",
    "\n",
    "# Library for statistical functions\n",
    "\n",
    "# Library for pairwise_tukeyhsd model\n"
   ]
  },
  {
   "cell_type": "markdown",
   "metadata": {},
   "source": [
    "### Doing ANOVA for data with same mean"
   ]
  },
  {
   "cell_type": "code",
   "execution_count": null,
   "metadata": {},
   "outputs": [],
   "source": [
    "# Generating the random array\n",
    "\n",
    "\n",
    "# Creating the column for race consising of the names of races\n",
    "\n",
    "\n",
    "# Generate random data for voter_race with parameters as a= races,p = [0.05, 0.10 ,0.25, 0.05, 0.5,0.05], size=1000\n",
    "\n",
    "\n",
    "\n",
    "# Generate the data for voter_age by poisson process with random variates with parameters as loc=18,mu=30,size=1000\n",
    "\n",
    "\n",
    "\n",
    "\"Here we have created the groups with same mean\"\n",
    "\n",
    "# Group the voter_age data by voter_race and create the group\n",
    "\n",
    "\n",
    "\n",
    "# Extract individual groups of race\n",
    "\n",
    "\n",
    "\n",
    "\n",
    "\n",
    "\n",
    "\n",
    "# Perform the ANOVA\n"
   ]
  },
  {
   "cell_type": "markdown",
   "metadata": {},
   "source": [
    "### Doing ANOVA for data with same mean"
   ]
  },
  {
   "cell_type": "code",
   "execution_count": null,
   "metadata": {},
   "outputs": [],
   "source": [
    "# Generating the random array\n",
    "\n",
    "\n",
    "# Generate random data for the voter_race with parameters as a= races,p = [0.05, 0.10 ,0.25, 0.05, 0.5,0.05], size=1000\n",
    "\n",
    "\n",
    "\n",
    "# Create data for white_ages with by poisson process with random variates with different mean with parameters as loc=18,mu=32,size=1000\n",
    "\n",
    "\n",
    "\n",
    "# Generate the data for voter_age by poisson process with random variates with parameters as loc=18,mu=30,size=1000\n",
    "\n",
    "\n",
    "\n",
    "\n",
    "# Compare the whites_age and voter_age where the voter race is \"white\" \n",
    "\n",
    "\n",
    "# Group the voter_age data by voter_race and create the group\n",
    "\n",
    "\n",
    "\n",
    "# Extract individual groups of race\n",
    "\n",
    "\n",
    "\n",
    "\n",
    "\n",
    "\n",
    "\n",
    "# Perform the ANOVA\n"
   ]
  },
  {
   "cell_type": "markdown",
   "metadata": {},
   "source": [
    "### Perform T_Test on each pair"
   ]
  },
  {
   "cell_type": "code",
   "execution_count": null,
   "metadata": {},
   "outputs": [],
   "source": [
    "\n",
    "# Get all race pairs using the for loop\n",
    "\n",
    "\n",
    "# Conduct t-test on each pair using for loop\n",
    "\n",
    "\n",
    "\n"
   ]
  },
  {
   "cell_type": "markdown",
   "metadata": {},
   "source": [
    "### Perform turkey pairwise test"
   ]
  },
  {
   "cell_type": "code",
   "execution_count": null,
   "metadata": {},
   "outputs": [],
   "source": [
    "# Perform the turkey pairwise test  with parameters as endog=voter_age,groups=voter_race, alpha=0.05\n",
    "\n",
    "\n",
    "\n",
    "\n",
    "# Plot the graph between them for the group confidence intervals\n",
    "  \n",
    "# Plot a vertical line with parameters as x=49.57, ymin=-0.5, ymax=4.5, color=\"red\"\n",
    "\n",
    "\n",
    "# See the test summary\n",
    "            \n"
   ]
  },
  {
   "cell_type": "markdown",
   "metadata": {},
   "source": [
    "## Write down your Inference here:"
   ]
  },
  {
   "cell_type": "markdown",
   "metadata": {},
   "source": [
    "\n",
    "\n"
   ]
  }
 ],
 "metadata": {
  "kernelspec": {
   "display_name": "Python 3",
   "language": "python",
   "name": "python3"
  },
  "language_info": {
   "codemirror_mode": {
    "name": "ipython",
    "version": 3
   },
   "file_extension": ".py",
   "mimetype": "text/x-python",
   "name": "python",
   "nbconvert_exporter": "python",
   "pygments_lexer": "ipython3",
   "version": "3.7.5"
  }
 },
 "nbformat": 4,
 "nbformat_minor": 2
}
