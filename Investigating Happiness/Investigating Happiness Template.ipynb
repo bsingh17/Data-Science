{
 "cells": [
  {
   "cell_type": "markdown",
   "metadata": {},
   "source": [
    "<img src=\"https://allthatsinteresting.com/wordpress/wp-content/uploads/2016/03/giphy-4.gif\" width=\"700px\">\n",
    "\n"
   ]
  },
  {
   "cell_type": "markdown",
   "metadata": {},
   "source": [
    "### **Introduction**: \n",
    "\n",
    "* In this project, you'll build a Model to determine the most important factors in day-to-day life that makes a person happy. We've provided some of the code, but left most of the part for you. After you've submitted this project, feel free to explore the data and the model more.\n",
    "* The World Happiness Report is an annual publication of the United Nations Sustainable Development Solutions Network. It contains articles, and rankings of national happiness based on respondent ratings of their own lives,which the report also correlates with various life factors\n",
    "\n",
    "* The rankings of national happiness are based on a Cantril ladder survey. Nationally representative samples of respondents are asked to think of a ladder, with the best possible life for them being a 10, and the worst possible life being a 0. They are then asked to rate their own current lives on that 0 to 10 scale. The report correlates the results with various life factors.\n",
    "\n",
    "* In the reports, experts in fields including economics, psychology, survey analysis, and national statistics, describe how measurements of well-being can be used effectively to assess the progress of nations, and other topics. Each report is organized by chapters that delve deeper into issues relating to happiness, including mental illness, the objective benefits of happiness, the importance of ethics, policy implications, and links with the Organisation for Economic Co-operation and Development's (OECD) approach to measuring subjective well-being and other international and national efforts.\n",
    "\n",
    "\n",
    "\n",
    "\n"
   ]
  },
  {
   "cell_type": "markdown",
   "metadata": {},
   "source": [
    "#### -------------------------------------------------------------------------------------------------------------------------------------------------------------------"
   ]
  },
  {
   "cell_type": "markdown",
   "metadata": {},
   "source": [
    "## Is this GDP per capita which makes you happy ?\n",
    "\n",
    "<img src=\"https://i.pinimg.com/originals/35/da/23/35da236b480636ec8ffee367281fe1b1.gif\" \n",
    "width=\"700\" height=\"300\" />"
   ]
  },
  {
   "cell_type": "markdown",
   "metadata": {},
   "source": [
    "## Is this Perception of Corruption about Goverment, which make you sad?\n",
    "\n",
    "\n",
    "<img src=\"https://media.tenor.com/images/50c6b91a0384dcc0c715abe9326789cd/tenor.gif\" \n",
    "width=\"700\" height=\"400\" />\n",
    "\n"
   ]
  },
  {
   "cell_type": "markdown",
   "metadata": {},
   "source": [
    "## Is this Freedom of Life Choises which makes you happy ?\n",
    "\n",
    "<img src=\"https://media0.giphy.com/media/OmAdpbVnAAWJO/giphy.gif\"\n",
    "width=\"700\" height=\"400\" />\n",
    "\n"
   ]
  },
  {
   "cell_type": "markdown",
   "metadata": {},
   "source": [
    "## Let us explore the factor of happiness.\n",
    "\n",
    "\n",
    "<img src=\"https://media1.giphy.com/media/1rKFURpStAa8VOiBLg/giphy.gif\" \n",
    "width=\"700\" height=\"400\" />\n",
    "\n"
   ]
  },
  {
   "cell_type": "markdown",
   "metadata": {},
   "source": [
    "<a id='description'></a>\n",
    "\n",
    "\n",
    "# Description \n",
    "\n",
    "In this project you are going to explore and explain the <span style=\"color: blue;\">**relationship**</span>  between <span style=\"color: blue;\">**happiness score**</span> and other variable like <span style=\"color: green;\">**GDP per Capita**</span>, <span style=\"color: green;\">**Life Expectancy**</span>, <span style=\"color: green;\">**Freedom**</span> etc.\n",
    "\n",
    "### Dataset\n",
    "\n",
    "The dataset which you are going to use is the world happiness report data. \n",
    "\n",
    "#### Context\n",
    "\n",
    "The World Happiness Report is a landmark survey of the state of global happiness. The first report was published in 2012, the second in 2013, the third in 2015, and the fourth in the 2016 Update. The World Happiness 2017, which ranks 155 countries by their happiness levels, was released at the United Nations at an event celebrating International Day of Happiness on March 20th. The report continues to gain global recognition as governments, organizations and civil society increasingly use happiness indicators to inform their policy-making decisions. Leading experts across fields – economics, psychology, survey analysis, national statistics, health, public policy and more – describe how measurements of well-being can be used effectively to assess the progress of nations. The reports review the state of happiness in the world today and show how the new science of happiness explains personal and national variations in happiness.\n",
    "\n",
    "#### Content\n",
    "\n",
    "The happiness scores and rankings use data from the Gallup World Poll. The scores are based on answers to the main life evaluation question asked in the poll. This question, known as the Cantril ladder, asks respondents to think of a ladder with the best possible life for them being a 10 and the worst possible life being a 0 and to rate their own current lives on that scale. The scores are from nationally representative samples for the years 2013-2016 and use the Gallup weights to make the estimates representative. The columns following the happiness score estimate the extent to which each of six factors – economic production, social support, life expectancy, freedom, absence of corruption, and generosity – contribute to making life evaluations higher in each country than they are in Dystopia, a hypothetical country that has values equal to the world’s lowest national averages for each of the six factors. They have no impact on the total score reported for each country, but they do explain why some countries rank higher than others.\n",
    "\n",
    "#### Inspiration\n",
    "\n",
    "What countries or regions rank the highest in overall happiness and each of the six factors contributing to happiness? How did country ranks or scores change between the 2015 and 2016 as well as the 2016 and 2017 reports? Did any country experience a significant increase or decrease in happiness?\n",
    "\n",
    "#### What is Dystopia?\n",
    "\n",
    "Dystopia is an imaginary country that has the world’s least-happy people. The purpose in establishing Dystopia is to have a benchmark against which all countries can be favorably compared (no country performs more poorly than Dystopia) in terms of each of the six key variables, thus allowing each sub-bar to be of positive width. The lowest scores observed for the six key variables, therefore, characterize Dystopia. Since life would be very unpleasant in a country with the world’s lowest incomes, lowest life expectancy, lowest generosity, most corruption, least freedom and least social support, it is referred to as “Dystopia,” in contrast to Utopia.\n",
    "\n",
    "\n",
    "#### What do the columns succeeding the Happiness Score(like Family, Generosity, etc.) describe?\n",
    "\n",
    "The following columns: GDP per Capita, Family, Life Expectancy, Freedom, Generosity, Trust Government Corruption describe the extent to which these factors contribute in evaluating the happiness in each country. The Dystopia Residual metric actually is the Dystopia Happiness Score(1.85) + the Residual value or the unexplained value for each country as stated in the previous answer.\n",
    "\n",
    "If you add all these factors up, you get the happiness score so it might be un-reliable to model them to predict Happiness Scores.\n",
    "\n"
   ]
  },
  {
   "cell_type": "markdown",
   "metadata": {},
   "source": [
    "## Analyzing Happiness around the Globe.\n",
    "\n",
    "### Lets Start\n"
   ]
  },
  {
   "cell_type": "markdown",
   "metadata": {},
   "source": [
    "## Importing some useful libraries\n",
    "\n"
   ]
  },
  {
   "cell_type": "code",
   "execution_count": null,
   "metadata": {
    "_cell_guid": "b1076dfc-b9ad-4769-8c92-a6c4dae69d19",
    "_kg_hide-input": true,
    "_kg_hide-output": true,
    "_uuid": "8f2839f25d086af736a60e9eeb907d3b93b6e0e5"
   },
   "outputs": [],
   "source": [
    "# for some basic operations\n",
    "import numpy as np \n",
    "import pandas as pd\n",
    "\n",
    "# for visualizations\n",
    "import matplotlib.pyplot as plt\n",
    "import seaborn as sns\n",
    "plt.style.use('fivethirtyeight')\n",
    "\n",
    "\n",
    "# for interactive visualizations\n",
    "import plotly.offline as py\n",
    "from plotly.offline import init_notebook_mode, iplot\n",
    "import plotly.graph_objs as go\n",
    "init_notebook_mode(connected = True)\n",
    "from bubbly.bubbly import bubbleplot\n",
    "\n",
    "# for model interpretations\n",
    "import eli5\n",
    "from eli5.sklearn import PermutationImportance\n",
    "from lightgbm import LGBMRegressor\n"
   ]
  },
  {
   "cell_type": "markdown",
   "metadata": {},
   "source": [
    "## Reading the dataset\n",
    "\n",
    "In this model you are going to use data for only 2015, 2016 and 2017. And you will use this data interchangably to avoid repeating some parts. Later on after going through this model you can explore data for 2018 and 2019 yourself.\n",
    "\n"
   ]
  },
  {
   "cell_type": "code",
   "execution_count": null,
   "metadata": {
    "_cell_guid": "79c7e3d0-c299-4dcb-8224-4455121ee9b0",
    "_kg_hide-input": true,
    "_kg_hide-output": true,
    "_uuid": "d629ff2d2480ee46fbb7e2d37f6b5fab8052498a"
   },
   "outputs": [],
   "source": [
    "# mention the datapath\n",
    "\n",
    "data_path_2015=''\n",
    "data_path_2016=''\n",
    "data_path_2017=''\n",
    "\n",
    "\n",
    "data_2015 = pd.read_csv(\"data_path_2015\")\n",
    "data_2016 = pd.read_csv(\"data_path_2016\")\n",
    "data_2017 = pd.read_csv(\"data_path_2017\")\n"
   ]
  },
  {
   "cell_type": "markdown",
   "metadata": {},
   "source": [
    "## Understanding the data\n",
    "\n",
    "A critical step in working with machine learning models is preparing the data correctly. Variables on different scales make it difficult for the network to efficiently learn the correct weights. Below, we've written the code to load and prepare the data. You'll learn more about this soon!\n",
    "\n"
   ]
  },
  {
   "cell_type": "code",
   "execution_count": null,
   "metadata": {},
   "outputs": [],
   "source": [
    "data_2015.head()"
   ]
  },
  {
   "cell_type": "code",
   "execution_count": null,
   "metadata": {},
   "outputs": [],
   "source": [
    "data_2016.head()"
   ]
  },
  {
   "cell_type": "code",
   "execution_count": null,
   "metadata": {},
   "outputs": [],
   "source": [
    "data_2017.head()"
   ]
  },
  {
   "cell_type": "code",
   "execution_count": null,
   "metadata": {},
   "outputs": [],
   "source": [
    "data_2015.describe()"
   ]
  },
  {
   "cell_type": "code",
   "execution_count": null,
   "metadata": {},
   "outputs": [],
   "source": [
    "data_2016.describe()"
   ]
  },
  {
   "cell_type": "code",
   "execution_count": null,
   "metadata": {},
   "outputs": [],
   "source": [
    "data_2017.describe()"
   ]
  },
  {
   "cell_type": "markdown",
   "metadata": {},
   "source": [
    "Since now you have seen that data have not changed considerably so you will use all 3 years data interchangably throughout this model\n",
    "\n"
   ]
  },
  {
   "cell_type": "markdown",
   "metadata": {},
   "source": [
    "## Exploratory Data Analysis\n",
    "\n",
    "### 1. Bi-variate data analysis\n",
    "\n",
    "* Bivariate analysis is the simultaneous analysis of two variables (attributes). It explores the concept of relationship between two variables, whether there exists an association and the strength of this association, or whether there are differences between two variables and the significance of these differences. There are three types of bivariate analysis.\t\t\n",
    " \t\t\n",
    ">Numerical & Numerical- It is performed when the variables to be analyzed are both numerical.\n",
    "\n",
    ">Categorical & Categorical- It is performed when the variables to be analyzed are both categorical.\n",
    "\n",
    ">Numerical & Categorical- It is performed when one of the variables to be analyzed is numerical and other is categorical.\n",
    "\n",
    "Now lets make a violin plot between \"Happiness Score\" and \"Region\" to see how the happiness of people vary across different parts of the world. \n",
    "\n"
   ]
  },
  {
   "cell_type": "code",
   "execution_count": null,
   "metadata": {},
   "outputs": [],
   "source": [
    "# Make a violin plot for any year data\n",
    "# happiness score vs continents\n",
    "\n",
    "## Start code\n",
    "\n",
    "\n",
    "\n",
    "## end code\n"
   ]
  },
  {
   "cell_type": "markdown",
   "metadata": {},
   "source": [
    "### Multi-Variate Analysis\n",
    "\n",
    "* Multivariate analysis (MVA) is based on the principles of multivariate statistics, which involves observation and analysis of more than one statistical outcome variable at a time. Typically, MVA is used to address the situations where multiple measurements are made on each experimental unit and the relations among these measurements and their structures are important.\n",
    "\n",
    "* Essentially, multivariate analysis is a tool to find patterns and relationships between several variables simultaneously. It lets us predict the effect a change in one variable will have on other variables. ... This gives multivariate analysis a decisive advantage over other forms of analysis.\n"
   ]
  },
  {
   "cell_type": "markdown",
   "metadata": {},
   "source": [
    "### Correlations Between the Data\n",
    "\n",
    "**What is a heatmap??**\n",
    "* A heatmap is a two-dimensional graphical representation of data where the individual values that are contained in a matrix are represented as colors. The seaborn python package allows the creation of annotated heatmaps which can be tweaked using Matplotlib tools as per the creator's requirement.\n",
    "\n",
    "* Image below is of a heatmap.\n",
    "\n",
    "<img src=\"https://d1rwhvwstyk9gu.cloudfront.net/2017/07/seaburn-2.png\"\n",
    "     width=\"800px\">\n",
    "\n",
    "Lets find some top correlating features of this dataset by making a heatmap using Seaborn Library.\n",
    "\n"
   ]
  },
  {
   "cell_type": "code",
   "execution_count": null,
   "metadata": {
    "_kg_hide-input": true
   },
   "outputs": [],
   "source": [
    "# Make a heatmap for any year data\n",
    "\n",
    "## start data\n",
    "\n",
    "\n",
    "\n",
    "## end data"
   ]
  },
  {
   "cell_type": "markdown",
   "metadata": {},
   "source": [
    "\n"
   ]
  },
  {
   "cell_type": "markdown",
   "metadata": {},
   "source": [
    "Lets analyze these heatmap region wise to get a better insight.\n",
    "Code for making one of the heatmap is provided below and others are left for you to write their code.\n",
    "\n",
    "## 1. Correlations for Western Europe\n",
    "\n"
   ]
  },
  {
   "cell_type": "code",
   "execution_count": null,
   "metadata": {
    "_kg_hide-input": true
   },
   "outputs": [],
   "source": [
    "plt.rcParams['figure.figsize'] = (20, 15)\n",
    "\n",
    "d = data_2016.loc[lambda data_2016: data_2016['Region'] == 'Western Europe']\n",
    "sns.heatmap(d.corr(), cmap = 'Wistia', annot = True)\n",
    "\n",
    "plt.show()\n",
    "\n"
   ]
  },
  {
   "cell_type": "markdown",
   "metadata": {},
   "source": [
    "\n"
   ]
  },
  {
   "cell_type": "markdown",
   "metadata": {},
   "source": [
    "## 2. Correlations for Eastern Asia\n",
    "\n"
   ]
  },
  {
   "cell_type": "code",
   "execution_count": null,
   "metadata": {
    "_kg_hide-input": true
   },
   "outputs": [],
   "source": [
    "# Make a heatmap for 2016 year data for Eastern Asia region only\n",
    "\n",
    "## start data\n",
    "\n",
    "\n",
    "\n",
    "## end data\n",
    "\n"
   ]
  },
  {
   "cell_type": "markdown",
   "metadata": {},
   "source": [
   ]
  },
  {
   "cell_type": "markdown",
   "metadata": {},
   "source": [
    "## 3. North America\n",
    "\n"
   ]
  },
  {
   "cell_type": "code",
   "execution_count": null,
   "metadata": {
    "_kg_hide-input": true
   },
   "outputs": [],
   "source": [
    "# Make a heatmap for 2016 year data for Northern America region only\n",
    "\n",
    "## start data\n",
    "\n",
    "\n",
    "\n",
    "## end data"
   ]
  },
  {
   "cell_type": "markdown",
   "metadata": {},
   "source": [
   ]
  },
  {
   "cell_type": "markdown",
   "metadata": {},
   "source": [
    "## 4. Middle East and Northern Africa\n",
    "\n"
   ]
  },
  {
   "cell_type": "code",
   "execution_count": null,
   "metadata": {
    "_kg_hide-input": true
   },
   "outputs": [],
   "source": [
    "# Make a heatmap for 2016 year data for Middle East and Northern Africa region only\n",
    "\n",
    "## start data\n",
    "\n",
    "\n",
    "\n",
    "## end data\n"
   ]
  },
  {
   "cell_type": "markdown",
   "metadata": {},
   "source": [
   ]
  },
  {
   "cell_type": "markdown",
   "metadata": {},
   "source": [
    "## 5. Sub-Saharan Africa\n",
    "\n"
   ]
  },
  {
   "cell_type": "code",
   "execution_count": null,
   "metadata": {
    "_kg_hide-input": true
   },
   "outputs": [],
   "source": [
    "\n",
    "# Make a heatmap for 2016 year data for Sub-Saharan Africa region only\n",
    "\n",
    "## start data\n",
    "\n",
    "\n",
    "\n",
    "## end data\n",
    "\n",
    "\n"
   ]
  },
  {
   "cell_type": "markdown",
   "metadata": {},
   "source": [
    "\n"
   ]
  },
  {
   "cell_type": "markdown",
   "metadata": {},
   "source": [
    "## Bubble Charts\n",
    "\n",
    " * A bubble chart (aka bubble plot) is an extension of the scatter plot used to look at relationships between three numeric variables. Each dot in a bubble chart corresponds with a single data point, and the variables' values for each point are indicated by horizontal position, vertical position, and dot size.\n",
    " \n",
    " * Like the scatter plot, a bubble chart is primarily used to depict and show relationships between numeric variables. However, the addition of marker size as a dimension allows for the comparison between three variables rather than just two.\n",
    "\n",
    "Lets make some bubble charts to analyze the type of relationship among various features of the dataset.\n",
    "Code for making one bubble chart is provided below to explain you its implementation and others are left for you to write their code at your own.\n",
    "\n"
   ]
  },
  {
   "cell_type": "code",
   "execution_count": null,
   "metadata": {
    "_kg_hide-input": true
   },
   "outputs": [],
   "source": [
    "# Happiness vs Generosity vs Economy\n",
    "\n",
    "import warnings\n",
    "warnings.filterwarnings('ignore')\n",
    "\n",
    "figure = bubbleplot(dataset = data_2015, x_column = 'Happiness Score', y_column = 'Generosity', \n",
    "    bubble_column = 'Country', size_column = 'Economy (GDP per Capita)', color_column = 'Region', \n",
    "    x_title = \"Happiness Score\", y_title = \"Generosity\", title = 'Happiness vs Generosity vs Economy',\n",
    "    x_logscale = False, scale_bubble = 1, height = 650)\n",
    "\n",
    "py.iplot(figure, config={'scrollzoom': True})"
   ]
  },
  {
   "cell_type": "code",
   "execution_count": null,
   "metadata": {
    "_kg_hide-input": true
   },
   "outputs": [],
   "source": [
    "# Make a bubble chart using 2015 year data\n",
    "# Happiness vs Trust vs Economy\n",
    "\n",
    "## start code\n",
    "\n",
    "\n",
    "\n",
    "\n",
    "\n",
    "## end code\n"
   ]
  },
  {
   "cell_type": "code",
   "execution_count": null,
   "metadata": {
    "_kg_hide-input": true
   },
   "outputs": [],
   "source": [
    "# Make a bubble chart using 2016 year data\n",
    "# Happiness vs Health vs Economy\n",
    "\n",
    "## start code\n",
    "\n",
    "\n",
    "\n",
    "\n",
    "\n",
    "## end code\n"
   ]
  },
  {
   "cell_type": "code",
   "execution_count": null,
   "metadata": {
    "_kg_hide-input": true
   },
   "outputs": [],
   "source": [
    "# Make a bubble chart using 2015 year data\n",
    "# Happiness vs Family vs Economy\n",
    "\n",
    "## start code\n",
    "\n",
    "\n",
    "\n",
    "\n",
    "\n",
    "## end code\n"
   ]
  },
  {
   "cell_type": "markdown",
   "metadata": {},
   "source": [
    "> Bubble plot to depict the relation between the Happiness Scores vs Family Satisfaction where size of the bubbles is represented by the Economy and the color of the bubbles is represented by the Different Regions of the World.\n",
    "\n",
    "\n"
   ]
  },
  {
   "cell_type": "markdown",
   "metadata": {},
   "source": [
    "## Bullet Chart\n",
    "\n",
    "* A bullet graph is a variation of a bar graph developed to replace dashboard gauges and meters. A bullet graph is useful for comparing the performance of a primary measure to one or more other measures.\n",
    "\n",
    "* Bullet charts came into existence to overcome the drawbacks of Gauge charts. We can refer to them as Liner Gauge charts.\n",
    "\n",
    "Lets make a bullet Chart to Represent the Range for some of the most Important Attributes given in the data.\n",
    "\n"
   ]
  },
  {
   "cell_type": "code",
   "execution_count": null,
   "metadata": {
    "_kg_hide-input": true
   },
   "outputs": [],
   "source": [
    "import plotly.figure_factory as ff\n",
    "\n",
    "data = (\n",
    "  {\"label\": \"Happiness\", \"sublabel\":\"score\",\n",
    "   \"range\": [5, 6, 8], \"performance\": [5.5, 6.5], \"point\": [7]},\n",
    "  {\"label\": \"Economy\", \"sublabel\": \"score\", \"range\": [0, 1, 2],\n",
    "   \"performance\": [1, 1.5], \"sublabel\":\"score\",\"point\": [1.5]},\n",
    "  {\"label\": \"Family\",\"sublabel\":\"score\", \"range\": [0, 1, 2],\n",
    "   \"performance\": [1, 1.5],\"sublabel\":\"score\", \"point\": [1.3]},\n",
    "  {\"label\": \"Freedom\",\"sublabel\":\"score\", \"range\": [0, 0.3, 0.6],\n",
    "   \"performance\": [0.3, 0.4],\"sublabel\":\"score\", \"point\": [0.5]},\n",
    "  {\"label\": \"Trust\", \"sublabel\":\"score\",\"range\": [0, 0.2, 0.5],\n",
    "   \"performance\": [0.3, 0.4], \"point\": [0.4]}\n",
    ")\n",
    "\n",
    "\n",
    "\n",
    "fig = ff.create_bullet(\n",
    "    data, titles='label', subtitles='sublabel', markers='point',\n",
    "    measures='performance', ranges='range', orientation='v',\n",
    ")\n",
    "py.iplot(fig, filename='bullet chart from dict')"
   ]
  },
  {
   "cell_type": "markdown",
   "metadata": {},
   "source": [
    "> Bullet Chart to Represent the Range for some of the most Important Attributes given in the data. We have taken Happiness, Economy, Freedom, and Family. for analysis of their range.\n",
    "\n",
    "* If the values for the given attributes lie in the Dark Blue Region then it is in the critical region.\n",
    "\n",
    "* If the values for the given attributes lie in the light blue region then is is in good condition.\n",
    "\n",
    "* If the values for the given attributes lie above or near the diamond then is in the best state or condition.\n",
    "\n",
    "* White Regions are depicting the Maxima that could be achieved.\n",
    "\n",
    "You can make more of Bullet Charts for better visualizations.\n",
    "\n"
   ]
  },
  {
   "cell_type": "markdown",
   "metadata": {},
   "source": [
    "## Pie Chart\n",
    "\n"
   ]
  },
  {
   "cell_type": "code",
   "execution_count": null,
   "metadata": {
    "_kg_hide-input": true
   },
   "outputs": [],
   "source": [
    "# Make a pie chart pie that depicts the Number of Countries from each Region\n",
    "\n",
    "## start code\n",
    "\n",
    "\n",
    "\n",
    "\n",
    "\n",
    "\n",
    "\n",
    "\n",
    "## end code\n"
   ]
  },
  {
   "cell_type": "markdown",
   "metadata": {},
   "source": [
    "> The Above pie chart depicts the Number of Countries from each Region, \n",
    "\n",
    "\n"
   ]
  },
  {
   "cell_type": "markdown",
   "metadata": {},
   "source": [
    "## Chloropleth Maps\n",
    "\n",
    "* A Choropleth Map is a map composed of colored polygons. It is used to represent spatial variations of a quantity. This page documents how to build outline choropleth maps, but you can also build choropleth tile maps using our Mapbox trace types.\n",
    "* Making choropleth maps requires two main types of input:\n",
    "\n",
    "1. Geometry information:\n",
    "\n",
    ">>This can either be a supplied GeoJSON file where each feature has either an id field or some identifying value in properties; or\n",
    "\n",
    ">>one of the built-in geometries within plotly: US states and world countries \n",
    "\n",
    "2. A list of values indexed by feature identifier.\n",
    "\n",
    ">>The GeoJSON data is passed to the geojson argument, and the data is passed into the color argument of px.choropleth (z if using graph_objects), in the same order as the IDs are passed into the location argument.\n",
    "\n",
    "* Note the geojson attribute can also be the URL to a GeoJSON file, which can speed up map rendering in certain cases.\n",
    "Lets make some chloropleth maps to get a better insight in relationshop between \"Country\" and other features.\n",
    "Code for making one Chloropleth map is provided below to explain you its implementation and others are left for you to write their code at your own.\n",
    "\n"
   ]
  },
  {
   "cell_type": "markdown",
   "metadata": {},
   "source": [
    "### Country vs Generosity\n",
    "\n"
   ]
  },
  {
   "cell_type": "code",
   "execution_count": null,
   "metadata": {
    "_kg_hide-input": true
   },
   "outputs": [],
   "source": [
    "trace1 = [go.Choropleth(\n",
    "               colorscale = 'Earth',\n",
    "               locationmode = 'country names',\n",
    "               locations = data_2017['Country'],\n",
    "               text = data_2017['Country'], \n",
    "               z = data_2017['Generosity'],\n",
    "               )]\n",
    "\n",
    "layout = dict(title = 'Generosity',\n",
    "                  geo = dict(\n",
    "                      showframe = True,\n",
    "                      showocean = True,\n",
    "                      showlakes = True,\n",
    "                      showcoastlines = True,\n",
    "                      projection = dict(\n",
    "                          type = 'hammer'\n",
    "        )))\n",
    "\n",
    "\n",
    "projections = [ \"equirectangular\", \"mercator\", \"orthographic\", \"natural earth\",\"kavrayskiy7\", \n",
    "               \"miller\", \"robinson\", \"eckert4\", \"azimuthal equal area\",\"azimuthal equidistant\", \n",
    "               \"conic equal area\", \"conic conformal\", \"conic equidistant\", \"gnomonic\", \"stereographic\", \n",
    "               \"mollweide\", \"hammer\", \"transverse mercator\", \"albers usa\", \"winkel tripel\" ]\n",
    "\n",
    "buttons = [dict(args = ['geo.projection.type', y],\n",
    "           label = y, method = 'relayout') for y in projections]\n",
    "annot = list([ dict( x=0.1, y=0.8, text='Projection', yanchor='bottom', \n",
    "                    xref='paper', xanchor='right', showarrow=False )])\n",
    "\n",
    "\n",
    "# Update Layout Object\n",
    "\n",
    "layout[ 'updatemenus' ] = list([ dict( x=0.1, y=0.8, buttons=buttons, yanchor='top' )])\n",
    "layout[ 'annotations' ] = annot\n",
    "\n",
    "\n",
    "fig = go.Figure(data = trace1, layout = layout)\n",
    "py.iplot(fig)\n",
    "\n"
   ]
  },
  {
   "cell_type": "markdown",
   "metadata": {},
   "source": [
    "\n"
   ]
  },
  {
   "cell_type": "markdown",
   "metadata": {},
   "source": [
    "### Top 10 Most Generous Countries\n",
    "\n"
   ]
  },
  {
   "cell_type": "code",
   "execution_count": null,
   "metadata": {
    "_kg_hide-input": true
   },
   "outputs": [],
   "source": [
    "data_2017[['Country', 'Generosity']].sort_values(by = 'Generosity',\n",
    "                                                ascending = False).head(10)"
   ]
  },
  {
   "cell_type": "markdown",
   "metadata": {},
   "source": [
    "### Country vs Trust in Government (Corruption)\n",
    "\n"
   ]
  },
  {
   "cell_type": "code",
   "execution_count": null,
   "metadata": {
    "_kg_hide-input": true
   },
   "outputs": [],
   "source": [
    "# Make a chloropleth map for depicting Country vs Trust in Government (Corruption) for 2017 year data\n",
    "\n",
    "## start code \n",
    "\n",
    "\n",
    "\n",
    "\n",
    "\n",
    "\n",
    "\n",
    "\n",
    "\n",
    "\n",
    "\n",
    "\n",
    "\n",
    "\n",
    "\n",
    "\n",
    "\n",
    "\n",
    "\n",
    "\n",
    "\n",
    "## end code"
   ]
  },
  {
   "cell_type": "markdown",
   "metadata": {},
   "source": [
   ]
  },
  {
   "cell_type": "markdown",
   "metadata": {},
   "source": [
    "### Top 10 Countries with Trust in Government\n",
    "\n"
   ]
  },
  {
   "cell_type": "code",
   "execution_count": null,
   "metadata": {
    "_kg_hide-input": true
   },
   "outputs": [],
   "source": [
    "data_2017[['Country', 'Trust..Government.Corruption.']].sort_values(by = 'Trust..Government.Corruption.',\n",
    "                                                                     ascending = False).head(10)"
   ]
  },
  {
   "cell_type": "markdown",
   "metadata": {},
   "source": [
    "### Country vs Family Satisfaction Index"
   ]
  },
  {
   "cell_type": "code",
   "execution_count": null,
   "metadata": {
    "_kg_hide-input": true,
    "_kg_hide-output": false
   },
   "outputs": [],
   "source": [
    "# Make a chloropleth map for depicting Country vs Family Satisfaction Index for 2017 year data\n",
    "\n",
    "## start code \n",
    "\n",
    "\n",
    "\n",
    "\n",
    "\n",
    "\n",
    "\n",
    "\n",
    "\n",
    "\n",
    "\n",
    "\n",
    "\n",
    "\n",
    "\n",
    "\n",
    "\n",
    "\n",
    "\n",
    "\n",
    "\n",
    "## end code"
   ]
  },
  {
   "cell_type": "markdown",
   "metadata": {},
   "source": [
    "\n"
   ]
  },
  {
   "cell_type": "markdown",
   "metadata": {},
   "source": [
    "### Top 10 Countries in Family Satisfaction\n",
    "\n"
   ]
  },
  {
   "cell_type": "code",
   "execution_count": null,
   "metadata": {
    "_kg_hide-input": true
   },
   "outputs": [],
   "source": [
    "data_2017[['Country', 'Family']].sort_values(by = 'Family', ascending = False).head(10)\n"
   ]
  },
  {
   "cell_type": "markdown",
   "metadata": {},
   "source": [
    "### Country vs Economy (GDP per Capita)\n",
    "\n"
   ]
  },
  {
   "cell_type": "code",
   "execution_count": null,
   "metadata": {
    "_kg_hide-input": true
   },
   "outputs": [],
   "source": [
    "# Make a chloropleth map for depicting Country vs Economy (GDP per Capita) for 2017 year data\n",
    "\n",
    "## start code \n",
    "\n",
    "\n",
    "\n",
    "\n",
    "\n",
    "\n",
    "\n",
    "\n",
    "\n",
    "\n",
    "\n",
    "\n",
    "\n",
    "\n",
    "\n",
    "\n",
    "\n",
    "\n",
    "\n",
    "\n",
    "\n",
    "## end code"
   ]
  },
  {
   "cell_type": "markdown",
   "metadata": {},
   "source": [
    "\n"
   ]
  },
  {
   "cell_type": "markdown",
   "metadata": {},
   "source": [
    "## Top 10 Countries with Best Economy\n",
    "\n"
   ]
  },
  {
   "cell_type": "code",
   "execution_count": null,
   "metadata": {
    "_kg_hide-input": true
   },
   "outputs": [],
   "source": [
    "\n",
    "data_2017[['Country', 'Economy..GDP.per.Capita.']].sort_values(by = 'Economy..GDP.per.Capita.',\n",
    "            ascending = False).head(10)\n"
   ]
  },
  {
   "cell_type": "markdown",
   "metadata": {},
   "source": [
    "### Country vs Freedom\n",
    "\n"
   ]
  },
  {
   "cell_type": "code",
   "execution_count": null,
   "metadata": {
    "_kg_hide-input": true
   },
   "outputs": [],
   "source": [
    "# Make a chloropleth map for depicting Country vs Freedom for 2017 year data\n",
    "\n",
    "## start code \n",
    "\n",
    "\n",
    "\n",
    "\n",
    "\n",
    "\n",
    "\n",
    "\n",
    "\n",
    "\n",
    "\n",
    "\n",
    "\n",
    "\n",
    "\n",
    "\n",
    "\n",
    "\n",
    "\n",
    "\n",
    "\n",
    "## end code"
   ]
  },
  {
   "cell_type": "markdown",
   "metadata": {},
   "source": [
    "\n"
   ]
  },
  {
   "cell_type": "markdown",
   "metadata": {},
   "source": [
    "## Top 10 Most Freedom Oriented Countries\n",
    "\n"
   ]
  },
  {
   "cell_type": "code",
   "execution_count": null,
   "metadata": {
    "_kg_hide-input": true
   },
   "outputs": [],
   "source": [
    "\n",
    "data_2017[['Country', 'Freedom']].sort_values(by = 'Freedom', ascending = False).head(10)\n"
   ]
  },
  {
   "cell_type": "markdown",
   "metadata": {},
   "source": [
    "## Model Building\n",
    "\n",
    "* For this project your main task is to determine whih factors are most important for Happiness in people.\n",
    "\n",
    "* So for this you will not build a model as such but apply LGBMReggressor Permutaion Importance only to determine most important factors for happiness.\n",
    "\n"
   ]
  },
  {
   "cell_type": "code",
   "execution_count": null,
   "metadata": {},
   "outputs": [],
   "source": [
    "lgbm = LGBMRegressor(n_estimators=5000)\n",
    "indData = data_2016.loc[:,\"Economy (GDP per Capita)\":\"Generosity\"]\n",
    "depData = data_2016.pop(\"Happiness Score\")\n",
    "lgbm.fit(indData, depData)\n",
    "columns = indData.columns.to_list()\n",
    "perm = PermutationImportance(lgbm, random_state=10).fit(indData, depData)\n",
    "eli5.show_weights(perm, feature_names = columns)"
   ]
  },
  {
   "cell_type": "markdown",
   "metadata": {},
   "source": [
    ]
    "\n"
   ]
  },
  {
   "cell_type": "markdown",
   "metadata": {},
   "source": [
    "### At Last Country vs Happiness Rank\n",
    "\n"
   ]
  },
  {
   "cell_type": "code",
   "execution_count": null,
   "metadata": {
    "_kg_hide-input": true
   },
   "outputs": [],
   "source": [
    "trace1 = [go.Choropleth(\n",
    "               colorscale = 'Electric',\n",
    "               locationmode = 'country names',\n",
    "               locations = data_2015['Country'],\n",
    "               text = data_2015['Country'], \n",
    "               z = data_2015['Happiness Rank'],\n",
    "               )]\n",
    "\n",
    "layout = dict(title = 'Happiness Rank',\n",
    "                  geo = dict(\n",
    "                      showframe = True,\n",
    "                      showocean = True,\n",
    "                      showlakes = True,\n",
    "                      showcoastlines = True,\n",
    "                      projection = dict(\n",
    "                          type = 'hammer'\n",
    "        )))\n",
    "\n",
    "\n",
    "projections = [ \"equirectangular\", \"mercator\", \"orthographic\", \"natural earth\",\"kavrayskiy7\", \n",
    "               \"miller\", \"robinson\", \"eckert4\", \"azimuthal equal area\",\"azimuthal equidistant\", \n",
    "               \"conic equal area\", \"conic conformal\", \"conic equidistant\", \"gnomonic\", \"stereographic\", \n",
    "               \"mollweide\", \"hammer\", \"transverse mercator\", \"albers usa\", \"winkel tripel\" ]\n",
    "\n",
    "buttons = [dict(args = ['geo.projection.type', y],\n",
    "           label = y, method = 'relayout') for y in projections]\n",
    "\n",
    "annot = list([ dict( x=0.1, y=0.8, text='Projection', yanchor='bottom', \n",
    "                    xref='paper', xanchor='right', showarrow=False )])\n",
    "\n",
    "\n",
    "# Update Layout Object\n",
    "\n",
    "layout[ 'updatemenus' ] = list([ dict( x=0.1, y=0.8, buttons=buttons, yanchor='top' )])\n",
    "layout[ 'annotations' ] = annot\n",
    "\n",
    "\n",
    "fig = go.Figure(data = trace1, layout = layout)\n",
    "py.iplot(fig)\n"
   ]
  },
  {
   "cell_type": "markdown",
   "metadata": {},
   "source": [
    "\n",
    "\n"
   ]
  },
  {
   "cell_type": "markdown",
   "metadata": {},
   "source": [
    "## Top 10 Happiest Countries\n",
    "\n"
   ]
  },
  {
   "cell_type": "code",
   "execution_count": null,
   "metadata": {
    "_kg_hide-input": true
   },
   "outputs": [],
   "source": [
    "data_2016[['Country', 'Happiness Rank']].sort_values(by = 'Happiness Rank', ascending = True).head(10)\n"
   ]
  },
  {
   "cell_type": "markdown",
   "metadata": {},
   "source": [
    "## Conclusions\n",
    "\n"
   ]
  },
  {
   "cell_type": "code",
   "execution_count": null,
   "metadata": {},
   "outputs": [],
   "source": [
    "## write your conclusions here about which factors you found most important for happiness."
   ]
  },
  {
   "cell_type": "markdown",
   "metadata": {},
   "source": [
    "<img src=\"https://media.giphy.com/media/g3bKgbTctP1kI/giphy.gif\" width=\"400px\">"
   ]
  }
 ],
 "metadata": {
  "kernelspec": {
   "display_name": "Python 3",
   "language": "python",
   "name": "python3"
  },
  "language_info": {
   "codemirror_mode": {
    "name": "ipython",
    "version": 3
   },
   "file_extension": ".py",
   "mimetype": "text/x-python",
   "name": "python",
   "nbconvert_exporter": "python",
   "pygments_lexer": "ipython3",
   "version": "3.7.6"
  }
 },
 "nbformat": 4,
 "nbformat_minor": 4
}
