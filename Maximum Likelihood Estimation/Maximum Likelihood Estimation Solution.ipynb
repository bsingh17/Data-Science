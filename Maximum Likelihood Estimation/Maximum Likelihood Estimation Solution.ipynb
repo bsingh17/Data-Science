{
 "cells": [
  {
   "cell_type": "markdown",
   "metadata": {},
   "source": [
    "# 1. Intoduction\n",
    "\n",
    "Regression is an interesting technique of estimating the\n",
    "values among variables. In this project, we are going to implement\n",
    "and test regression by maximum\n",
    "likelihood estimation criteria using the gaussian function as a\n",
    "basis function to fit random noisy data we will generate, that\n",
    "represent the cosine function (plus noise).\n",
    "\n",
    "We will implement this basic model from scratch.\n",
    "All the math will be done using\n",
    "the numpy library only. The sklearn library will only be used to\n",
    "split the data into a training and test set and for Gaussian Mixture Modelling.\n"
   ]
  },
  {
   "cell_type": "markdown",
   "metadata": {},
   "source": [
    "# 2. Importing Libraries"
   ]
  },
  {
   "cell_type": "code",
   "execution_count": 1,
   "metadata": {},
   "outputs": [],
   "source": [
    "import matplotlib.pyplot as plt\n",
    "import numpy as np\n",
    "import statistics\n",
    "import random\n",
    "from sklearn.model_selection import train_test_split\n",
    "from sklearn.mixture import GaussianMixture as GMM"
   ]
  },
  {
   "cell_type": "markdown",
   "metadata": {},
   "source": [
    "# 3. Generating the dataset\n",
    "\n",
    "* So we will generate 1000 points for our x variable in range x=(0,3).\n",
    "* The target variable will be cosine of x variable plus noise"
   ]
  },
  {
   "cell_type": "code",
   "execution_count": 2,
   "metadata": {},
   "outputs": [
    {
     "data": {
      "text/plain": [
       "Text(0, 0.5, 'Target (t)')"
      ]
     },
     "execution_count": 2,
     "metadata": {},
     "output_type": "execute_result"
    },
    {
     "data": {
      "image/png": "[encoded data removed]",
      "text/plain": [
       "<Figure size 432x288 with 1 Axes>"
      ]
     },
     "metadata": {
      "needs_background": "light"
     },
     "output_type": "display_data"
    }
   ],
   "source": [
    "# Generate data\n",
    "\n",
    "f = 1/1000\n",
    "sample = 1000\n",
    "x_points = np.linspace(0, 3, num=1000)\n",
    "noise = 0.0002*np.asarray(random.sample(range(0,1000),sample))\n",
    "y_points = np.cos(x_points) + noise\n",
    "plt.plot(x_points,y_points)\n",
    "plt.xlabel('Variable (x)')\n",
    "plt.ylabel('Target (t)')"
   ]
  },
  {
   "cell_type": "markdown",
   "metadata": {},
   "source": [
    "# 4. Pre processing the data"
   ]
  },
  {
   "cell_type": "markdown",
   "metadata": {},
   "source": [
    "We will take here the train test split to be 0.2. Later on you can change it to see its effect."
   ]
  },
  {
   "cell_type": "code",
   "execution_count": 3,
   "metadata": {},
   "outputs": [
    {
     "name": "stdout",
     "output_type": "stream",
     "text": [
      "(800,) (800,)\n",
      "(200,) (200,)\n"
     ]
    }
   ],
   "source": [
    "# create training and testing sets\n",
    "\n",
    "X_train, X_test, y_train, y_test = train_test_split(x_points, y_points, test_size=0.2)\n",
    "print(X_train.shape, y_train.shape)\n",
    "print(X_test.shape, y_test.shape)"
   ]
  },
  {
   "cell_type": "code",
   "execution_count": 4,
   "metadata": {},
   "outputs": [
    {
     "data": {
      "text/plain": [
       "<matplotlib.collections.PathCollection at 0x975fb88>"
      ]
     },
     "execution_count": 4,
     "metadata": {},
     "output_type": "execute_result"
    },
    {
     "data": {
      "image/png": "[encoded data removed]",
      "text/plain": [
       "<Figure size 432x288 with 1 Axes>"
      ]
     },
     "metadata": {
      "needs_background": "light"
     },
     "output_type": "display_data"
    }
   ],
   "source": [
    "# plot desired data\n",
    "\n",
    "plt.scatter(X_test, y_test, color='blue')"
   ]
  },
  {
   "cell_type": "markdown",
   "metadata": {},
   "source": [
    "First we are going to implement the model using below given set of parameters. Afterwards you can adjust the parameters accordingly to see their effect on model performance. "
   ]
  },
  {
   "cell_type": "code",
   "execution_count": 5,
   "metadata": {},
   "outputs": [
    {
     "name": "stdout",
     "output_type": "stream",
     "text": [
      "# of training samples: 800\n",
      "# of max iterations: 1000\n",
      "learning rate: 0.1\n"
     ]
    }
   ],
   "source": [
    "# print important info\n",
    "\n",
    "m = len(X_train)\n",
    "print('# of training samples:', m)\n",
    "max_iterations = 1000\n",
    "print('# of max iterations:', max_iterations)\n",
    "learning_rate = 1e-1\n",
    "print('learning rate:', learning_rate)"
   ]
  },
  {
   "cell_type": "markdown",
   "metadata": {},
   "source": [
    "# 5. Model Building"
   ]
  },
  {
   "cell_type": "markdown",
   "metadata": {},
   "source": [
    "## Gaussian Distribution\n",
    "\n",
    "Since our data is uniformly distributed which is sometimes called normal or gaussian distribution. It has a bell-shaped curve, with the data points symmetrically distributed around the mean value.\n",
    "<img src=\"https://cdn.analyticsvidhya.com/wp-content/uploads/2019/10/gaussians.png\">\n",
    "\n",
    "also so the pdf (probablity density function) we would use will be of the form:-\n",
    "\n",
    "<img src =\"https://cdn.analyticsvidhya.com/wp-content/uploads/2019/10/pdf_var-1-300x81.png\">\n",
    "\n",
    "where μ is the mean and σ2 is the variance."
   ]
  },
  {
   "cell_type": "markdown",
   "metadata": {},
   "source": [
    "## Gaussian Radial Basis Function\n",
    "\n",
    "In this project as we stated above we are going to use Gaussian radial basis function for our linear regression implementation.\n",
    "\n",
    "* Radial functions are a special class of function Their characteristic feature is that their response decreases or increases monotonically with distance from a central point The centre the distance scale and the precise shape of the radial function are parameters of the model all fixed if it is linear.The whole process of this model is shown in image below-\n",
    "<img src=\"https://miro.medium.com/max/1278/1*c6KMMqfhmXdJda9LBGmhJw.png\">\n",
    "\n",
    "\n",
    "Its parameters are its centre c and its radius r.\n",
    "\n"
   ]
  },
  {
   "cell_type": "markdown",
   "metadata": {},
   "source": [
    "## Linear Regression\n",
    "\n",
    "• Linear combination of input features\n",
    "\n",
    "\\begin{align}\n",
    "y(x,w) & =w_0 + w_1 x_1 + .... + w_D x_D\n",
    "\\end{align}\n",
    "\n",
    "with x = (x1, . . . , xD)\n",
    "\n",
    "• Linear function of parameters w\n",
    "\n",
    "• Linear function of features x. Extension to linear combination of base\n",
    "functions\n",
    "\n",
    "\\begin{align}\n",
    "y(x,w) & =w_0 + \\sum_{j=1}^M w_j P_j(x)\n",
    "\\end{align}\n",
    "\n",
    "where M is the no. of clusters in input data\n",
    "\n",
    "<img src=\"data:image/jpeg;base64,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\" width=\"500px\">\n",
    "\n",
    "where P is called parametrization matrix\n",
    "$$\n",
    "\\mathbf{P}\n",
    "=\n",
    "\\begin{bmatrix}\n",
    "p_0(x_1) & p_1(x_1) & \\cdots &\n",
    "p_m(x_1) \\\\\n",
    "p_0(x_2) & p_1(x_2) & \\cdots &\n",
    "p_m(x_2) \\\\\n",
    "\\vdots & \\vdots & \\ddots & \\vdots \\\\\n",
    "p_0(x_D) & p_1(x_D) & \\cdots &\n",
    "p_m(x_D) \\\\\n",
    "\\end{bmatrix}\n",
    "$$\n",
    "\n",
    "This matrix corresponds to the basis functions applied to\n",
    "all the points in the data. Each column corresponds to on\n",
    "weight value in the vector w, and each row corresponds to\n",
    "a point in the data.Once all the basis functions represented\n",
    "by ps are calculated, we take this matrix and plug it into the\n",
    "following equation to get our final values of w:\n",
    "\n",
    "\n",
    "\\begin{align}\n",
    "w & = (P^T P)^{-1} P^T y\n",
    "\\end{align}"
   ]
  },
  {
   "cell_type": "markdown",
   "metadata": {},
   "source": [
    "So to summarize below given are the steps that we need to perform in this project-\n",
    "* Determine the optimal no. of clusters of our data using Gaussian Mixture Modelling Clustering.\n",
    "* After finding the optimal no. of clusters we would find the centers of these clusters.\n",
    "* Then initailize weight vector with M random weights.\n",
    "* And then we will build our parametrization matrix. \n",
    "* At last we would optimize log Likelihood function (that is least squares method) to reduce the losses and find the optimal weights for our model and predict our target variable using the above given radial basis function, the centers and the optimal weights( in this step for simplicity purpose of this model and not involve more complex mathematics we will drop the division of variance or(radius) term in the exponent from the rbf function."
   ]
  },
  {
   "cell_type": "markdown",
   "metadata": {},
   "source": [
    "## Determing optimal no. of clusters using distance between train and test GMMs"
   ]
  },
  {
   "cell_type": "code",
   "execution_count": 6,
   "metadata": {},
   "outputs": [],
   "source": [
    "def SelBest(arr:list, X:int)->list:\n",
    "    '''\n",
    "    returns the set of X configurations with shorter distance\n",
    "    '''\n",
    "    dx=np.argsort(arr)[:X]\n",
    "    return arr[dx]"
   ]
  },
  {
   "cell_type": "code",
   "execution_count": 7,
   "metadata": {},
   "outputs": [],
   "source": [
    "# calculating the distance between training and test data with the given no. of clusters\n",
    "\n",
    "def gmm_js(gmm_p, gmm_q, n_samples=10**5):\n",
    "    X = gmm_p.sample(n_samples)[0]\n",
    "    log_p_X = gmm_p.score_samples(X)\n",
    "    log_q_X = gmm_q.score_samples(X)\n",
    "    log_mix_X = np.logaddexp(log_p_X, log_q_X)\n",
    "\n",
    "    Y = gmm_q.sample(n_samples)[0]\n",
    "    log_p_Y = gmm_p.score_samples(Y)\n",
    "    log_q_Y = gmm_q.score_samples(Y)\n",
    "    log_mix_Y = np.logaddexp(log_p_Y, log_q_Y)\n",
    "\n",
    "    return np.sqrt((log_p_X.mean() - (log_mix_X.mean() - np.log(2))\n",
    "            + log_q_Y.mean() - (log_mix_Y.mean() - np.log(2))) / 2)"
   ]
  },
  {
   "cell_type": "code",
   "execution_count": 8,
   "metadata": {},
   "outputs": [],
   "source": [
    "# reshaping our data\n",
    "\n",
    "X_train=np.reshape(X_train,(-1,1))\n",
    "X_test=np.reshape(X_test,(-1,1))"
   ]
  },
  {
   "cell_type": "code",
   "execution_count": 9,
   "metadata": {},
   "outputs": [],
   "source": [
    "# using Gaussian Mixture Modelling to find distance between training and test data predictions for given no. of clusters\n",
    "\n",
    "n_clusters=np.arange(2, 20)\n",
    "iterations=20\n",
    "results=[]\n",
    "res_sigs=[]\n",
    "for n in n_clusters:\n",
    "    dist=[]\n",
    "    \n",
    "    for iteration in range(iterations):        \n",
    "        gmm_train=GMM(n, n_init=2).fit(X_train) \n",
    "        gmm_test=GMM(n, n_init=2).fit(X_test) \n",
    "        dist.append(gmm_js(gmm_train, gmm_test))\n",
    "    selec=SelBest(np.array(dist), int(iterations/5))\n",
    "    result=np.mean(selec)\n",
    "    res_sig=np.std(selec)\n",
    "    results.append(result)\n",
    "    res_sigs.append(res_sig)"
   ]
  },
  {
   "cell_type": "code",
   "execution_count": 10,
   "metadata": {},
   "outputs": [
    {
     "data": {
      "image/png": "[encoded data removed]",
      "text/plain": [
       "<Figure size 432x288 with 1 Axes>"
      ]
     },
     "metadata": {
      "needs_background": "light"
     },
     "output_type": "display_data"
    }
   ],
   "source": [
    "# plotting the distance for different clusters\n",
    "\n",
    "plt.errorbar(n_clusters, results, yerr=res_sigs)\n",
    "plt.title(\"Distance between Train and Test GMMs\", fontsize=20)\n",
    "plt.xticks(n_clusters)\n",
    "plt.xlabel(\"N. of clusters\")\n",
    "plt.ylabel(\"Distance\")\n",
    "plt.show()"
   ]
  },
  {
   "cell_type": "markdown",
   "metadata": {},
   "source": [
    "As we can see that the distance is minimum for 3 clusters so we would use 3 clusters for our model."
   ]
  },
  {
   "cell_type": "markdown",
   "metadata": {},
   "source": [
    "## Finding centers of these clusters"
   ]
  },
  {
   "cell_type": "code",
   "execution_count": 11,
   "metadata": {},
   "outputs": [
    {
     "name": "stdout",
     "output_type": "stream",
     "text": [
      "(3, 1)\n",
      "\n",
      " [[1.55496423]\n",
      " [2.50999349]\n",
      " [0.52466977]]\n"
     ]
    }
   ],
   "source": [
    "# finding the centers of all the clusters \n",
    "\n",
    "gmm = GMM(n_components=3)\n",
    "gmm.fit(X_train)\n",
    "\n",
    "# printing gmm_means and their shape\n",
    "\n",
    "print(gmm.means_.shape)\n",
    "print(\"\\n\", gmm.means_)\n",
    "\n",
    "# storing all the mean values in the list centres\n",
    "\n",
    "centers=[gmm.means_[0][0] , gmm.means_[1][0] , gmm.means_[2][0]]"
   ]
  },
  {
   "cell_type": "markdown",
   "metadata": {},
   "source": [
    "## Initializing the weights"
   ]
  },
  {
   "cell_type": "code",
   "execution_count": 12,
   "metadata": {},
   "outputs": [
    {
     "name": "stdout",
     "output_type": "stream",
     "text": [
      "[0.7712406844423432, 0.4421309244965851, 0.09347238020837834] 3\n"
     ]
    }
   ],
   "source": [
    "# initializing random weights in range(0,1) in the list w  and then printing it and its length \n",
    "\n",
    "w = [random.uniform(0,1), random.uniform(0,1), random.uniform(0,1)]\n",
    "print(w,len(w))"
   ]
  },
  {
   "cell_type": "markdown",
   "metadata": {},
   "source": [
    "## Building parametrization matrix"
   ]
  },
  {
   "cell_type": "code",
   "execution_count": 13,
   "metadata": {},
   "outputs": [
    {
     "data": {
      "text/plain": [
       "((800,), (200,))"
      ]
     },
     "execution_count": 13,
     "metadata": {},
     "output_type": "execute_result"
    }
   ],
   "source": [
    "# flattening our test and train datasets for further calculations\n",
    "\n",
    "X_train=X_train.flatten()\n",
    "X_test=X_test.flatten()\n",
    "X_train.shape,X_test.shape"
   ]
  },
  {
   "cell_type": "code",
   "execution_count": 14,
   "metadata": {},
   "outputs": [
    {
     "name": "stdout",
     "output_type": "stream",
     "text": [
      "(800, 3)\n"
     ]
    }
   ],
   "source": [
    "# we build the P matrix (big phai)\n",
    "\n",
    "p_0 = np.exp(-((X_train-centers[0])**2))\n",
    "p_0 = np.reshape(p_0, (-1, 1))\n",
    "p_1 = np.exp(-((X_train-centers[1])**2))\n",
    "p_1 = np.reshape(p_1, (-1, 1))\n",
    "p_2 = np.exp(-((X_train-centers[2])**2))\n",
    "p_2 = np.reshape(p_2, (-1, 1))\n",
    "P = np.hstack((p_0, p_1, p_2))\n",
    "print(P.shape)"
   ]
  },
  {
   "cell_type": "markdown",
   "metadata": {},
   "source": [
    "## Finding optimal weights and predicting target variable"
   ]
  },
  {
   "cell_type": "code",
   "execution_count": 15,
   "metadata": {
    "scrolled": true
   },
   "outputs": [],
   "source": [
    "# we do the linear algebra to find the weights\n",
    "\n",
    "w = np.matmul(np.matmul(np.linalg.inv(np.matmul(P.T, P)), P.T), y_train)"
   ]
  },
  {
   "cell_type": "code",
   "execution_count": 16,
   "metadata": {},
   "outputs": [],
   "source": [
    "# we define the basis function and y_hat\n",
    "\n",
    "y_hat = lambda x: w[2]*np.exp(-((x-centers[2])**2)) + w[1]*np.exp(-((x-centers[1])**2)) + w[0]*np.exp(-((x-centers[0])**2)) # lambda expression for future use, represents the line equation"
   ]
  },
  {
   "cell_type": "code",
   "execution_count": 17,
   "metadata": {},
   "outputs": [],
   "source": [
    "# cost function\n",
    "cost = np.square(np.linalg.norm(y_hat(X_train)-y_train))"
   ]
  },
  {
   "cell_type": "code",
   "execution_count": 18,
   "metadata": {},
   "outputs": [
    {
     "name": "stdout",
     "output_type": "stream",
     "text": [
      "[ 0.06950187 -0.77954058  1.0017428 ]\n"
     ]
    }
   ],
   "source": [
    "# printing the optimal weights\n",
    "\n",
    "print(w)\n",
    "\n"
   ]
  },
  {
   "cell_type": "code",
   "execution_count": 19,
   "metadata": {},
   "outputs": [],
   "source": [
    "# predicting our target variable using test data\n",
    "\n",
    "y_predicted = [y_hat(x) for x in X_test]\n",
    "y_predicted = np.array(y_predicted)"
   ]
  },
  {
   "cell_type": "code",
   "execution_count": 20,
   "metadata": {},
   "outputs": [
    {
     "data": {
      "image/png": "[encoded data removed]",
      "text/plain": [
       "<Figure size 432x288 with 1 Axes>"
      ]
     },
     "metadata": {
      "needs_background": "light"
     },
     "output_type": "display_data"
    },
    {
     "name": "stdout",
     "output_type": "stream",
     "text": [
      "Root-Mean-Square Error: 0.03757421274638709\n"
     ]
    }
   ],
   "source": [
    "# Plotting our prediction vs original target variable\n",
    "# printing the RMS error\n",
    "\n",
    "ind = np.argsort(X_test)\n",
    "ind = ind.ravel()\n",
    "plt.title('Predicted Target (t) on testing data')\n",
    "plt.plot(X_test[ind], y_predicted[ind], color='red')\n",
    "plt.scatter(X_test[ind], y_test[ind], color='blue')\n",
    "plt.show()\n",
    "cost_test = np.square(np.linalg.norm(y_predicted - y_test))*2/len(X_test)\n",
    "print('Root-Mean-Square Error:', cost_test)"
   ]
  },
  {
   "cell_type": "markdown",
   "metadata": {},
   "source": [
    "# 6. Conclusion"
   ]
  },
  {
   "cell_type": "code",
   "execution_count": 21,
   "metadata": {},
   "outputs": [],
   "source": [
    "# Write your conclsuions here"
   ]
  },
  {
   "cell_type": "code",
   "execution_count": null,
   "metadata": {},
   "outputs": [],
   "source": []
  }
 ],
 "metadata": {
  "kernelspec": {
   "display_name": "Python 3",
   "language": "python",
   "name": "python3"
  },
  "language_info": {
   "codemirror_mode": {
    "name": "ipython",
    "version": 3
   },
   "file_extension": ".py",
   "mimetype": "text/x-python",
   "name": "python",
   "nbconvert_exporter": "python",
   "pygments_lexer": "ipython3",
   "version": "3.7.6"
  }
 },
 "nbformat": 4,
 "nbformat_minor": 4
}
