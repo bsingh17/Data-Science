{
 "cells": [
  {
   "cell_type": "markdown",
   "metadata": {},
   "source": [
    "<div class=\"alert alert-block alert-success\">\n",
    "<b>Loading necessary libraries</b> We will be building the entire Agglomerative clustering (single link) from the scratch first and will import necessary libraries required to build the entire clustering scheme.\n",
    "</div>"
   ]
  },
  {
   "cell_type": "code",
   "execution_count": null,
   "metadata": {},
   "outputs": [],
   "source": [
    "# Import necessary libraries ( Numpy and pyplot )\n",
    "\n"
   ]
  },
  {
   "cell_type": "markdown",
   "metadata": {},
   "source": [
    "<div class=\"alert alert-block alert-success\">\n",
    "<b>Creating the data:</b> We create the data necessary for clustering. We consider only 2 features but the number of features could be extended to more than 2. The example was created to make calculations simple and easy to understand\n",
    "</div>"
   ]
  },
  {
   "cell_type": "code",
   "execution_count": null,
   "metadata": {},
   "outputs": [],
   "source": [
    "# Synthetic data created \n",
    "X = np.array([[0.40,0.53],\n",
    "              [0.22,0.32],\n",
    "              [0.35,0.32],\n",
    "              [0.26,0.19],\n",
    "              [0.08,0.41],\n",
    "              [0.35,0.30],\n",
    "              [0.80,0.98],\n",
    "              [0.28,0.33]\n",
    "])"
   ]
  },
  {
   "cell_type": "markdown",
   "metadata": {},
   "source": [
    "<div class=\"alert alert-block alert-success\">\n",
    "<b>Cluster Distance computation:</b> The class below enables the formation of distance/similarity matrix between the sample elements. Some methods of the class are used to compute distance based on certain criterion because after some iteration in Hierarchial clustering, we will have to compute distances between samples and clusters and between two clusters and so on.\n",
    "</div>"
   ]
  },
  {
   "cell_type": "code",
   "execution_count": null,
   "metadata": {},
   "outputs": [],
   "source": [
    "class Distance_computation_grid(object):\n",
    "    '''\n",
    "        class to enable the Computation of distance matrix \n",
    "    '''\n",
    "    def __init__(self):\n",
    "        pass\n",
    "    \n",
    "    def compute_distance(self,samples):\n",
    "        '''\n",
    "            Create a matrix of distances between individual samples and clusters attained at a particular step\n",
    "        '''\n",
    "        \n",
    "        \n",
    "        \n",
    "        \n",
    "        # TYPE CODE HERE \n",
    "    \n",
    "    \n",
    "    \n",
    "    \n",
    "    \n",
    "    def distance_calculate(self,sample1,sample2):\n",
    "        '''\n",
    "            Distance calulated between two samples. The two samples can be both samples, both clusters or\n",
    "            one cluster and one sample. If both of them are samples/clusters, then simple norm is used. In other \n",
    "            cases, we refer it as an exception case and pass the samples as parameter to some function that \n",
    "            calculates the necessary distance between cluster and a sample\n",
    "        '''\n",
    "        \n",
    "        \n",
    "        \n",
    "        # TYPE CODE HERE\n",
    "        \n",
    "        \n",
    "        \n",
    "    \n",
    "    \n",
    "    def intersampledist(self,s1,s2):\n",
    "        '''\n",
    "            To be used in case we have one sample and one cluster . It takes the help of one \n",
    "            method 'interclusterdist' to compute the distances between elements of a cluster(which are\n",
    "            samples) and the actual sample given.\n",
    "        '''\n",
    "        \n",
    "        \n",
    "        \n",
    "        \n",
    "        \n",
    "        #TYPE CODE HERE\n",
    "    \n",
    "\n",
    "    \n",
    "    \n",
    "    \n",
    "    \n",
    "    "
   ]
  },
  {
   "cell_type": "markdown",
   "metadata": {},
   "source": [
    "<div class=\"alert alert-block alert-success\">\n",
    "<b>Implementing the clustering method:</b> We now implement the clustering method and we keep on printing the clusters formed after each iteration. This will be used to verify the clustering done from our implementation of agglomerative clustering with single linkage with other modules available\n",
    "</div>"
   ]
  },
  {
   "cell_type": "code",
   "execution_count": null,
   "metadata": {},
   "outputs": [],
   "source": [
    "\n",
    "progression = [[i] for i in range(X.shape[0])]\n",
    "samples     = [[list(X[i])] for i in range(X.shape[0])]\n",
    "m = len(samples)\n",
    "distcal  = Distance_computation_grid()\n",
    "\n",
    "while m>1:\n",
    "    print('Sample size before clustering    :- ',m)\n",
    "    \n",
    "    Distance_mat      =  #TYPE CODE HERE\n",
    "    \n",
    "    sample_ind_needed =  #TYPE CODE HERE\n",
    "    \n",
    "    value_to_add      =  #TYPE CODE HERE\n",
    "    \n",
    "    samples[sample_ind_needed[0]].append(value_to_add)\n",
    "    \n",
    "    print('Cluster Node 1                   :-',progression[sample_ind_needed[0]])\n",
    "    print('Cluster Node 2                   :-',progression[sample_ind_needed[1]])\n",
    "    \n",
    "    progression[sample_ind_needed[0]].append(progression[sample_ind_needed[1]])\n",
    "    progression[sample_ind_needed[0]] = [progression[sample_ind_needed[0]]]\n",
    "    v = progression.pop(sample_ind_needed[1])\n",
    "    m = len(samples)\n",
    "    \n",
    "    print('Progression(Current Sample)      :-',progression)\n",
    "    print('Cluster attained                 :-',progression[sample_ind_needed[0]])\n",
    "    print('Sample size after clustering     :-',m)\n",
    "    print('\\n')"
   ]
  },
  {
   "cell_type": "markdown",
   "metadata": {},
   "source": [
    "<div class=\"alert alert-block alert-success\">\n",
    "<b>Final Comments on our implementation:</b> We used the single linkage in our case, We can modify the existing code to implement complete linkage and ward's methods as well\n",
    "</div>"
   ]
  },
  {
   "cell_type": "markdown",
   "metadata": {},
   "source": [
    "<div class=\"alert alert-block alert-success\">\n",
    "<b>Scipy Implementation:</b> We can also create Dendrogram using the existing module available in Scipy. The entire process of clustering is done in the backend and we can clearly get a dendrogram to show how many clusters are there and how hierarchy is formed in the cluster\n",
    "</div>"
   ]
  },
  {
   "cell_type": "code",
   "execution_count": null,
   "metadata": {},
   "outputs": [],
   "source": [
    "# Import libraries to create a Dengodram ( dendeogram and linkage from scipy )\n",
    "\n",
    "    #TYPE CODE HERE\n",
    "\n",
    "# Define linkge \n",
    "\n",
    "Z = #TYPE CODE HERE\n",
    "\n",
    "\n",
    "fig = plt.figure(figsize=(25, 10))\n",
    "dn = dendrogram(Z)"
   ]
  },
  {
   "cell_type": "markdown",
   "metadata": {},
   "source": [
    "<div class=\"alert alert-block alert-success\">\n",
    "<b>Comparison with our implementation:</b> We can clearly see that our implementation give the exact same clusters as the one shown in the dendrogram.\n",
    "</div>"
   ]
  },
  {
   "cell_type": "markdown",
   "metadata": {},
   "source": [
    "# Sklean implementation and its outcome"
   ]
  },
  {
   "cell_type": "code",
   "execution_count": null,
   "metadata": {},
   "outputs": [],
   "source": [
    "#Import AgglomerativeClustering library for cross-verification\n",
    "\n",
    "           #TYPE CODE HERE\n",
    "\n",
    "aggclus =  #TYPE CODE HERE\n",
    "aggclus.labels_"
   ]
  },
  {
   "cell_type": "markdown",
   "metadata": {},
   "source": []
  },
  {
   "cell_type": "code",
   "execution_count": null,
   "metadata": {},
   "outputs": [],
   "source": []
  }
 ],
 "metadata": {
  "kernelspec": {
   "display_name": "Python 3",
   "language": "python",
   "name": "python3"
  },
  "language_info": {
   "codemirror_mode": {
    "name": "ipython",
    "version": 3
   },
   "file_extension": ".py",
   "mimetype": "text/x-python",
   "name": "python",
   "nbconvert_exporter": "python",
   "pygments_lexer": "ipython3",
   "version": "3.7.4"
  }
 },
 "nbformat": 4,
 "nbformat_minor": 2
}
