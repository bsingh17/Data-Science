{
 "cells": [
  {
   "cell_type": "markdown",
   "metadata": {},
   "source": [
    "# Implementing Lasso Regression from scratch"
   ]
  },
  {
   "cell_type": "markdown",
   "metadata": {},
   "source": [
    "## Problem Statement:\n",
    "\n",
    "In this project we will be implementing lasso regression from scratch using python."
   ]
  },
  {
   "cell_type": "markdown",
   "metadata": {},
   "source": [
    "## What Is Lasso Regression?\n",
    "\n",
    "Lasso, or Least Absolute Shrinkage and Selection Operator, is quite similar conceptually to ridge regression. It also adds a penalty for non-zero coefficients, but unlike ridge regression which penalizes sum of squared coefficients (the so-called L2 penalty), lasso penalizes the sum of their absolute values (L1 penalty). As a result, for high values of λ, many coefficients are exactly zeroed under lasso, which is never the case in ridge regression.\n",
    "\n"
   ]
  },
  {
   "cell_type": "markdown",
   "metadata": {},
   "source": [
    "## Steps to be followed:\n",
    "\n",
    "1. Importing the Libraries.\n",
    "2. Defining number of observations and dimensions.\n",
    "3. Visualizing input and output.\n",
    "4. Finding weights.\n",
    "5. Visualizing maximum likelihood function.\n",
    "6. Defining L-2 Coefficients.\n",
    "7. MAP v/s maximum likelihood.\n"
   ]
  },
  {
   "cell_type": "markdown",
   "metadata": {},
   "source": [
    "## Step-1: Importing the Libraries:"
   ]
  },
  {
   "cell_type": "code",
   "execution_count": 1,
   "metadata": {},
   "outputs": [],
   "source": [
    "# import numpy as np\n",
    "# import matplotlib.pyplot as plt"
   ]
  },
  {
   "cell_type": "markdown",
   "metadata": {},
   "source": [
    "## Step-2: Defining number of observations and dimensions:"
   ]
  },
  {
   "cell_type": "code",
   "execution_count": 1,
   "metadata": {},
   "outputs": [],
   "source": [
    "# Generating 50 equally-spaced data points between 0 to 10.    \n",
    "\n",
    "# setting Y_outputi = 0.5X_inputi + some random noise\n",
    "\n",
    "# setting the last element of y_output as y_output + 30\n",
    "\n",
    "# setting the second last element of y_output as y_output + 30\n",
    "\n"
   ]
  },
  {
   "cell_type": "markdown",
   "metadata": {},
   "source": [
    "## Step-3: Visualizing input and output:"
   ]
  },
  {
   "cell_type": "code",
   "execution_count": 2,
   "metadata": {},
   "outputs": [],
   "source": [
    "# plotting a plot to show relationship between x and y"
   ]
  },
  {
   "cell_type": "markdown",
   "metadata": {},
   "source": [
    "## Step-4: Finding Weights:"
   ]
  },
  {
   "cell_type": "code",
   "execution_count": 3,
   "metadata": {},
   "outputs": [],
   "source": [
    "#appending bias data points colummn to X\n",
    "\n",
    "#finding weights for maximum likelihood estimation\n",
    "    "
   ]
  },
  {
   "cell_type": "markdown",
   "metadata": {},
   "source": [
    "## Step-5: Visualizing maximum likelihood function:"
   ]
  },
  {
   "cell_type": "code",
   "execution_count": 4,
   "metadata": {},
   "outputs": [],
   "source": [
    "# visualizing maximum likelihood function\n",
    "\n",
    "# use plt.scatter(X_input[:,1], Y_output)\n",
    "\n",
    "# plt a line using plt.plot(X_input[:,1],Y_maxLikelihood, color='red')\n"
   ]
  },
  {
   "cell_type": "markdown",
   "metadata": {},
   "source": [
    "## Step-6: Defining L-2 Coefficients:"
   ]
  },
  {
   "cell_type": "code",
   "execution_count": 5,
   "metadata": {},
   "outputs": [],
   "source": [
    "# setting L2 regularization parameter to 1000\n",
    "\n",
    "# Finding weights for MAP estimation\n",
    "\n",
    "# Finding predicted Y corresponding to w_maxAPosterior\n",
    "         "
   ]
  },
  {
   "cell_type": "markdown",
   "metadata": {},
   "source": [
    "## Step-7: MAP vs Maximum likelihood:"
   ]
  },
  {
   "cell_type": "code",
   "execution_count": 6,
   "metadata": {},
   "outputs": [],
   "source": [
    "# use plt.scatter(X_input[:,1], y_output)\n",
    "\n",
    "# use plt.plot(X_input[:,1],Y_maxLikelihood, color='red',label=\"maximum likelihood\") for maximum likelihood method\n",
    "\n",
    "# use plt.plot(X_input[:,1],Y_maxAPosterior, color='green', label=\"map\") for MAP method\n",
    "\n"
   ]
  }
 ],
 "metadata": {
  "kernelspec": {
   "display_name": "Python 3",
   "language": "python",
   "name": "python3"
  },
  "language_info": {
   "codemirror_mode": {
    "name": "ipython",
    "version": 3
   },
   "file_extension": ".py",
   "mimetype": "text/x-python",
   "name": "python",
   "nbconvert_exporter": "python",
   "pygments_lexer": "ipython3",
   "version": "3.7.4"
  }
 },
 "nbformat": 4,
 "nbformat_minor": 2
}
