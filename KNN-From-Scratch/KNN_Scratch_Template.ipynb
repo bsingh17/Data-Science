{
  "nbformat": 4,
  "nbformat_minor": 0,
  "metadata": {
    "colab": {
      "name": "KNN Scratch Template.ipynb",
      "provenance": []
    },
    "kernelspec": {
      "name": "python3",
      "display_name": "Python 3"
    }
  },
  "cells": [
    {
      "cell_type": "markdown",
      "metadata": {
        "id": "RV1-gRfwKGC0",
        "colab_type": "text"
      },
      "source": [
        "## **Implementation of K Nearest Neighbours from Scratch**\n",
        "\n",
        "In this project we will implement KNN from scratch without using inbuilt classifier.\n",
        "\n",
        "**KNN**\n",
        "\n",
        "The k-nearest neighbors (KNN) algorithm is a simple, easy-to-implement supervised machine learning algorithm that can be used to solve both classification and regression problems.\n",
        "\n",
        "\n",
        "Advantages\n",
        "-The algorithm is simple and easy to implement.\n",
        "-There’s no need to build a model, tune several parameters,or make additional assumptions.\n",
        "-The algorithm is versatile. It can be used for classification, regression, and search (as we  will see in the next section).\n",
        "\n",
        "Disadvantages\n",
        "The algorithm gets significantly slower as the number of examples and/or predictors/independent variables increase."
      ]
    },
    {
      "cell_type": "markdown",
      "metadata": {
        "id": "rVzTQkbNKWhS",
        "colab_type": "text"
      },
      "source": [
        "**Importing Libraries**"
      ]
    },
    {
      "cell_type": "code",
      "metadata": {
        "id": "X6KnrkONKBKT",
        "colab_type": "code",
        "colab": {}
      },
      "source": [
        "import numpy as np\n",
        "import pandas as pd\n",
        "from sklearn.model_selection import train_test_split\n",
        "from collections import Counter\n",
        "from sklearn.metrics import accuracy_score"
      ],
      "execution_count": 0,
      "outputs": []
    },
    {
      "cell_type": "markdown",
      "metadata": {
        "id": "IBu5_z6UKhXR",
        "colab_type": "text"
      },
      "source": [
        "**Uploading data using pandas**"
      ]
    },
    {
      "cell_type": "code",
      "metadata": {
        "id": "F4e6pcRzKiri",
        "colab_type": "code",
        "colab": {}
      },
      "source": [
        "data = # Write your code here"
      ],
      "execution_count": 0,
      "outputs": []
    },
    {
      "cell_type": "code",
      "metadata": {
        "id": "y6yiiDajKrdK",
        "colab_type": "code",
        "colab": {}
      },
      "source": [
        "# Displaying top 5 rows of our data \n",
        "\n",
        "# Write your code here"
      ],
      "execution_count": 0,
      "outputs": []
    },
    {
      "cell_type": "markdown",
      "metadata": {
        "id": "cMPFcj4lKyLq",
        "colab_type": "text"
      },
      "source": [
        "**Splitting data into train and test set**"
      ]
    },
    {
      "cell_type": "code",
      "metadata": {
        "id": "8HpE274dKy8q",
        "colab_type": "code",
        "colab": {}
      },
      "source": [
        "# First convert data frame to numpy array and then split it using train test split with test size of 20 percent\n",
        "\n",
        "# Write your code here"
      ],
      "execution_count": 0,
      "outputs": []
    },
    {
      "cell_type": "markdown",
      "metadata": {
        "id": "UDvTihVeK_N6",
        "colab_type": "text"
      },
      "source": [
        "**Made function which will return euclidean distance between two points**\n",
        "\n",
        "According to the Euclidean distance formula, the distance between two points in the plane with coordinates (x, y) and (a, b) is given by\n",
        "\n",
        "\n",
        "\n",
        "dist((x, y), (a, b)) = $\\sqrt{(x - a)² + (y - b)²}$"
      ]
    },
    {
      "cell_type": "code",
      "metadata": {
        "id": "gLIE_KkwLApQ",
        "colab_type": "code",
        "colab": {}
      },
      "source": [
        "def euclidean_distance(x1, x2):\n",
        "  return # Write your code here"
      ],
      "execution_count": 0,
      "outputs": []
    },
    {
      "cell_type": "markdown",
      "metadata": {
        "id": "RexT7Da7LIAA",
        "colab_type": "text"
      },
      "source": [
        "**Predict function**\n",
        "\n",
        "In KNN we dont need to train since we will calculate eucledian distance from all training points and then predict."
      ]
    },
    {
      "cell_type": "code",
      "metadata": {
        "id": "3hHdfqP9LKX5",
        "colab_type": "code",
        "colab": {}
      },
      "source": [
        "\n",
        "'''Predicting the X_test data one by one '''\n",
        "def predict_one(x_train,y_train,x_test,k):\n",
        "    #distances list will save the distance of the testing data point\n",
        "    #from all training data point and sort the distance \n",
        "    #and return the most common points \n",
        "    "
      ],
      "execution_count": 0,
      "outputs": []
    },
    {
      "cell_type": "code",
      "metadata": {
        "id": "J10qfo3gLXF4",
        "colab_type": "code",
        "colab": {}
      },
      "source": [
        "\n",
        "'''Prediction function which take x_train,y_train and predict the classes for x_test_data,\n",
        "   here you'll passing the k which is telling how many nearest neighbors we want to consider'''\n",
        "def predict(x_train,y_train,x_test_data,k):\n",
        "    #calling the predict_one function "
      ],
      "execution_count": 0,
      "outputs": []
    },
    {
      "cell_type": "code",
      "metadata": {
        "id": "Ep0xaYlpLhOp",
        "colab_type": "code",
        "colab": {}
      },
      "source": [
        "#Calling the predict function\n",
        "\n",
        "y_predict= #Write your code here"
      ],
      "execution_count": 0,
      "outputs": []
    },
    {
      "cell_type": "markdown",
      "metadata": {
        "id": "GNsYL7iKLsaJ",
        "colab_type": "text"
      },
      "source": [
        "**Accuracy Score**"
      ]
    },
    {
      "cell_type": "code",
      "metadata": {
        "id": "UiHfmxJvLpfz",
        "colab_type": "code",
        "colab": {}
      },
      "source": [
        "#Getting the accuracy_score\n",
        "\n",
        "# Write your code here"
      ],
      "execution_count": 0,
      "outputs": []
    }
  ]
}
