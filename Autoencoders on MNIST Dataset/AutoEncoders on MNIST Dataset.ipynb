{
 "cells": [
  {
   "cell_type": "markdown",
   "metadata": {},
   "source": [
    "# Fully Connected neural Layer as encoder and decoder"
   ]
  },
  {
   "cell_type": "markdown",
   "metadata": {},
   "source": [
    "### Import Statements"
   ]
  },
  {
   "cell_type": "code",
   "execution_count": 1,
   "metadata": {},
   "outputs": [
    {
     "name": "stderr",
     "output_type": "stream",
     "text": [
      "Using TensorFlow backend.\n"
     ]
    }
   ],
   "source": [
    "# Import libraries as required \n"
   ]
  },
  {
   "cell_type": "markdown",
   "metadata": {},
   "source": [
    "### Load the Dataset"
   ]
  },
  {
   "cell_type": "code",
   "execution_count": 2,
   "metadata": {},
   "outputs": [],
   "source": [
    "# see the docs to load the mnist dataset \n",
    "(X_train,y_train), (X_test, y_test) = mnist.load_data()"
   ]
  },
  {
   "cell_type": "markdown",
   "metadata": {},
   "source": [
    "### Normalize and Reshape the dataset"
   ]
  },
  {
   "cell_type": "code",
   "execution_count": 3,
   "metadata": {},
   "outputs": [],
   "source": [
    "# Normalize the Dataset\n",
    "X_train = X_train.astype('float32')/255.\n",
    "X_test = X_test.astype('float32')/255.\n",
    "\n",
    "# Reshape the Dataset (Number_of_images, total pixels)\n",
    "# Hint -> total pixels = 28*28 = 784\n",
    "X_train = X_train.reshape(len(X_train),np.prod(X_train.shape[1:]))\n",
    "X_test = X_test.reshape(len(X_test),np.prod(X_test.shape[1:]))"
   ]
  },
  {
   "cell_type": "code",
   "execution_count": 4,
   "metadata": {},
   "outputs": [],
   "source": [
    "# Define the size of our encoded representations\n",
    "encoding_dim = 32 \n",
    "\n",
    "# create a input placeholder\n",
    "input_img = Input(shape=(784,))\n",
    "\n",
    "# \"encoded\" is the encoded representation of the input\n",
    "encoded = Dense(encoding_dim, activation='relu')(input_img)\n",
    "\n",
    "# \"decoded\" is the lossy reconstruction of the input\n",
    "decoded = Dense(784, activation='sigmoid')(encoded)"
   ]
  },
  {
   "cell_type": "code",
   "execution_count": 5,
   "metadata": {},
   "outputs": [],
   "source": [
    "# Define a model that maps an input to its encoded representation\n",
    "encoder = Model(input_img, encoded)\n",
    "\n",
    "# Define a model that maps an input to its reconstruction\n",
    "autoencoder = Model(input_img, decoded)"
   ]
  },
  {
   "cell_type": "code",
   "execution_count": 6,
   "metadata": {},
   "outputs": [],
   "source": [
    "# create a placeholder for an encoded input\n",
    "encoded_input = Input(shape=(encoding_dim,))\n",
    "\n",
    "# retrieve the last layer of the autoencoder model\n",
    "decoder_layer = autoencoder.layers[-1]\n",
    "\n",
    "# create the decoder model\n",
    "decoder = Model(encoded_input, decoder_layer(encoded_input))"
   ]
  },
  {
   "cell_type": "markdown",
   "metadata": {},
   "source": [
    "### Let's train our autoencoder to reconstruct MNIST digits"
   ]
  },
  {
   "cell_type": "code",
   "execution_count": 7,
   "metadata": {},
   "outputs": [],
   "source": [
    "autoencoder.compile(optimizer='adadelta', loss='binary_crossentropy',)"
   ]
  },
  {
   "cell_type": "code",
   "execution_count": 8,
   "metadata": {},
   "outputs": [
    {
     "name": "stdout",
     "output_type": "stream",
     "text": [
      "Train on 60000 samples, validate on 10000 samples\n",
      "Epoch 1/50\n",
      "60000/60000 [==============================] - 2s 33us/step - loss: 0.3610 - val_loss: 0.2719\n",
      "Epoch 2/50\n",
      "60000/60000 [==============================] - 2s 32us/step - loss: 0.2650 - val_loss: 0.2544\n",
      "Epoch 3/50\n",
      "60000/60000 [==============================] - 2s 34us/step - loss: 0.2449 - val_loss: 0.2334\n",
      "Epoch 4/50\n",
      "60000/60000 [==============================] - 2s 31us/step - loss: 0.2260 - val_loss: 0.2161\n",
      "Epoch 5/50\n",
      "60000/60000 [==============================] - 2s 33us/step - loss: 0.2104 - val_loss: 0.2019\n",
      "Epoch 6/50\n",
      "60000/60000 [==============================] - 2s 32us/step - loss: 0.1978 - val_loss: 0.1910\n",
      "Epoch 7/50\n",
      "60000/60000 [==============================] - 2s 30us/step - loss: 0.1882 - val_loss: 0.1826\n",
      "Epoch 8/50\n",
      "60000/60000 [==============================] - 2s 33us/step - loss: 0.1808 - val_loss: 0.1761\n",
      "Epoch 9/50\n",
      "60000/60000 [==============================] - 2s 31us/step - loss: 0.1746 - val_loss: 0.1704\n",
      "Epoch 10/50\n",
      "60000/60000 [==============================] - 2s 31us/step - loss: 0.1691 - val_loss: 0.1652\n",
      "Epoch 11/50\n",
      "60000/60000 [==============================] - 2s 34us/step - loss: 0.1642 - val_loss: 0.1603\n",
      "Epoch 12/50\n",
      "60000/60000 [==============================] - 2s 31us/step - loss: 0.1597 - val_loss: 0.1560\n",
      "Epoch 13/50\n",
      "60000/60000 [==============================] - 2s 40us/step - loss: 0.1556 - val_loss: 0.1521\n",
      "Epoch 14/50\n",
      "60000/60000 [==============================] - 2s 33us/step - loss: 0.1518 - val_loss: 0.1485\n",
      "Epoch 15/50\n",
      "60000/60000 [==============================] - 2s 34us/step - loss: 0.1485 - val_loss: 0.1453\n",
      "Epoch 16/50\n",
      "60000/60000 [==============================] - 2s 35us/step - loss: 0.1453 - val_loss: 0.1423\n",
      "Epoch 17/50\n",
      "60000/60000 [==============================] - 2s 38us/step - loss: 0.1425 - val_loss: 0.1395\n",
      "Epoch 18/50\n",
      "60000/60000 [==============================] - 2s 33us/step - loss: 0.1398 - val_loss: 0.1369\n",
      "Epoch 19/50\n",
      "60000/60000 [==============================] - 2s 32us/step - loss: 0.1373 - val_loss: 0.1346\n",
      "Epoch 20/50\n",
      "60000/60000 [==============================] - 2s 41us/step - loss: 0.1350 - val_loss: 0.1324\n",
      "Epoch 21/50\n",
      "60000/60000 [==============================] - 2s 32us/step - loss: 0.1329 - val_loss: 0.1302\n",
      "Epoch 22/50\n",
      "60000/60000 [==============================] - 2s 34us/step - loss: 0.1308 - val_loss: 0.1283\n",
      "Epoch 23/50\n",
      "60000/60000 [==============================] - 2s 32us/step - loss: 0.1289 - val_loss: 0.1264\n",
      "Epoch 24/50\n",
      "60000/60000 [==============================] - 2s 32us/step - loss: 0.1271 - val_loss: 0.1246\n",
      "Epoch 25/50\n",
      "60000/60000 [==============================] - 2s 36us/step - loss: 0.1253 - val_loss: 0.1229\n",
      "Epoch 26/50\n",
      "60000/60000 [==============================] - 2s 32us/step - loss: 0.1236 - val_loss: 0.1213\n",
      "Epoch 27/50\n",
      "60000/60000 [==============================] - 2s 34us/step - loss: 0.1221 - val_loss: 0.1197\n",
      "Epoch 28/50\n",
      "60000/60000 [==============================] - 2s 32us/step - loss: 0.1206 - val_loss: 0.1182\n",
      "Epoch 29/50\n",
      "60000/60000 [==============================] - 2s 39us/step - loss: 0.1191 - val_loss: 0.1169\n",
      "Epoch 30/50\n",
      "60000/60000 [==============================] - 2s 36us/step - loss: 0.1178 - val_loss: 0.1155\n",
      "Epoch 31/50\n",
      "60000/60000 [==============================] - 2s 40us/step - loss: 0.1165 - val_loss: 0.1143\n",
      "Epoch 32/50\n",
      "60000/60000 [==============================] - 2s 37us/step - loss: 0.1153 - val_loss: 0.1132\n",
      "Epoch 33/50\n",
      "60000/60000 [==============================] - 2s 37us/step - loss: 0.1142 - val_loss: 0.1120\n",
      "Epoch 34/50\n",
      "60000/60000 [==============================] - 3s 42us/step - loss: 0.1131 - val_loss: 0.1110\n",
      "Epoch 35/50\n",
      "60000/60000 [==============================] - 2s 35us/step - loss: 0.1121 - val_loss: 0.1100\n",
      "Epoch 36/50\n",
      "60000/60000 [==============================] - 2s 34us/step - loss: 0.1112 - val_loss: 0.1092\n",
      "Epoch 37/50\n",
      "60000/60000 [==============================] - 2s 33us/step - loss: 0.1103 - val_loss: 0.1083\n",
      "Epoch 38/50\n",
      "60000/60000 [==============================] - 2s 32us/step - loss: 0.1095 - val_loss: 0.1075\n",
      "Epoch 39/50\n",
      "60000/60000 [==============================] - 2s 35us/step - loss: 0.1087 - val_loss: 0.1068\n",
      "Epoch 40/50\n",
      "60000/60000 [==============================] - 2s 33us/step - loss: 0.1080 - val_loss: 0.1061\n",
      "Epoch 41/50\n",
      "60000/60000 [==============================] - 2s 37us/step - loss: 0.1073 - val_loss: 0.1055\n",
      "Epoch 42/50\n",
      "60000/60000 [==============================] - 2s 34us/step - loss: 0.1067 - val_loss: 0.1048\n",
      "Epoch 43/50\n",
      "60000/60000 [==============================] - 2s 39us/step - loss: 0.1061 - val_loss: 0.1043\n",
      "Epoch 44/50\n",
      "60000/60000 [==============================] - 2s 37us/step - loss: 0.1055 - val_loss: 0.1037\n",
      "Epoch 45/50\n",
      "60000/60000 [==============================] - 2s 35us/step - loss: 0.1050 - val_loss: 0.1032\n",
      "Epoch 46/50\n",
      "60000/60000 [==============================] - 2s 32us/step - loss: 0.1045 - val_loss: 0.1027\n",
      "Epoch 47/50\n",
      "60000/60000 [==============================] - 2s 31us/step - loss: 0.1040 - val_loss: 0.1023\n",
      "Epoch 48/50\n",
      "60000/60000 [==============================] - 2s 31us/step - loss: 0.1036 - val_loss: 0.1018\n",
      "Epoch 49/50\n",
      "60000/60000 [==============================] - 2s 36us/step - loss: 0.1032 - val_loss: 0.1014\n",
      "Epoch 50/50\n",
      "60000/60000 [==============================] - 2s 31us/step - loss: 0.1028 - val_loss: 0.1011\n"
     ]
    },
    {
     "data": {
      "text/plain": [
       "<keras.callbacks.callbacks.History at 0x109a81790>"
      ]
     },
     "execution_count": 8,
     "metadata": {},
     "output_type": "execute_result"
    }
   ],
   "source": [
    "autoencoder.fit(X_train, X_train,\n",
    "                epochs=50,\n",
    "                batch_size=256,\n",
    "                shuffle=True,\n",
    "                validation_data=(X_test, X_test))"
   ]
  },
  {
   "cell_type": "code",
   "execution_count": 10,
   "metadata": {},
   "outputs": [],
   "source": [
    "# encode and decode some digits\n",
    "# note that we take them from the *test* set\n",
    "encoded_imgs = encoder.predict(X_test)\n",
    "decoded_imgs = decoder.predict(encoded_imgs)"
   ]
  },
  {
   "cell_type": "code",
   "execution_count": 12,
   "metadata": {},
   "outputs": [
    {
     "data": {
      "image/png": "[encoded data removed]",
      "text/plain": [
       "<Figure size 1440x288 with 20 Axes>"
      ]
     },
     "metadata": {
      "needs_background": "light"
     },
     "output_type": "display_data"
    }
   ],
   "source": [
    "# use Matplotlib to display Images\n",
    "import matplotlib.pyplot as plt\n",
    "\n",
    "n = 10  # how many digits we will display\n",
    "plt.figure(figsize=(20, 4))\n",
    "for i in range(n):\n",
    "    # display original\n",
    "    ax = plt.subplot(2, n, i + 1)\n",
    "    plt.imshow(X_test[i].reshape(28, 28))\n",
    "    plt.gray()\n",
    "    ax.get_xaxis().set_visible(False)\n",
    "    ax.get_yaxis().set_visible(False)\n",
    "\n",
    "    # display reconstruction\n",
    "    ax = plt.subplot(2, n, i + 1 + n)\n",
    "    plt.imshow(decoded_imgs[i].reshape(28, 28))\n",
    "    plt.gray()\n",
    "    ax.get_xaxis().set_visible(False)\n",
    "    ax.get_yaxis().set_visible(False)\n",
    "plt.show()"
   ]
  },
  {
   "cell_type": "code",
   "execution_count": null,
   "metadata": {},
   "outputs": [],
   "source": []
  }
 ],
 "metadata": {
  "kernelspec": {
   "display_name": "Python 3",
   "language": "python",
   "name": "python3"
  },
  "language_info": {
   "codemirror_mode": {
    "name": "ipython",
    "version": 3
   },
   "file_extension": ".py",
   "mimetype": "text/x-python",
   "name": "python",
   "nbconvert_exporter": "python",
   "pygments_lexer": "ipython3",
   "version": "3.7.6"
  }
 },
 "nbformat": 4,
 "nbformat_minor": 4
}
