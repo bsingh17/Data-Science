{
 "cells": [
  {
   "cell_type": "markdown",
   "metadata": {},
   "source": [
    "# Central Limit Theorem (CLT)"
   ]
  },
  {
   "cell_type": "markdown",
   "metadata": {},
   "source": [
    "CONTENT COVERED :\n",
    "  > * Probability distribution\n",
    "  > * Normal distribution\n",
    "  > * Sampling a distribution\n",
    "  > * Central limit theorem\n",
    "  > * Practical implementation : Tossing Coin\n",
    "  > * Conclusion"
   ]
  },
  {
   "cell_type": "markdown",
   "metadata": {},
   "source": [
    "### Requirement:\n",
    "- Random\n",
    "- Math\n",
    "- Matplotlib"
   ]
  },
  {
   "cell_type": "markdown",
   "metadata": {},
   "source": [
    "### Probability distribution"
   ]
  },
  {
   "cell_type": "markdown",
   "metadata": {},
   "source": [
    "Probability distribution talks about how the values of random variable is distributed within a range.\n",
    "\n",
    "It can be\n",
    "- discrete distribution\n",
    "- continous dstribution \n",
    "\n",
    "depending on the set of possible outcome of random variable ."
   ]
  },
  {
   "cell_type": "markdown",
   "metadata": {},
   "source": [
    "### Normal distribution"
   ]
  },
  {
   "cell_type": "markdown",
   "metadata": {},
   "source": [
    "A **Normal Distribution** also called as **Gaussian distibution** is a continuous probability distribution.\n",
    "The normal distribution is sometimes refered to as a **bell curve**.\n",
    "The normal distribution is defined by the following probability density function."
   ]
  },
  {
   "cell_type": "markdown",
   "metadata": {},
   "source": [
    "![normal_distribution_formula](imgs\\normal_distribution_formula.png)\n",
    "Where,\n",
    "- μ is the mean, \n",
    "- σ is the standard deviation \n",
    "- σ^2 is the variance.\n",
    "\n",
    "**Standard normal distribution** is normal distribution with μ =0 and σ^2 = 1 . \n",
    "![normal](imgs\\normal.jpg)"
   ]
  },
  {
   "cell_type": "markdown",
   "metadata": {},
   "source": [
    "### Sampling a distribution"
   ]
  },
  {
   "cell_type": "markdown",
   "metadata": {},
   "source": [
    "The no of samples from a particular range is proportional to the probability of that region."
   ]
  },
  {
   "cell_type": "markdown",
   "metadata": {},
   "source": [
    "### Central limit theorem :"
   ]
  },
  {
   "cell_type": "markdown",
   "metadata": {},
   "source": [
    "**Intuition :**\n",
    "\n",
    "Consider there are 3 colleges in your locality and you want to calculate the average marks of their students.This is easy to do.\n",
    "\n",
    "But if you have to calculate the average marks of students across a country.It is not feasible."
   ]
  },
  {
   "cell_type": "markdown",
   "metadata": {},
   "source": [
    "In such case we take few samples from each college and calculate its average which gives the histogram of the sample mean of marks of students which will resemble a bell curve (or normal distribution)."
   ]
  },
  {
   "cell_type": "markdown",
   "metadata": {},
   "source": [
    "**Formally Defining the Central Limit Theorem :**\n",
    "\n",
    "***\"Given a dataset with unknown distribution (it could be uniform, binomial or completely random), the sample means will approximate to the normal distribution.\"***\n",
    "\n",
    "These samples should be sufficient in size. The distribution of sample means, calculated from repeated sampling, will tend to normality as the size of your samples gets larger."
   ]
  },
  {
   "cell_type": "markdown",
   "metadata": {},
   "source": [
    "Assumptions:\n",
    "\n",
    "- Data must be sampled randomly\n",
    "- Samples should be independent of each other.\n",
    "- Sample size should be not more than 10% of the population when sampling is done without replacement\n",
    "- The sample size should be sufficiently large. When the population is skewed or asymmetric, the sample size should be large. If the population is symmetric, then we can draw small samples as well\n",
    "- In general, a sample size of 30 is considered sufficient when the population is symmetric."
   ]
  },
  {
   "cell_type": "markdown",
   "metadata": {},
   "source": [
    "**Implementation of the Central limit theorem for tossing coin experiment**"
   ]
  },
  {
   "cell_type": "code",
   "execution_count": null,
   "metadata": {},
   "outputs": [],
   "source": [
    "\"\"\"Import the neccessary libraries\"\"\""
   ]
  },
  {
   "cell_type": "code",
   "execution_count": 7,
   "metadata": {},
   "outputs": [],
   "source": [
    "import random\n",
    "from math import sqrt\n",
    "import matplotlib.pyplot as plt"
   ]
  },
  {
   "cell_type": "code",
   "execution_count": null,
   "metadata": {},
   "outputs": [],
   "source": [
    "\"\"\"Write function from MEAN ,VARIANCE AND STANDARD DEVIATION of a list\"\"\""
   ]
  },
  {
   "cell_type": "code",
   "execution_count": 8,
   "metadata": {},
   "outputs": [],
   "source": [
    "def mean(dataList):\n",
    "    '''takes in a list and returns the mean of the data'''\n",
    "    return float(sum(dataList)/len(dataList))\n",
    "\n",
    "def variance(dataList):\n",
    "    '''takes in a list and returns the variance'''\n",
    "    meanData=mean(dataList)\n",
    "    variance=float(sum([(x-meanData)**2 for x in dataList])/len(dataList))\n",
    "    return variance\n",
    "    \n",
    "def stdDev(variance):\n",
    "    '''takes in a number and returns sqrt of variance\n",
    "    Can be used to calculate standart deviation of a distribution by passing it's variance'''\n",
    "    return sqrt(variance)"
   ]
  },
  {
   "cell_type": "code",
   "execution_count": null,
   "metadata": {},
   "outputs": [],
   "source": [
    "\"\"\"Write a function to create the samples for the experiment using random function\"\"\""
   ]
  },
  {
   "cell_type": "code",
   "execution_count": 9,
   "metadata": {},
   "outputs": [],
   "source": [
    "def CoinFlip(numberofsamples):\n",
    "    '''Inputs an integer n and returns a list of n no. of random True and False'''\n",
    "    N= numberofsamples\n",
    "    N_samples=[random.random()>0.5 for i in range(N)]\n",
    "    return N_samples"
   ]
  },
  {
   "cell_type": "markdown",
   "metadata": {},
   "source": [
    "- Head returns 1 or True\n",
    "- Tail returns 0 or False"
   ]
  },
  {
   "cell_type": "code",
   "execution_count": null,
   "metadata": {},
   "outputs": [],
   "source": [
    "\"\"\"Write a function to count the number of heads and tails \"\"\""
   ]
  },
  {
   "cell_type": "code",
   "execution_count": 10,
   "metadata": {},
   "outputs": [],
   "source": [
    "def Counts():\n",
    "    '''returns counts of heads and tails respectively'''\n",
    "    nHeads=0\n",
    "    nTails=0\n",
    "    for i in samplesList:\n",
    "        if i==True:\n",
    "            nHeads+=1\n",
    "        if i==False:\n",
    "            nTails+=1 \n",
    "    return nHeads,nTails"
   ]
  },
  {
   "cell_type": "code",
   "execution_count": null,
   "metadata": {},
   "outputs": [],
   "source": [
    "\"\"\"Write a function to calculate the mean of set of 1000 samples \"\"\""
   ]
  },
  {
   "cell_type": "code",
   "execution_count": 11,
   "metadata": {},
   "outputs": [],
   "source": [
    "def MeanPer1000Samples(num):\n",
    "    mean1000list = [mean(CoinFlip(num)) for x in range(num)]\n",
    "    return mean1000list"
   ]
  },
  {
   "cell_type": "code",
   "execution_count": null,
   "metadata": {},
   "outputs": [],
   "source": [
    "\"\"\"Plot different number of samples starting from 1000 mean of 1000 samples each\"\"\""
   ]
  },
  {
   "cell_type": "code",
   "execution_count": 12,
   "metadata": {},
   "outputs": [
    {
     "data": {
      "image/png": "[encoded data removed]",
      "text/plain": [
       "<Figure size 432x288 with 1 Axes>"
      ]
     },
     "metadata": {
      "needs_background": "light"
     },
     "output_type": "display_data"
    }
   ],
   "source": [
    "a=MeanPer1000Samples(1000)\n",
    "plt.hist(a,bins=30)\n",
    "plt.show()"
   ]
  },
  {
   "cell_type": "code",
   "execution_count": null,
   "metadata": {},
   "outputs": [],
   "source": [
    "\"\"\"Plot different number of samples starting from 5000 mean of 1000 samples each\"\"\""
   ]
  },
  {
   "cell_type": "code",
   "execution_count": 13,
   "metadata": {},
   "outputs": [
    {
     "data": {
      "image/png": "[encoded data removed]",
      "text/plain": [
       "<Figure size 432x288 with 1 Axes>"
      ]
     },
     "metadata": {
      "needs_background": "light"
     },
     "output_type": "display_data"
    }
   ],
   "source": [
    "a=MeanPer1000Samples(5000)\n",
    "plt.hist(a,bins=30)\n",
    "plt.show()"
   ]
  },
  {
   "cell_type": "code",
   "execution_count": null,
   "metadata": {},
   "outputs": [],
   "source": [
    "\"\"\"Plot different number of samples starting from 10000 mean of 1000 samples each\"\"\""
   ]
  },
  {
   "cell_type": "code",
   "execution_count": 14,
   "metadata": {},
   "outputs": [
    {
     "data": {
      "image/png": "[encoded data removed]",
      "text/plain": [
       "<Figure size 432x288 with 1 Axes>"
      ]
     },
     "metadata": {
      "needs_background": "light"
     },
     "output_type": "display_data"
    }
   ],
   "source": [
    "a=MeanPer1000Samples(10000)\n",
    "plt.hist(a,bins=30)\n",
    "plt.show()"
   ]
  },
  {
   "cell_type": "code",
   "execution_count": null,
   "metadata": {},
   "outputs": [],
   "source": [
    "\"\"\"Plot different number of samples starting from 20000 mean of 1000 samples each\"\"\""
   ]
  },
  {
   "cell_type": "code",
   "execution_count": 15,
   "metadata": {},
   "outputs": [
    {
     "data": {
      "image/png": "[encoded data removed]",
      "text/plain": [
       "<Figure size 432x288 with 1 Axes>"
      ]
     },
     "metadata": {
      "needs_background": "light"
     },
     "output_type": "display_data"
    }
   ],
   "source": [
    "a=MeanPer1000Samples(20000)\n",
    "plt.hist(a,bins=30)\n",
    "plt.show()"
   ]
  },
  {
   "cell_type": "markdown",
   "metadata": {},
   "source": [
    "### Conclusions :\n",
    "- As the number of samples mean increase the probability distribution tends more towards **Normal Distribution**"
   ]
  }
 ],
 "metadata": {
  "kernelspec": {
   "display_name": "Python 3",
   "language": "python",
   "name": "python3"
  },
  "language_info": {
   "codemirror_mode": {
    "name": "ipython",
    "version": 3
   },
   "file_extension": ".py",
   "mimetype": "text/x-python",
   "name": "python",
   "nbconvert_exporter": "python",
   "pygments_lexer": "ipython3",
   "version": "3.7.3"
  }
 },
 "nbformat": 4,
 "nbformat_minor": 2
}
