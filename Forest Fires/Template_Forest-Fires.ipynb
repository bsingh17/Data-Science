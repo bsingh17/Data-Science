{
 "cells": [
  {
   "cell_type": "code",
   "execution_count": null,
   "metadata": {},
   "outputs": [],
   "source": [
    "target = 'area'"
   ]
  },
  {
   "cell_type": "markdown",
   "metadata": {},
   "source": [
    "# Define the metrics"
   ]
  },
  {
   "cell_type": "markdown",
   "metadata": {},
   "source": [
    "**RMSE** \n",
    "\n",
    "RMSE is the most popular evaluation metric used in regression problems. It follows an assumption that errors are unbiased and follow a normal distribution."
   ]
  },
  {
   "cell_type": "markdown",
   "metadata": {},
   "source": [
    "# Dependencies"
   ]
  },
  {
   "cell_type": "code",
   "execution_count": null,
   "metadata": {},
   "outputs": [],
   "source": [
    "#Import required libraries\n",
    "\n",
    "import pandas as pd\n",
    "import numpy as np\n",
    "import matplotlib.pyplot as plt\n",
    "import seaborn as sns\n",
    "plt.style.use('ggplot')\n",
    "\n",
    "import statsmodels.api as sm\n",
    "from statsmodels.stats.outliers_influence import variance_inflation_factor\n",
    "from sklearn.linear_model import LinearRegression"
   ]
  },
  {
   "cell_type": "markdown",
   "metadata": {},
   "source": [
    "---"
   ]
  },
  {
   "cell_type": "markdown",
   "metadata": {},
   "source": [
    "# Load and describe data"
   ]
  },
  {
   "cell_type": "code",
   "execution_count": null,
   "metadata": {},
   "outputs": [],
   "source": [
    "# path = location of file on the machine.\n",
    "path = \" \"\n",
    "df = pd.read_csv(path)\n",
    "\n",
    "df.shape"
   ]
  },
  {
   "cell_type": "code",
   "execution_count": null,
   "metadata": {},
   "outputs": [],
   "source": [
    "# Get overview of data types u\n",
    "#Type code here"
   ]
  },
  {
   "cell_type": "code",
   "execution_count": null,
   "metadata": {},
   "outputs": [],
   "source": [
    "# Get overview of data using describe\n",
    "#Type code here"
   ]
  },
  {
   "cell_type": "markdown",
   "metadata": {},
   "source": [
    "---"
   ]
  },
  {
   "cell_type": "markdown",
   "metadata": {},
   "source": [
    "# Missing value treatment"
   ]
  },
  {
   "cell_type": "code",
   "execution_count": null,
   "metadata": {},
   "outputs": [],
   "source": [
    "# Get missing values in dataset\n",
    "#Type code here"
   ]
  },
  {
   "cell_type": "markdown",
   "metadata": {},
   "source": [
    "---"
   ]
  },
  {
   "cell_type": "markdown",
   "metadata": {},
   "source": [
    "# Exploratory Data Analysis\n",
    "   We will try out the following analysis on our dataset\n",
    "   - Univariate \n",
    "   - Bivariate \n",
    "   - Multivariate"
   ]
  },
  {
   "cell_type": "code",
   "execution_count": null,
   "metadata": {},
   "outputs": [],
   "source": [
    "plt.rcParams[\"figure.figsize\"] = 9,5"
   ]
  },
  {
   "cell_type": "markdown",
   "metadata": {},
   "source": [
    "## Univariate analysis\n",
    "\n"
   ]
  },
  {
   "cell_type": "markdown",
   "metadata": {},
   "source": [
    "### Begin with the target variable, `Area`"
   ]
  },
  {
   "cell_type": "code",
   "execution_count": null,
   "metadata": {
    "_kg_hide-input": true
   },
   "outputs": [],
   "source": [
    "plt.figure(figsize=(16,5))\n",
    "print(\"Skew: {}\".format(df[target].skew()))\n",
    "print(\"Kurtosis: {}\".format(df[target].kurtosis()))\n",
    "ax =                                                   #Type code here\n",
    "plt.xticks([i for i in range(0,1200,50)])\n",
    "plt.show()"
   ]
  },
  {
   "cell_type": "code",
   "execution_count": null,
   "metadata": {
    "_kg_hide-input": true
   },
   "outputs": [],
   "source": [
    "ax =                                                   #Type code here"
   ]
  },
  {
   "cell_type": "code",
   "execution_count": null,
   "metadata": {},
   "outputs": [],
   "source": [
    "# Get outlier points\n",
    "y_outliers =                                           #Type code here\n",
    "y_outliers"
   ]
  },
  {
   "cell_type": "markdown",
   "metadata": {},
   "source": [
    "### Independent columns "
   ]
  },
  {
   "cell_type": "code",
   "execution_count": null,
   "metadata": {
    "_kg_hide-input": true
   },
   "outputs": [],
   "source": [
    "# Separate categorical and numerical columns\n",
    "dfa = df.drop(columns=target)\n",
    "cat_columns = #Type Code here \n",
    "num_columns = #Type Code here\n",
    "\n",
    "cat_columns,num_columns"
   ]
  },
  {
   "cell_type": "markdown",
   "metadata": {},
   "source": [
    "### Categorical columns "
   ]
  },
  {
   "cell_type": "code",
   "execution_count": null,
   "metadata": {
    "_kg_hide-input": true
   },
   "outputs": [],
   "source": [
    "# analyzing categorical columns\n",
    "plt.figure(figsize=(16,10))\n",
    "for i,col in enumerate(cat_columns,1):\n",
    "    plt.subplot(2,2,i)\n",
    "    # Using seaborn plot a countplot for columns\n",
    "    # Type Code here \n",
    "    \n",
    "    plt.subplot(2,2,i+2)\n",
    "    # Use bar plot to show a plot of value counts\n",
    "    #Type Code here\n",
    "    \n",
    "    plt.ylabel(col)\n",
    "    plt.xlabel('% distribution per category')\n",
    "plt.tight_layout()\n",
    "plt.show()    "
   ]
  },
  {
   "cell_type": "markdown",
   "metadata": {},
   "source": [
    "### Numerical Columns"
   ]
  },
  {
   "cell_type": "code",
   "execution_count": null,
   "metadata": {
    "_kg_hide-input": true,
    "scrolled": true
   },
   "outputs": [],
   "source": [
    "plt.figure(figsize=(18,40))\n",
    "for i,col in enumerate(num_columns,1):\n",
    "    plt.subplot(8,4,i)\n",
    "    # Use seaborn to plot a kernel desity plot for columns\n",
    "    # Type code here\n",
    "    plt.subplot(8,4,i+10)\n",
    "    # Use box-plot to show a plot of selected columns\n",
    "    # Type code here\n",
    "plt.tight_layout() \n",
    "plt.show()\n",
    "num_data = df[num_columns]\n",
    "pd.DataFrame(data=[num_data.skew(),num_data.kurtosis()],index=['skewness','kurtosis'])"
   ]
  },
  {
   "cell_type": "markdown",
   "metadata": {},
   "source": [
    "## Bivariate analysis with our target variable"
   ]
  },
  {
   "cell_type": "code",
   "execution_count": null,
   "metadata": {},
   "outputs": [],
   "source": [
    "print(df['area'].describe(),'\\n')\n",
    "print(y_outliers)"
   ]
  },
  {
   "cell_type": "code",
   "execution_count": null,
   "metadata": {
    "_kg_hide-input": true
   },
   "outputs": [],
   "source": [
    "# a categorical variable based on forest fire area damage\n",
    "# No damage, low, moderate, high, very high\n",
    "\n",
    "def area_cat(area): # Define a function that returns above categories for the range of values\n",
    "                    #  0 , <=1, <=25, <=100, >100 respectively\n",
    " #Type code here\n",
    "\n",
    "\n",
    "\n",
    "\n",
    "\n",
    "\n",
    "#Apply function to variable 'area'\n",
    "#Type code here\n",
    "df.head()\n"
   ]
  },
  {
   "cell_type": "markdown",
   "metadata": {},
   "source": [
    "### Categorical columns"
   ]
  },
  {
   "cell_type": "code",
   "execution_count": null,
   "metadata": {},
   "outputs": [],
   "source": [
    "cat_columns"
   ]
  },
  {
   "cell_type": "code",
   "execution_count": null,
   "metadata": {
    "_kg_hide-input": true,
    "scrolled": false
   },
   "outputs": [],
   "source": [
    "for col in cat_columns:\n",
    "    cross = pd.crosstab(index=df['damage_category'],columns=df[col],normalize='index')\n",
    "    # plot an image to visualize the didderent damage caetgories\n",
    "    # Type code here\n",
    "    plt.xlabel('% distribution per category')\n",
    "    plt.xticks(np.arange(0,1.1,0.1))\n",
    "    plt.title(\"Forestfire damage each {}\".format(col))\n",
    "plt.show()"
   ]
  },
  {
   "cell_type": "markdown",
   "metadata": {},
   "source": [
    "### Numerical columns"
   ]
  },
  {
   "cell_type": "code",
   "execution_count": null,
   "metadata": {
    "_kg_hide-input": true
   },
   "outputs": [],
   "source": [
    "plt.figure(figsize=(20,40))\n",
    "for i,col in enumerate(num_columns,1):\n",
    "    plt.subplot(10,1,i)\n",
    "    if col in ['X','Y']:\n",
    "        sns.swarmplot(data=df,x=col,y=target,hue='damage_category')\n",
    "    else:\n",
    "        # similar to above swarnplot use scatterplot\n",
    "        # Type code here\n",
    "plt.show()"
   ]
  },
  {
   "cell_type": "markdown",
   "metadata": {},
   "source": [
    "## Multivariate analysis"
   ]
  },
  {
   "cell_type": "code",
   "execution_count": null,
   "metadata": {},
   "outputs": [],
   "source": [
    "selected_features =                                      # Drop the columns 'damage_category','day','month'\n",
    "selected_features"
   ]
  },
  {
   "cell_type": "code",
   "execution_count": null,
   "metadata": {
    "_kg_hide-input": true
   },
   "outputs": [],
   "source": [
    "sns.pairplot(df,hue='damage_category',vars=selected_features)\n",
    "plt.show()"
   ]
  },
  {
   "cell_type": "markdown",
   "metadata": {},
   "source": [
    "# Outlier treatment"
   ]
  },
  {
   "cell_type": "markdown",
   "metadata": {},
   "source": [
    "Observed outliers are in the following columns:\n",
    "1. area \n",
    "2. FFMC\n",
    "2. ISI\n",
    "3. rain"
   ]
  },
  {
   "cell_type": "code",
   "execution_count": null,
   "metadata": {},
   "outputs": [],
   "source": [
    "out_columns =                          # Define array containing names of columns to be treated during data modelling"
   ]
  },
  {
   "cell_type": "markdown",
   "metadata": {},
   "source": [
    "# Preparing the data for modelling\n",
    "\n",
    "- Encoding the categorical columns "
   ]
  },
  {
   "cell_type": "code",
   "execution_count": null,
   "metadata": {},
   "outputs": [],
   "source": [
    "df =                                                   #use pandas library to get dummies for day and month variable"
   ]
  },
  {
   "cell_type": "markdown",
   "metadata": {},
   "source": [
    "- Data transformations like `log,root,inverse,exponential`,etc"
   ]
  },
  {
   "cell_type": "code",
   "execution_count": null,
   "metadata": {},
   "outputs": [],
   "source": [
    "print(df[out_columns].describe())\n",
    "np.log1p(df[out_columns]).skew(), np.log1p(df[out_columns]).kurtosis()"
   ]
  },
  {
   "cell_type": "code",
   "execution_count": null,
   "metadata": {},
   "outputs": [],
   "source": [
    "# FFMC and rain have high skew and kurtosis values, \n",
    "# Linear regression model cannot operate with such high values\n",
    "# For FFMC - remove the outliers in them using z-score method\n",
    "mask = df.loc[:,['FFMC']].apply(zscore).abs() < 3\n",
    "\n",
    "# Most of the values in rain are 0.0, convert it as a categorical column\n",
    "df['rain'] = df['rain'].apply(lambda x: ) #Finish the code\n",
    "\n",
    "df = df[mask.values]\n",
    "df.shape"
   ]
  },
  {
   "cell_type": "code",
   "execution_count": null,
   "metadata": {},
   "outputs": [],
   "source": [
    "out_columns.remove('rain')\n",
    "# Use log transformation on remaining columns to be treated\n",
    "# Type code here"
   ]
  },
  {
   "cell_type": "code",
   "execution_count": null,
   "metadata": {},
   "outputs": [],
   "source": [
    "df[out_columns].skew()"
   ]
  },
  {
   "cell_type": "code",
   "execution_count": null,
   "metadata": {},
   "outputs": [],
   "source": [
    "# This dataframe will be used for building ML model\n",
    "df_ml = df.drop(columns=['damage_category']).copy()"
   ]
  },
  {
   "cell_type": "markdown",
   "metadata": {},
   "source": [
    "---"
   ]
  },
  {
   "cell_type": "markdown",
   "metadata": {},
   "source": [
    "# Linear Regression"
   ]
  },
  {
   "cell_type": "code",
   "execution_count": null,
   "metadata": {},
   "outputs": [],
   "source": [
    "X = df.drop(columns=['area','damage_category'])\n",
    "y = df['area']"
   ]
  },
  {
   "cell_type": "code",
   "execution_count": null,
   "metadata": {},
   "outputs": [],
   "source": [
    "# Define and fit linear regression model\n",
    "lr =               # Type code here\n",
    "\n",
    "\n",
    "print(f'Intercept: {lr.intercept_}')\n",
    "print(f'R^2 score: {lr.score(X, y)}')\n",
    "pd.DataFrame({\"Coefficients\": lr.coef_}, index=X.columns)"
   ]
  },
  {
   "cell_type": "markdown",
   "metadata": {},
   "source": [
    "# Improving Stats model"
   ]
  },
  {
   "cell_type": "markdown",
   "metadata": {},
   "source": [
    "**Dropping columns to improve accuracy:**\n",
    "    \n",
    "By checking high Variance inflation factor and p-value we will decide whether to keep the column or drop it.\n",
    "\n",
    "> R^2 = 1 - SSE(Sum of Square of Residuals)/SST (Sum of square Total)\n",
    "\n",
    "Just by dropping constant we got a huge bump in adjusted R2 from `2.5%` to `40.6%`."
   ]
  },
  {
   "cell_type": "code",
   "execution_count": null,
   "metadata": {},
   "outputs": [],
   "source": [
    "X = df.drop(columns=['area','damage_category'])\n",
    "y = df['area']"
   ]
  },
  {
   "cell_type": "code",
   "execution_count": null,
   "metadata": {
    "_kg_hide-output": true
   },
   "outputs": [],
   "source": [
    "def check_stats(X,y):\n",
    "    vif = [variance_inflation_factor(X.values, i) for i in range(X.shape[1])]\n",
    "    print(pd.DataFrame({'vif': vif}, index=X.columns).sort_values(by=\"vif\",ascending=False)[:10])\n",
    "    lin_reg = sm.OLS(y,X).fit()\n",
    "    print(lin_reg.summary())\n",
    "check_stats(X,y)"
   ]
  },
  {
   "cell_type": "code",
   "execution_count": null,
   "metadata": {},
   "outputs": [],
   "source": [
    "X.drop(columns=['FFMC'],inplace=True)\n",
    "# check_stats(X,y)"
   ]
  },
  {
   "cell_type": "code",
   "execution_count": null,
   "metadata": {},
   "outputs": [],
   "source": [
    "# Similarly remove columns - Y, month_jul, day_thu, day_mon, month_aug (based on R2 score)"
   ]
  }
 ],
 "metadata": {
  "kernelspec": {
   "display_name": "Python 3",
   "language": "python",
   "name": "python3"
  },
  "language_info": {
   "codemirror_mode": {
    "name": "ipython",
    "version": 3
   },
   "file_extension": ".py",
   "mimetype": "text/x-python",
   "name": "python",
   "nbconvert_exporter": "python",
   "pygments_lexer": "ipython3",
   "version": "3.7.7"
  },
  "latex_envs": {
   "LaTeX_envs_menu_present": true,
   "autoclose": false,
   "autocomplete": true,
   "bibliofile": "biblio.bib",
   "cite_by": "apalike",
   "current_citInitial": 1,
   "eqLabelWithNumbers": true,
   "eqNumInitial": 1,
   "hotkeys": {
    "equation": "Ctrl-E",
    "itemize": "Ctrl-I"
   },
   "labels_anchors": false,
   "latex_user_defs": false,
   "report_style_numbering": false,
   "user_envs_cfg": false
  },
  "toc": {
   "base_numbering": 1,
   "nav_menu": {},
   "number_sections": false,
   "sideBar": true,
   "skip_h1_title": false,
   "title_cell": "Table of Contents",
   "title_sidebar": "Contents",
   "toc_cell": true,
   "toc_position": {
    "height": "calc(100% - 180px)",
    "left": "10px",
    "top": "150px",
    "width": "259.188px"
   },
   "toc_section_display": true,
   "toc_window_display": true
  }
 },
 "nbformat": 4,
 "nbformat_minor": 1
}
