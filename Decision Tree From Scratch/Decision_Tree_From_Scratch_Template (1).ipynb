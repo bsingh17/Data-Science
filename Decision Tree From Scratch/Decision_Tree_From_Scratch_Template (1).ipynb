{
  "nbformat": 4,
  "nbformat_minor": 0,
  "metadata": {
    "colab": {
      "name": "Decision Tree From Scratch Template.ipynb",
      "provenance": [],
      "collapsed_sections": []
    },
    "kernelspec": {
      "name": "python3",
      "display_name": "Python 3"
    }
  },
  "cells": [
    {
      "cell_type": "markdown",
      "metadata": {
        "id": "XclCCqrdjJIn",
        "colab_type": "text"
      },
      "source": [
        "## Building Decision Tree From Scratch"
      ]
    },
    {
      "cell_type": "markdown",
      "metadata": {
        "id": "-rbLG3y2jQqC",
        "colab_type": "text"
      },
      "source": [
        "### Import Libraries"
      ]
    },
    {
      "cell_type": "code",
      "metadata": {
        "id": "b2mF3M2ihpqq",
        "colab_type": "code",
        "colab": {}
      },
      "source": [
        "import pandas as pd\n",
        "import numpy as np\n",
        "import matplotlib.pyplot as plt\n",
        "import seaborn as sns\n",
        "import random\n",
        "%matplotlib inline"
      ],
      "execution_count": 0,
      "outputs": []
    },
    {
      "cell_type": "markdown",
      "metadata": {
        "id": "j7jKj3rKleuv",
        "colab_type": "text"
      },
      "source": [
        "### Read Data"
      ]
    },
    {
      "cell_type": "code",
      "metadata": {
        "id": "G9SaG48XsmYH",
        "colab_type": "code",
        "colab": {}
      },
      "source": [
        "df = pd.read_csv('/content/drive/My Drive/data_set/iris.csv')\n",
        "df = df.rename(columns={\"variety\": \"label\"})"
      ],
      "execution_count": 0,
      "outputs": []
    },
    {
      "cell_type": "markdown",
      "metadata": {
        "id": "6uSMMLLGtYGG",
        "colab_type": "text"
      },
      "source": [
        "### Train Test Split\n",
        "\n",
        "Write a function to split the dataset into traning and testing set.\n"
      ]
    },
    {
      "cell_type": "code",
      "metadata": {
        "id": "jtoIfbknqnS-",
        "colab_type": "code",
        "colab": {}
      },
      "source": [
        "def train_test_split(df, test_size):\n",
        "  ##TODO : Start your code here\n",
        "    \n",
        "    \n",
        "    return train_df, test_df"
      ],
      "execution_count": 0,
      "outputs": []
    },
    {
      "cell_type": "code",
      "metadata": {
        "id": "WPiiOKFVqnW2",
        "colab_type": "code",
        "colab": {}
      },
      "source": [
        "#print to check if the train_test_split function is working or not\n",
        "random.seed(0)\n",
        "train_df, test_df = train_test_split(df, test_size=20)"
      ],
      "execution_count": 0,
      "outputs": []
    },
    {
      "cell_type": "markdown",
      "metadata": {
        "id": "vgHDptnZtcAF",
        "colab_type": "text"
      },
      "source": [
        "### Helper Functions\n",
        "\n",
        "The helper functions operate on a NumPy 2d-array. Therefore, let’s create a variable called “data” ."
      ]
    },
    {
      "cell_type": "code",
      "metadata": {
        "id": "sKJmSTjvqney",
        "colab_type": "code",
        "colab": {}
      },
      "source": [
        "data = train_df.values"
      ],
      "execution_count": 0,
      "outputs": []
    },
    {
      "cell_type": "markdown",
      "metadata": {
        "id": "EvwDr2YGtugW",
        "colab_type": "text"
      },
      "source": [
        "### Pure Node ?\n",
        "\n",
        "Now if in our target labels there's only one class there should not be any split and we should make our classification with just one class."
      ]
    },
    {
      "cell_type": "code",
      "metadata": {
        "id": "HswUMI6KqniU",
        "colab_type": "code",
        "colab": {}
      },
      "source": [
        "def check_purity(data):\n",
        "    #TODO : Write your code to check if node has pure class or not\n",
        "    "
      ],
      "execution_count": 0,
      "outputs": []
    },
    {
      "cell_type": "markdown",
      "metadata": {
        "id": "MHoNntP-t4OQ",
        "colab_type": "text"
      },
      "source": [
        "###Classify\n",
        "\n",
        "Now Make classification  after we have identified the pure node or the majority class present in that node."
      ]
    },
    {
      "cell_type": "code",
      "metadata": {
        "id": "akaWBfbcqnlI",
        "colab_type": "code",
        "colab": {}
      },
      "source": [
        "\n",
        "def classify_data(data):\n",
        "    #TODO : Writ your code Here\n",
        "    \n",
        "    \n",
        "    return classification"
      ],
      "execution_count": 0,
      "outputs": []
    },
    {
      "cell_type": "markdown",
      "metadata": {
        "id": "pDKc9rzPuG6A",
        "colab_type": "text"
      },
      "source": [
        "## Potential Split \n",
        "\n",
        "Now if the node is not pure. We should find all the potential split from our features and choose the best split. Excluding the label column."
      ]
    },
    {
      "cell_type": "code",
      "metadata": {
        "id": "FRTbV4Wcqnc0",
        "colab_type": "code",
        "colab": {}
      },
      "source": [
        "\n",
        "def get_potential_splits(data):\n",
        "    #TODO : Write your code here\n",
        "\n",
        "    \n",
        "    return potential_splits"
      ],
      "execution_count": 0,
      "outputs": []
    },
    {
      "cell_type": "markdown",
      "metadata": {
        "id": "rHXlF0QA0T3e",
        "colab_type": "text"
      },
      "source": [
        "#### Split Data\n",
        "\n",
        "Check for the different parameters for the split"
      ]
    },
    {
      "cell_type": "code",
      "metadata": {
        "id": "6oaPIi1ZuN6_",
        "colab_type": "code",
        "colab": {}
      },
      "source": [
        "def split_data(data, split_column, split_value):\n",
        "    #TODO : Write your code here\n",
        "    \n",
        "    \n",
        "    return data_below, data_above"
      ],
      "execution_count": 0,
      "outputs": []
    },
    {
      "cell_type": "markdown",
      "metadata": {
        "id": "Gez2X71W00j6",
        "colab_type": "text"
      },
      "source": [
        "## Lowest Overall Entropy\n",
        "\n",
        "Calculate the entropy for every possible split and choose the one with the best split i.e low entropy."
      ]
    },
    {
      "cell_type": "code",
      "metadata": {
        "id": "zgrrcRgd0i52",
        "colab_type": "code",
        "colab": {}
      },
      "source": [
        "def calculate_entropy(data):\n",
        "    #TODO : Calculate the entropy for each label\n",
        "    \n",
        "     \n",
        "    return entropy"
      ],
      "execution_count": 0,
      "outputs": []
    },
    {
      "cell_type": "code",
      "metadata": {
        "id": "u48MYMwv1B5r",
        "colab_type": "code",
        "colab": {}
      },
      "source": [
        "def calculate_overall_entropy(data_below, data_above):\n",
        "    # TODO : Calculate over all entropy for p_data_below and p_data_above\n",
        "    \n",
        "    \n",
        "    return overall_entropy"
      ],
      "execution_count": 0,
      "outputs": []
    },
    {
      "cell_type": "code",
      "metadata": {
        "id": "bTTuyulr1CGi",
        "colab_type": "code",
        "colab": {}
      },
      "source": [
        "def determine_best_split(data, potential_splits):\n",
        "    #Todo : Check for the best split based on lowest entropy and define the split    \n",
        "\n",
        "    \n",
        "    return best_split_column, best_split_value"
      ],
      "execution_count": 0,
      "outputs": []
    },
    {
      "cell_type": "markdown",
      "metadata": {
        "id": "dn4FoE3z1kzm",
        "colab_type": "text"
      },
      "source": [
        "##Decsision Tree Algorithm"
      ]
    },
    {
      "cell_type": "markdown",
      "metadata": {
        "id": "Z9ZyJsKU1p4T",
        "colab_type": "text"
      },
      "source": [
        "Representation of the decision tree"
      ]
    },
    {
      "cell_type": "code",
      "metadata": {
        "id": "F_U-ZZim1CzX",
        "colab_type": "code",
        "colab": {}
      },
      "source": [
        "\n",
        "sub_tree = {\"question\": [\"yes_answer\", \n",
        "                         \"no_answer\"]}"
      ],
      "execution_count": 0,
      "outputs": []
    },
    {
      "cell_type": "code",
      "metadata": {
        "id": "8MghucZK1C4f",
        "colab_type": "code",
        "colab": {}
      },
      "source": [
        "\n",
        "example_tree = {\"petal_width <= 0.8\": [\"Iris-setosa\", \n",
        "                                      {\"petal_width <= 1.65\": [{\"petal_length <= 4.9\": [\"Iris-versicolor\", \n",
        "                                                                                        \"Iris-virginica\"]}, \n",
        "                                                                \"Iris-virginica\"]}]}"
      ],
      "execution_count": 0,
      "outputs": []
    },
    {
      "cell_type": "markdown",
      "metadata": {
        "id": "6wUyDXFk2FPG",
        "colab_type": "text"
      },
      "source": [
        "## Algorithm"
      ]
    },
    {
      "cell_type": "code",
      "metadata": {
        "id": "50rxrebg17zf",
        "colab_type": "code",
        "colab": {}
      },
      "source": [
        "def decision_tree_algorithm(df, counter=0, min_samples=2, max_depth=5):\n",
        "    \n",
        "    # data preparations\n",
        "    if counter == 0:\n",
        "        global COLUMN_HEADERS\n",
        "        COLUMN_HEADERS = df.columns\n",
        "        data = df.values\n",
        "    else:\n",
        "        data = df           \n",
        "    \n",
        "    \n",
        "    # base cases\n",
        "    if (check_purity(data)) or (len(data) < min_samples) or (counter == max_depth):\n",
        "        classification = classify_data(data)\n",
        "        \n",
        "        return classification\n",
        "\n",
        "    \n",
        "    # recursive part\n",
        "    else:    \n",
        "        counter += 1\n",
        "\n",
        "        # helper functions \n",
        "        #TODO : Check for potential splits using get_potential_splits function\n",
        "        #TODO : determine best split using determine_best_split function\n",
        "        #TODO : use split_data function and find data_below and data_above\n",
        "        \n",
        "        # instantiate sub-tree\n",
        "        #TODO : Write code to initiate sub-tree\n",
        "        \n",
        "        \n",
        "        # Find answers (recursion)\n",
        "        #TODO : Write Your code here\n",
        "        \n",
        "        \n",
        "        # If the answers are the same, then there is no point in asking the qestion.\n",
        "        # This could happen when the data is classified even though it is not pure\n",
        "        # yet (min_samples or max_depth base cases).\n",
        "        if yes_answer == no_answer:\n",
        "            sub_tree = yes_answer\n",
        "        else:\n",
        "            sub_tree[question].append(yes_answer)\n",
        "            sub_tree[question].append(no_answer)\n",
        "        \n",
        "        return sub_tree"
      ],
      "execution_count": 0,
      "outputs": []
    },
    {
      "cell_type": "code",
      "metadata": {
        "id": "NuHdDBSi2YO3",
        "colab_type": "code",
        "colab": {}
      },
      "source": [
        "\n",
        "tree = decision_tree_algorithm(train_df, max_depth=3)\n",
        "print(tree)"
      ],
      "execution_count": 0,
      "outputs": []
    },
    {
      "cell_type": "markdown",
      "metadata": {
        "id": "8GGWosXO2h39",
        "colab_type": "text"
      },
      "source": [
        "###Classification\n",
        "\n"
      ]
    },
    {
      "cell_type": "code",
      "metadata": {
        "id": "Oo53tAb-2qzC",
        "colab_type": "code",
        "colab": {}
      },
      "source": [
        "\n",
        "example = test_df.iloc[0]\n",
        "example"
      ],
      "execution_count": 0,
      "outputs": []
    },
    {
      "cell_type": "code",
      "metadata": {
        "id": "ej5tXQ832ub6",
        "colab_type": "code",
        "colab": {}
      },
      "source": [
        "\n",
        "def classify_example(example, tree):\n",
        "    question = list(tree.keys())[0]\n",
        "    feature_name, comparison_operator, value = question.split()\n",
        "\n",
        "    # ask question\n",
        "    #TODO : Write your code here\n",
        "    \n",
        "\n",
        "    # base case\n",
        "    # TODO : Write your code here\n",
        "    \n",
        "    \n",
        "    # recursive part\n",
        "    #TODO : Write your code here\n",
        "    "
      ],
      "execution_count": 0,
      "outputs": []
    },
    {
      "cell_type": "code",
      "metadata": {
        "id": "dyIQDB-p2zfv",
        "colab_type": "code",
        "colab": {}
      },
      "source": [
        "classify_example(example, tree)"
      ],
      "execution_count": 0,
      "outputs": []
    },
    {
      "cell_type": "markdown",
      "metadata": {
        "id": "8PXePebH3Ctf",
        "colab_type": "text"
      },
      "source": [
        "## Calculate Accuracy"
      ]
    },
    {
      "cell_type": "code",
      "metadata": {
        "id": "i4uc5MQx23bR",
        "colab_type": "code",
        "colab": {}
      },
      "source": [
        "def calculate_accuracy(df, tree):\n",
        "    ## TODO Write function to compare the actual and predicted output and chec the over all accuracy\n",
        "\n",
        "    \n",
        "    return accuracy"
      ],
      "execution_count": 0,
      "outputs": []
    },
    {
      "cell_type": "code",
      "metadata": {
        "id": "IbbiYx1u3GKN",
        "colab_type": "code",
        "colab": {}
      },
      "source": [
        "accuracy = calculate_accuracy(test_df, tree)\n",
        "accuracy"
      ],
      "execution_count": 0,
      "outputs": []
    },
    {
      "cell_type": "code",
      "metadata": {
        "id": "RKaL2dti3LTI",
        "colab_type": "code",
        "colab": {}
      },
      "source": [
        ""
      ],
      "execution_count": 0,
      "outputs": []
    }
  ]
}