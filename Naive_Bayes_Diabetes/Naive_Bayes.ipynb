{
 "cells": [
  {
   "cell_type": "markdown",
   "metadata": {
    "_cell_guid": "7b3f8258-662b-424a-9d35-e1fb882c1306",
    "_execution_state": "idle",
    "_uuid": "d677e0853462f88572798ca33d1bbd1af9e1f57e"
   },
   "source": [
    "We will use Naive Bayes to model the \"Pima Indians Diabetes\" data set. This model will predict which people are likely to develop diabetes.\n",
    "\n",
    "This dataset is originally from the National Institute of Diabetes and Digestive and Kidney Diseases. The objective of the dataset is to diagnostically predict whether or not a patient has diabetes, based on certain diagnostic measurements included in the dataset. Several constraints were placed on the selection of these instances from a larger database. In particular, all patients here are females at least 21 years old of Pima Indian heritage."
   ]
  },
  {
   "cell_type": "markdown",
   "metadata": {
    "_cell_guid": "26dcb635-f956-4672-b097-3419e36b0071",
    "_execution_state": "idle",
    "_uuid": "4e83bf1a41e4fce195fce364fe46049d4c47d61a"
   },
   "source": [
    "## Import Libraries"
   ]
  },
  {
   "cell_type": "code",
   "execution_count": 1,
   "metadata": {
    "_cell_guid": "d6c9c45a-ab99-4724-9f79-3078de45a2c2",
    "_execution_state": "idle",
    "_uuid": "3f1077096bcba840ff0b64c1e3e75373d6f7cb4e"
   },
   "outputs": [],
   "source": [
    "# data processing, CSV file I/O\n",
    "# matplotlib.pyplot plots data\n",
    "\n"
   ]
  },
  {
   "cell_type": "markdown",
   "metadata": {
    "_cell_guid": "7e6eecbd-4ed5-48a7-9a4a-f332284941a8",
    "_execution_state": "idle",
    "_uuid": "b67213ded17f98e51f96710ed75b3e30e0188aec"
   },
   "source": [
    "## Load and review data"
   ]
  },
  {
   "cell_type": "code",
   "execution_count": null,
   "metadata": {
    "_cell_guid": "494c0137-fe90-4a56-8c04-8c0cd312f4e0",
    "_execution_state": "idle",
    "_uuid": "18516319ab9c570974d728eb2fc55e54a7b44855"
   },
   "outputs": [],
   "source": []
  },
  {
   "cell_type": "code",
   "execution_count": 1,
   "metadata": {
    "_cell_guid": "e76ccd67-f803-4245-aeda-cba2da84b379",
    "_execution_state": "idle",
    "_uuid": "9c42f7d497d2b92f651a33b58359641c6593a441"
   },
   "outputs": [],
   "source": [
    "# Check number of columns and rows in data frame\n"
   ]
  },
  {
   "cell_type": "code",
   "execution_count": 2,
   "metadata": {
    "_cell_guid": "219699a3-5760-4c35-a26d-d7343085fde4",
    "_execution_state": "idle",
    "_uuid": "207cb4511bc2147529219737324a37157d1455d8"
   },
   "outputs": [],
   "source": [
    "# To check first 5 rows of data set\n"
   ]
  },
  {
   "cell_type": "code",
   "execution_count": 3,
   "metadata": {
    "_cell_guid": "2845e88c-8999-48d2-a94d-cae37473fd05",
    "_execution_state": "idle",
    "_uuid": "95fd5e5d6206cd21a548259734596d46329ace3a"
   },
   "outputs": [],
   "source": [
    "# If there are any null values in data set\n"
   ]
  },
  {
   "cell_type": "code",
   "execution_count": 4,
   "metadata": {
    "_cell_guid": "e1e111eb-5bfc-40db-8bab-b5853a91ff3a",
    "_execution_state": "idle",
    "_uuid": "9d141393f14e2a890b425f1533862ac2f03d09af"
   },
   "outputs": [],
   "source": [
    "# Excluding Outcome column\n",
    "\n",
    "# Histogram of first 8 columns\n",
    "\n"
   ]
  },
  {
   "cell_type": "markdown",
   "metadata": {
    "_cell_guid": "fb8c4dbe-588a-4c0f-97a6-a38b304482cc",
    "_execution_state": "idle",
    "_uuid": "e54f56a861fdb9d808f3063b011198b7c5e54919"
   },
   "source": [
    "## Identify Correlation in data "
   ]
  },
  {
   "cell_type": "code",
   "execution_count": 5,
   "metadata": {
    "_cell_guid": "5712f277-5723-4fcb-86b0-1b8c84046380",
    "_execution_state": "idle",
    "_uuid": "5e3b3649d189594a1aeb9ca2b8b950a9ba0321d1"
   },
   "outputs": [],
   "source": [
    "#show correlation matrix \n",
    "\n"
   ]
  },
  {
   "cell_type": "code",
   "execution_count": 7,
   "metadata": {
    "_cell_guid": "4a9f1746-22c5-4383-bbdd-e938ec7ebc90",
    "_execution_state": "idle",
    "_uuid": "6a1fddb0dccb53dea17420096c7217ed1de39cd3"
   },
   "outputs": [],
   "source": [
    "# However we want to see correlation in graphical representation\n",
    "\n"
   ]
  },
  {
   "cell_type": "markdown",
   "metadata": {
    "_cell_guid": "aa405f3c-38cc-4f3a-a775-ef0d94a067b3",
    "_execution_state": "idle",
    "_uuid": "eff7ef0f7fafb92a1c0d9a93f3a11cef4a92e0f9"
   },
   "source": [
    "## Calculate diabetes ratio of True/False from outcome variable "
   ]
  },
  {
   "cell_type": "code",
   "execution_count": null,
   "metadata": {
    "_cell_guid": "1e7a67ea-7dfc-4c1d-85c1-d299dfeb276e",
    "_execution_state": "idle",
    "_uuid": "63b2386dde054631a479ee491eef64d471e7c887"
   },
   "outputs": [],
   "source": []
  },
  {
   "cell_type": "markdown",
   "metadata": {
    "_cell_guid": "5e39d0b7-2f26-4d26-8a8d-6d0da0e22594",
    "_execution_state": "idle",
    "_uuid": "3c5ea745d170940b3d831b6e128959c87f8c117f"
   },
   "source": [
    "## Spliting the data \n"
   ]
  },
  {
   "cell_type": "code",
   "execution_count": null,
   "metadata": {
    "_cell_guid": "5a9250a4-7c26-4770-943e-234568a37be3",
    "_execution_state": "idle",
    "_uuid": "00a1d497bd1fcae2c3500540bede6d2bbf25ab54"
   },
   "outputs": [],
   "source": [
    "# Use 70% of data for training and 30% for testing\n",
    "\n"
   ]
  },
  {
   "cell_type": "markdown",
   "metadata": {
    "_cell_guid": "fd533eb9-a891-40de-87d2-7db271681e51",
    "_execution_state": "idle",
    "_uuid": "f667115329e68cfa0015c8c26b57db7104ee3dbb"
   },
   "source": [
    "Lets check split of data"
   ]
  },
  {
   "cell_type": "code",
   "execution_count": null,
   "metadata": {
    "_execution_state": "idle",
    "_uuid": "34188146c68af804a7df3cf0e3e33ed79d096985"
   },
   "outputs": [],
   "source": []
  },
  {
   "cell_type": "markdown",
   "metadata": {
    "_execution_state": "idle",
    "_uuid": "83fd5fc5ee2f1b7a947e07125a62c6b205d9bdfd"
   },
   "source": [
    "Now lets check diabetes True/False ratio in split data "
   ]
  },
  {
   "cell_type": "code",
   "execution_count": null,
   "metadata": {
    "_execution_state": "idle",
    "_uuid": "eca76e428776a0897acf958ad9791abd06700fe7"
   },
   "outputs": [],
   "source": []
  },
  {
   "cell_type": "markdown",
   "metadata": {
    "_execution_state": "idle",
    "_uuid": "7170e34e9c311bc3f08f02a7ee48ad849f40c006"
   },
   "source": [
    "# Data Preparation\n",
    "\n",
    "### Check hidden missing values \n",
    "\n",
    "As we checked missing values earlier but haven't got any. But there can be lots of entries with 0 values. We must need to take care of those as well."
   ]
  },
  {
   "cell_type": "code",
   "execution_count": null,
   "metadata": {
    "_execution_state": "idle",
    "_uuid": "6c0207322e005d651a75bebc0b98b1b4622299a2"
   },
   "outputs": [],
   "source": []
  },
  {
   "cell_type": "markdown",
   "metadata": {
    "_execution_state": "idle",
    "_uuid": "451c63a2f53a84f71f0ef11151b8a1e2ce3b9c9a"
   },
   "source": [
    "### Replace 0s with serial mean "
   ]
  },
  {
   "cell_type": "code",
   "execution_count": null,
   "metadata": {
    "_execution_state": "idle",
    "_uuid": "0135f4ba70fef49db752a533488463101e84d2fb"
   },
   "outputs": [],
   "source": []
  },
  {
   "cell_type": "markdown",
   "metadata": {
    "_execution_state": "idle",
    "_uuid": "9bd3a67b1c4259581af778d6de07cf1202d26cb2"
   },
   "source": [
    "# Train Naive Bayes algorithm "
   ]
  },
  {
   "cell_type": "code",
   "execution_count": null,
   "metadata": {
    "_execution_state": "idle",
    "_uuid": "8804c77544850ef88d0a989dc168fa18c3a3bba9"
   },
   "outputs": [],
   "source": []
  },
  {
   "cell_type": "markdown",
   "metadata": {
    "_execution_state": "idle",
    "_uuid": "91e21121d5ce5e57d6ad355a62faeb4a43b95838"
   },
   "source": [
    "### Performance of our model with training data"
   ]
  },
  {
   "cell_type": "code",
   "execution_count": null,
   "metadata": {
    "_execution_state": "idle",
    "_uuid": "f169be18544cf1c88b29e312fe03a05de839b58c"
   },
   "outputs": [],
   "source": []
  },
  {
   "cell_type": "markdown",
   "metadata": {
    "_execution_state": "idle",
    "_uuid": "8215fb98175cc468cd93558b2f4031586e31f86e"
   },
   "source": [
    "### Performance of our model with testing data"
   ]
  },
  {
   "cell_type": "code",
   "execution_count": null,
   "metadata": {
    "_execution_state": "idle",
    "_uuid": "fd40134207ea552e9a88a906f1aaaa7cf51bce57"
   },
   "outputs": [],
   "source": []
  },
  {
   "cell_type": "markdown",
   "metadata": {
    "_execution_state": "idle",
    "_uuid": "b0217cb7b0912634e188bc60aa93087f45c3e39f"
   },
   "source": [
    "### Lets check the confusion matrix and classification report "
   ]
  },
  {
   "cell_type": "code",
   "execution_count": null,
   "metadata": {},
   "outputs": [],
   "source": []
  },
  {
   "cell_type": "code",
   "execution_count": 9,
   "metadata": {
    "_execution_state": "idle",
    "_uuid": "a5a4377c9213678ecd72e79d5c12425f46eff8a5"
   },
   "outputs": [],
   "source": [
    "# Print Classification report\n",
    "\n"
   ]
  }
 ],
 "metadata": {
  "kernelspec": {
   "display_name": "Python 3",
   "language": "python",
   "name": "python3"
  },
  "language_info": {
   "codemirror_mode": {
    "name": "ipython",
    "version": 3
   },
   "file_extension": ".py",
   "mimetype": "text/x-python",
   "name": "python",
   "nbconvert_exporter": "python",
   "pygments_lexer": "ipython3",
   "version": "3.7.6"
  }
 },
 "nbformat": 4,
 "nbformat_minor": 4
}
