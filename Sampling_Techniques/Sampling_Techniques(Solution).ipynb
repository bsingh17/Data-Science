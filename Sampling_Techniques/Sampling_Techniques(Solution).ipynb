{
 "cells": [
  {
   "cell_type": "markdown",
   "metadata": {},
   "source": [
    "# Sampling Techniques "
   ]
  },
  {
   "cell_type": "markdown",
   "metadata": {},
   "source": [
    ">## Objective :"
   ]
  },
  {
   "cell_type": "markdown",
   "metadata": {},
   "source": [
    "To understand and implement sampling techniques like : \n",
    "- Random Sampling\n",
    "- Stratified Sampling \n",
    "- Random UnderSampling\n",
    "- Random OverSampling "
   ]
  },
  {
   "cell_type": "markdown",
   "metadata": {},
   "source": [
    "> ## Approach  :"
   ]
  },
  {
   "cell_type": "markdown",
   "metadata": {},
   "source": [
    "The objective will be fulfilled in the following stages : \n",
    "\n",
    "- **Data Preprocessing and Cleaning**\n",
    "- **Visualisation :** (Bar plot)\n",
    "- **Sampling :**\n",
    "\n",
    "      - Random Sampling\n",
    "      - Stratified Sampling \n",
    "      \n",
    "- **Undersampling and Oversampling :**\n",
    "\n",
    "      - Random Undersampling : Basic code and using Tomeklink\n",
    "      - Random Oversampling : Basic code and using SMOTE\n",
    "\n",
    "- **Conclusion**"
   ]
  },
  {
   "cell_type": "markdown",
   "metadata": {},
   "source": [
    "## 1. Data Preprocessing and Cleaning "
   ]
  },
  {
   "cell_type": "code",
   "execution_count": 1,
   "metadata": {},
   "outputs": [],
   "source": [
    "import pandas as pd\n",
    "import numpy as np\n",
    "import matplotlib.pyplot as plt \n",
    "import seaborn as sns"
   ]
  },
  {
   "cell_type": "code",
   "execution_count": 2,
   "metadata": {},
   "outputs": [],
   "source": [
    "data = pd.read_csv(r'C:\\Users\\kusht\\OneDrive\\Desktop\\Excel-csv\\esc50.csv')"
   ]
  },
  {
   "cell_type": "code",
   "execution_count": 3,
   "metadata": {},
   "outputs": [
    {
     "data": {
      "text/html": [
       "<div>\n",
       "<style scoped>\n",
       "    .dataframe tbody tr th:only-of-type {\n",
       "        vertical-align: middle;\n",
       "    }\n",
       "\n",
       "    .dataframe tbody tr th {\n",
       "        vertical-align: top;\n",
       "    }\n",
       "\n",
       "    .dataframe thead th {\n",
       "        text-align: right;\n",
       "    }\n",
       "</style>\n",
       "<table border=\"1\" class=\"dataframe\">\n",
       "  <thead>\n",
       "    <tr style=\"text-align: right;\">\n",
       "      <th></th>\n",
       "      <th>filename</th>\n",
       "      <th>fold</th>\n",
       "      <th>target</th>\n",
       "      <th>category</th>\n",
       "      <th>esc10</th>\n",
       "      <th>src_file</th>\n",
       "      <th>take</th>\n",
       "    </tr>\n",
       "  </thead>\n",
       "  <tbody>\n",
       "    <tr>\n",
       "      <td>0</td>\n",
       "      <td>1-100032-A-0.wav</td>\n",
       "      <td>1</td>\n",
       "      <td>0</td>\n",
       "      <td>dog</td>\n",
       "      <td>True</td>\n",
       "      <td>100032</td>\n",
       "      <td>A</td>\n",
       "    </tr>\n",
       "    <tr>\n",
       "      <td>1</td>\n",
       "      <td>1-100038-A-14.wav</td>\n",
       "      <td>1</td>\n",
       "      <td>14</td>\n",
       "      <td>chirping_birds</td>\n",
       "      <td>False</td>\n",
       "      <td>100038</td>\n",
       "      <td>A</td>\n",
       "    </tr>\n",
       "    <tr>\n",
       "      <td>2</td>\n",
       "      <td>1-100210-A-36.wav</td>\n",
       "      <td>1</td>\n",
       "      <td>36</td>\n",
       "      <td>vacuum_cleaner</td>\n",
       "      <td>False</td>\n",
       "      <td>100210</td>\n",
       "      <td>A</td>\n",
       "    </tr>\n",
       "    <tr>\n",
       "      <td>3</td>\n",
       "      <td>1-100210-B-36.wav</td>\n",
       "      <td>1</td>\n",
       "      <td>36</td>\n",
       "      <td>vacuum_cleaner</td>\n",
       "      <td>False</td>\n",
       "      <td>100210</td>\n",
       "      <td>B</td>\n",
       "    </tr>\n",
       "    <tr>\n",
       "      <td>4</td>\n",
       "      <td>1-101296-A-19.wav</td>\n",
       "      <td>1</td>\n",
       "      <td>19</td>\n",
       "      <td>thunderstorm</td>\n",
       "      <td>False</td>\n",
       "      <td>101296</td>\n",
       "      <td>A</td>\n",
       "    </tr>\n",
       "    <tr>\n",
       "      <td>...</td>\n",
       "      <td>...</td>\n",
       "      <td>...</td>\n",
       "      <td>...</td>\n",
       "      <td>...</td>\n",
       "      <td>...</td>\n",
       "      <td>...</td>\n",
       "      <td>...</td>\n",
       "    </tr>\n",
       "    <tr>\n",
       "      <td>1995</td>\n",
       "      <td>5-263831-B-6.wav</td>\n",
       "      <td>5</td>\n",
       "      <td>6</td>\n",
       "      <td>hen</td>\n",
       "      <td>False</td>\n",
       "      <td>263831</td>\n",
       "      <td>B</td>\n",
       "    </tr>\n",
       "    <tr>\n",
       "      <td>1996</td>\n",
       "      <td>5-263902-A-36.wav</td>\n",
       "      <td>5</td>\n",
       "      <td>36</td>\n",
       "      <td>vacuum_cleaner</td>\n",
       "      <td>False</td>\n",
       "      <td>263902</td>\n",
       "      <td>A</td>\n",
       "    </tr>\n",
       "    <tr>\n",
       "      <td>1997</td>\n",
       "      <td>5-51149-A-25.wav</td>\n",
       "      <td>5</td>\n",
       "      <td>25</td>\n",
       "      <td>footsteps</td>\n",
       "      <td>False</td>\n",
       "      <td>51149</td>\n",
       "      <td>A</td>\n",
       "    </tr>\n",
       "    <tr>\n",
       "      <td>1998</td>\n",
       "      <td>5-61635-A-8.wav</td>\n",
       "      <td>5</td>\n",
       "      <td>8</td>\n",
       "      <td>sheep</td>\n",
       "      <td>False</td>\n",
       "      <td>61635</td>\n",
       "      <td>A</td>\n",
       "    </tr>\n",
       "    <tr>\n",
       "      <td>1999</td>\n",
       "      <td>5-9032-A-0.wav</td>\n",
       "      <td>5</td>\n",
       "      <td>0</td>\n",
       "      <td>dog</td>\n",
       "      <td>True</td>\n",
       "      <td>9032</td>\n",
       "      <td>A</td>\n",
       "    </tr>\n",
       "  </tbody>\n",
       "</table>\n",
       "<p>2000 rows × 7 columns</p>\n",
       "</div>"
      ],
      "text/plain": [
       "               filename  fold  target        category  esc10  src_file take\n",
       "0      1-100032-A-0.wav     1       0             dog   True    100032    A\n",
       "1     1-100038-A-14.wav     1      14  chirping_birds  False    100038    A\n",
       "2     1-100210-A-36.wav     1      36  vacuum_cleaner  False    100210    A\n",
       "3     1-100210-B-36.wav     1      36  vacuum_cleaner  False    100210    B\n",
       "4     1-101296-A-19.wav     1      19    thunderstorm  False    101296    A\n",
       "...                 ...   ...     ...             ...    ...       ...  ...\n",
       "1995   5-263831-B-6.wav     5       6             hen  False    263831    B\n",
       "1996  5-263902-A-36.wav     5      36  vacuum_cleaner  False    263902    A\n",
       "1997   5-51149-A-25.wav     5      25       footsteps  False     51149    A\n",
       "1998    5-61635-A-8.wav     5       8           sheep  False     61635    A\n",
       "1999     5-9032-A-0.wav     5       0             dog   True      9032    A\n",
       "\n",
       "[2000 rows x 7 columns]"
      ]
     },
     "execution_count": 3,
     "metadata": {},
     "output_type": "execute_result"
    }
   ],
   "source": [
    "data"
   ]
  },
  {
   "cell_type": "markdown",
   "metadata": {},
   "source": [
    "### Cleaning : "
   ]
  },
  {
   "cell_type": "markdown",
   "metadata": {},
   "source": [
    "**TASK: Remove columns : `fold` ,`target` , `esc10` , `src_file` ,`take`**"
   ]
  },
  {
   "cell_type": "code",
   "execution_count": 4,
   "metadata": {},
   "outputs": [],
   "source": [
    "### START CODE HERE : (~1 line of code)\n",
    "data.drop(['fold','target','esc10','src_file','take'],axis=1,inplace=True)\n",
    "### END CODE"
   ]
  },
  {
   "cell_type": "markdown",
   "metadata": {},
   "source": [
    "**TASK : Filter out `category` as coughing and non-coughing sounds and in a new column `label` , give value `1` for coughing sounds and `0` for non coughing sounds**"
   ]
  },
  {
   "cell_type": "code",
   "execution_count": 5,
   "metadata": {},
   "outputs": [],
   "source": [
    "### START CODE HERE : \n",
    "for i in range(2000) : \n",
    "    if data.at[i,'category'] == 'coughing' : data.at[i,'label'] =1\n",
    "    else : \n",
    "        data.at[i,'category'] = 'non-coughing'\n",
    "        data.at[i,'label'] = 0 \n",
    "        \n",
    "### END CODE "
   ]
  },
  {
   "cell_type": "markdown",
   "metadata": {},
   "source": [
    "## 2. Visualisation : "
   ]
  },
  {
   "cell_type": "markdown",
   "metadata": {},
   "source": [
    "**TASK : Plot a bar graph of `category` attribute**"
   ]
  },
  {
   "cell_type": "code",
   "execution_count": 6,
   "metadata": {},
   "outputs": [
    {
     "data": {
      "text/plain": [
       "<matplotlib.axes._subplots.AxesSubplot at 0x1fa03a16b88>"
      ]
     },
     "execution_count": 6,
     "metadata": {},
     "output_type": "execute_result"
    },
    {
     "data": {
      "image/png": "[encoded data removed]",
      "text/plain": [
       "<Figure size 432x288 with 1 Axes>"
      ]
     },
     "metadata": {
      "needs_background": "light"
     },
     "output_type": "display_data"
    }
   ],
   "source": [
    "### START CODE HERE : \n",
    "data.category.value_counts().plot(kind='bar')\n",
    "### END CODE HERE"
   ]
  },
  {
   "cell_type": "markdown",
   "metadata": {},
   "source": [
    "**Observe the imbalance in the dataset**"
   ]
  },
  {
   "cell_type": "markdown",
   "metadata": {},
   "source": [
    "**TASK: Remove the column `category`**"
   ]
  },
  {
   "cell_type": "code",
   "execution_count": 7,
   "metadata": {},
   "outputs": [],
   "source": [
    "### START CODE HERE : (~1 Line of code)\n",
    "data.drop('category',axis=1,inplace=True)\n",
    "\n",
    "### END CODE HERE"
   ]
  },
  {
   "cell_type": "markdown",
   "metadata": {},
   "source": [
    "## 3. Sampling : \n"
   ]
  },
  {
   "cell_type": "markdown",
   "metadata": {},
   "source": [
    "Sampling is a method that allows us to get information about the population based on the statistics from a subset of the population (sample), without having to investigate every individual.\n",
    "\n",
    "<img src=\"https://cdn.analyticsvidhya.com/wp-content/uploads/2019/05/Screenshot-21.png\">\n",
    "\n",
    "Sampling is done to draw conclusions about populations from samples, and it enables to determine a population’s characteristics by directly observing only a portion (or sample) of the population.\n",
    "\n",
    "    - Selecting a sample requires less time than selecting every item in a population\n",
    "    - Sample selection is a cost-efficient method\n",
    "    - Analysis of the sample is less cumbersome and more practical than an analysis of the entire population"
   ]
  },
  {
   "cell_type": "markdown",
   "metadata": {},
   "source": [
    "### 3.1 Random Sampling : \n",
    "The goal is to select a subset of a population in which each member of the subset has an equal probability of being chosen. As the name suggests , the selection of each instance has equal probability and is random\n",
    "\n",
    "**Random Sampling reduces selection bias**\n",
    "\n",
    "<img src=\"https://cdn.analyticsvidhya.com/wp-content/uploads/2019/05/Screenshot-29.png\">\n",
    "\n",
    "\n",
    "One big advantage of this technique is that it is the most direct method of probability sampling. But it comes with a caveat – it may not select enough individuals with the characteristics of interest"
   ]
  },
  {
   "cell_type": "markdown",
   "metadata": {},
   "source": [
    "**TASK : Select 500 instances randomly and print how many of them are `coughing`**"
   ]
  },
  {
   "cell_type": "code",
   "execution_count": 8,
   "metadata": {},
   "outputs": [
    {
     "data": {
      "text/plain": [
       "0.0    489\n",
       "1.0     11\n",
       "Name: label, dtype: int64"
      ]
     },
     "execution_count": 8,
     "metadata": {},
     "output_type": "execute_result"
    }
   ],
   "source": [
    "### START CODE HERE : \n",
    "## Use 'sample()'\n",
    "random_df = data.sample(500)\n",
    "random_df.label.value_counts()\n",
    "### END CODE"
   ]
  },
  {
   "cell_type": "markdown",
   "metadata": {},
   "source": [
    "**Observe the distribution of `label`**"
   ]
  },
  {
   "cell_type": "markdown",
   "metadata": {},
   "source": [
    "### 3.2 Stratified Sampling :"
   ]
  },
  {
   "cell_type": "markdown",
   "metadata": {},
   "source": [
    "In statistics, stratified sampling is a method of sampling from a population which can be partitioned into subpopulations. An example to explain better would be to assume that we need to estimate the average number of votes for each candidate in an election. Assume that a country has 3 towns: Town A has 1 million factory workers, Town B has 2 million office workers and Town C has 3 million retirees. A choice can be to get a random sample of size 60 over the entire population but there is some chance that the resulting random sample is poorly balanced across these towns and hence is biased, causing a significant error in estimation. Instead if its better to take a random sample of 10, 20 and 30 from Town A, B and C respectively, then one can produce a smaller error in estimation for the same total sample size. This method is generally used when a population is not a homogeneous group.\n",
    "\n",
    "<img src=\"https://camo.githubusercontent.com/fb8a4c70ac5c67fdd7485b5034e5bf1049f1e5d6/68747470733a2f2f75706c6f61642e77696b696d656469612e6f72672f77696b6970656469612f636f6d6d6f6e732f7468756d622f662f66612f537472617469666965645f73616d706c696e672e504e472f32323070782d537472617469666965645f73616d706c696e672e504e47\">\n",
    "\n",
    "Basically, the population is divided into subgroups (called strata) based on different traits like gender, category, etc. And then samples(s) are selected from this subgroup:\n",
    "\n",
    "<img src=\"https://camo.githubusercontent.com/f7f2dcfc1e05a6bb2475c2e8ea7975c951bc9954/68747470733a2f2f7777772e7265736561726368676174652e6e65742f70726f66696c652f53746566616e6f5f466572696c6c692f7075626c69636174696f6e2f3231363739393632332f6669677572652f666967332f41533a36353034303932373834363831303840313533323038313036343539342f537472617469666965642d73616d706c696e672d6d6574686f646f6c6f67792e706e67\">"
   ]
  },
  {
   "cell_type": "markdown",
   "metadata": {},
   "source": [
    "**TASK : Get a stratified set of size 500 from the dataset** "
   ]
  },
  {
   "cell_type": "code",
   "execution_count": 9,
   "metadata": {},
   "outputs": [],
   "source": [
    "### START CODE HERE : \n",
    "from sklearn.model_selection import train_test_split\n",
    "\n",
    "df_temp1 , stratified_set = train_test_split(data , stratify=data.label , test_size=0.25)\n",
    "### END CODE"
   ]
  },
  {
   "cell_type": "markdown",
   "metadata": {},
   "source": [
    "**TASK : Print the `label` distribution using `value_counts()`**"
   ]
  },
  {
   "cell_type": "code",
   "execution_count": 10,
   "metadata": {},
   "outputs": [
    {
     "data": {
      "text/plain": [
       "0.0    490\n",
       "1.0     10\n",
       "Name: label, dtype: int64"
      ]
     },
     "execution_count": 10,
     "metadata": {},
     "output_type": "execute_result"
    }
   ],
   "source": [
    "### START CODE HERE : \n",
    "stratified_set.label.value_counts()\n",
    "#### END CODE "
   ]
  },
  {
   "cell_type": "markdown",
   "metadata": {},
   "source": [
    "**Observe the difference between random samples and stratified samples** "
   ]
  },
  {
   "cell_type": "markdown",
   "metadata": {},
   "source": [
    "## 4. Undersampling and Oversampling : "
   ]
  },
  {
   "cell_type": "markdown",
   "metadata": {},
   "source": [
    "Very often analysis has to be done on imbalanced dataset and thus a widely adopted technique for dealing with highly imbalanced datasets is called resampling. It consists of removing samples from the majority class (under-sampling) and/or adding more examples from the minority class (over-sampling)\n",
    "\n",
    "<img src=\"https://miro.medium.com/max/1400/0*u6pKLqdCDsG_5kXa.png\">"
   ]
  },
  {
   "cell_type": "markdown",
   "metadata": {},
   "source": [
    "### 4.1 Random UnderSampling : "
   ]
  },
  {
   "cell_type": "markdown",
   "metadata": {},
   "source": [
    "**TASK : Find the number of instances for labels 0 and 1 and store it in in `num_0` and `num_1`**"
   ]
  },
  {
   "cell_type": "code",
   "execution_count": 11,
   "metadata": {},
   "outputs": [
    {
     "name": "stdout",
     "output_type": "stream",
     "text": [
      "1960 40\n"
     ]
    }
   ],
   "source": [
    "### START CODE HERE : \n",
    "num_0 = len(data[data.label==0])\n",
    "num_1 = len(data[data.label==1])\n",
    "print(num_0,num_1)\n",
    "### END CODE"
   ]
  },
  {
   "cell_type": "markdown",
   "metadata": {},
   "source": [
    "**TASK : Sample `num_1` instances of data with `label=0` and concatenate it with data having `label=1` into a new dataset and print the dataset's length and label distribution**"
   ]
  },
  {
   "cell_type": "code",
   "execution_count": 12,
   "metadata": {},
   "outputs": [
    {
     "name": "stdout",
     "output_type": "stream",
     "text": [
      "1.0    40\n",
      "0.0    40\n",
      "Name: label, dtype: int64\n",
      "Length:  80\n"
     ]
    }
   ],
   "source": [
    "### START CODE HERE : \n",
    "undersampled_data = pd.concat([ data[data.label==0].sample(num_1) , data[data.label==1] ])\n",
    "print(undersampled_data.label.value_counts())\n",
    "print('Length: ' ,len(undersampled_data))\n",
    "### END CODE"
   ]
  },
  {
   "cell_type": "markdown",
   "metadata": {},
   "source": [
    "> #### Undersampling using Tomeklinks"
   ]
  },
  {
   "cell_type": "markdown",
   "metadata": {},
   "source": [
    "Over- and undersampling selects examples randomly to adjust their proportions.However Tomeklink approach examine the instance space carefully and decide what to do based on their neighborhoods.\n",
    "\n",
    "**Tomek links** are pairs of instances of opposite classes who are their own nearest neighbors. In other words, they are pairs of opposing instances that are very close together.\n",
    "\n",
    "\n",
    "<img src=\"https://miro.medium.com/max/1400/0*huy_9J15wzYJ2o5S\">\n",
    "\n",
    "Tomek’s algorithm looks for such pairs and removes the majority instance of the pair. The idea is to clarify the border between the minority and majority classes, making the minority region(s) more distinct. The diagram above shows a simple example of Tomek link removal."
   ]
  },
  {
   "cell_type": "markdown",
   "metadata": {},
   "source": [
    "**NOTE** : TomekLinks first findds the nearest neighbors in the same way as K-NN technique , so our input data must have all numerical attributes for the algortihm to work"
   ]
  },
  {
   "cell_type": "markdown",
   "metadata": {},
   "source": [
    "**TASK : Convert filename to numerical attribute**"
   ]
  },
  {
   "cell_type": "code",
   "execution_count": 13,
   "metadata": {},
   "outputs": [],
   "source": [
    "## Replace [A:1,B:2,C:3,D:4,E:5,F:6,G:7,H:8]\n",
    "## Strip '-' characters\n",
    "## strip '.wav' characters\n",
    "## You can use apply lambda approach \n",
    "data_numerical=data.copy()\n",
    "### START CODE HERE : \n",
    "data_numerical.filename=data_numerical.filename.apply(lambda x: x.replace('A','1'))\n",
    "data_numerical.filename=data_numerical.filename.apply(lambda x: x.replace('B','2'))\n",
    "data_numerical.filename=data_numerical.filename.apply(lambda x: x.replace('C','3'))\n",
    "data_numerical.filename=data_numerical.filename.apply(lambda x: x.replace('D','4'))\n",
    "data_numerical.filename=data_numerical.filename.apply(lambda x: x.replace('E','5'))\n",
    "data_numerical.filename=data_numerical.filename.apply(lambda x: x.replace('F','6'))\n",
    "data_numerical.filename=data_numerical.filename.apply(lambda x: x.replace('G','7'))\n",
    "data_numerical.filename=data_numerical.filename.apply(lambda x: x.replace('H','8'))\n",
    "data_numerical.filename=data_numerical.filename.apply(lambda x: x.replace('-',''))\n",
    "data_numerical.filename=data_numerical.filename.apply(lambda x: x.strip('.wav'))\n",
    "### END CODE "
   ]
  },
  {
   "cell_type": "markdown",
   "metadata": {},
   "source": [
    "**TASK : Convert the attribute filename to float64**"
   ]
  },
  {
   "cell_type": "code",
   "execution_count": 14,
   "metadata": {},
   "outputs": [],
   "source": [
    "data_numerical.filename=data_numerical.filename.astype('float64')"
   ]
  },
  {
   "cell_type": "markdown",
   "metadata": {},
   "source": [
    "**TASK : Implement `Tomeklink`  and return the new X,y and the indices and find the `length` of new dataset**"
   ]
  },
  {
   "cell_type": "code",
   "execution_count": 15,
   "metadata": {},
   "outputs": [],
   "source": [
    "from imblearn.under_sampling import TomekLinks\n",
    "X=data_numerical.drop('label',axis=1)\n",
    "y=data_numerical.label\n",
    "\n",
    "### START CODE HERE : \n",
    "tl = TomekLinks(return_indices=True, ratio='majority')\n",
    "X_tl,y_tl, id_tl = tl.fit_sample(X,y)\n",
    "### END CODE"
   ]
  },
  {
   "cell_type": "code",
   "execution_count": 16,
   "metadata": {},
   "outputs": [
    {
     "data": {
      "text/plain": [
       "1980"
      ]
     },
     "execution_count": 16,
     "metadata": {},
     "output_type": "execute_result"
    }
   ],
   "source": [
    "len(X_tl)"
   ]
  },
  {
   "cell_type": "markdown",
   "metadata": {},
   "source": [
    "**Asses if TomekLink was useful or not by seeing the length of the new dataset. If unuseful , try to justify it**\n",
    "\n",
    "\n",
    "ANS : As the ID's were made just by removing figures , it holds no real meaning to classify a sound based on it. A proper dataset with relevant attributes can result in a better outcome"
   ]
  },
  {
   "cell_type": "markdown",
   "metadata": {},
   "source": [
    "### 4.2 Random OverSampling : "
   ]
  },
  {
   "cell_type": "markdown",
   "metadata": {},
   "source": [
    "**TASK : Find the number of instances for labels 0 and 1 and store it in in `num_0` and `num_1`**"
   ]
  },
  {
   "cell_type": "code",
   "execution_count": 17,
   "metadata": {},
   "outputs": [
    {
     "name": "stdout",
     "output_type": "stream",
     "text": [
      "1960 40\n"
     ]
    }
   ],
   "source": [
    "### START CODE HERE : \n",
    "num_0 = len(data[data.label==0])\n",
    "num_1 = len(data[data.label==1])\n",
    "print(num_0,num_1)\n",
    "### END CODE"
   ]
  },
  {
   "cell_type": "markdown",
   "metadata": {},
   "source": [
    "**TASK : Make the size of instances with label=1(minority class) equal to the majority class by `replace=True` argument then , concatenate it with instances having label=0 (num_0) and print the length and distribution of new dataset**"
   ]
  },
  {
   "cell_type": "code",
   "execution_count": 18,
   "metadata": {},
   "outputs": [
    {
     "name": "stdout",
     "output_type": "stream",
     "text": [
      "1.0    1960\n",
      "0.0    1960\n",
      "Name: label, dtype: int64\n",
      "3920\n"
     ]
    }
   ],
   "source": [
    "### START CODE HERE : \n",
    "oversampled_data = pd.concat([ data[data.label==0] , data[data.label==1].sample(num_0, replace=True) ])\n",
    "print(oversampled_data.label.value_counts())\n",
    "print(len(oversampled_data))"
   ]
  },
  {
   "cell_type": "markdown",
   "metadata": {},
   "source": [
    "> #### OverSampling Using SMOTE : "
   ]
  },
  {
   "cell_type": "markdown",
   "metadata": {},
   "source": [
    "**SMOTE** is another approach involving not resampling of examples, but synthesis of new ones. The idea is to create new minority examples by interpolating between existing ones. The process is basically as follows. Assume we have a set of majority and minority examples, as before:\n",
    "\n",
    "<img src=\"http://www.svds.com/wp-content/uploads/2016/08/ImbalancedClasses_fig11.png\">\n",
    "\n",
    "It is important to note a substantial limitation of SMOTE. Because it operates by interpolating between rare examples, it can only generate examples within the body of available examples—never outside. Formally, SMOTE can only fill in the convex hull of existing minority examples, but not create new exterior regions of minority examples.\n",
    "\n",
    "<img src=\"https://miro.medium.com/max/1400/0*UrGYcz_Ab-HTo4-B.png\">\n",
    "\n",
    "To summarise SMOTE , In SMOTE (Synthetic Minority Oversampling Technique) elements are synthesized for the minority class, in the vicinity of already existing elements."
   ]
  },
  {
   "cell_type": "markdown",
   "metadata": {},
   "source": [
    "**NOTE :** Like TomekLinks , SMOTE is also based on neighboring algorithm so again , numerical dataset has to be used"
   ]
  },
  {
   "cell_type": "markdown",
   "metadata": {},
   "source": [
    "**TASK : Implement `SMOTE`  and return the new X,y and the `length` of new dataset`**"
   ]
  },
  {
   "cell_type": "code",
   "execution_count": 19,
   "metadata": {},
   "outputs": [
    {
     "name": "stdout",
     "output_type": "stream",
     "text": [
      "3920\n"
     ]
    }
   ],
   "source": [
    "### START CODE HERE :  \n",
    "\n",
    "from imblearn.over_sampling import SMOTE\n",
    "\n",
    "smote = SMOTE(ratio='minority')\n",
    "X_sm, y_sm = smote.fit_sample(X, y)\n",
    "\n",
    "print(len(X_sm))"
   ]
  },
  {
   "cell_type": "markdown",
   "metadata": {},
   "source": [
    "**Asses if SMOTE can be useful or not**"
   ]
  },
  {
   "cell_type": "markdown",
   "metadata": {},
   "source": [
    "## 5. Conclusion\n",
    "\n",
    "Based on the dataset , choose a relevant sampling and understand the best way to implement it "
   ]
  }
 ],
 "metadata": {
  "kernelspec": {
   "display_name": "Python 3",
   "language": "python",
   "name": "python3"
  },
  "language_info": {
   "codemirror_mode": {
    "name": "ipython",
    "version": 3
   },
   "file_extension": ".py",
   "mimetype": "text/x-python",
   "name": "python",
   "nbconvert_exporter": "python",
   "pygments_lexer": "ipython3",
   "version": "3.7.4"
  }
 },
 "nbformat": 4,
 "nbformat_minor": 2
}
