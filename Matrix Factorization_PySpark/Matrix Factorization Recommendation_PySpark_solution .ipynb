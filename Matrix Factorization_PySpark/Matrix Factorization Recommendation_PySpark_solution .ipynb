{
 "cells": [
  {
   "cell_type": "markdown",
   "metadata": {},
   "source": [
    "**Matrix factorization** is a class of collaborative filtering algorithms used in recommender systems. **Matrix factorization** approximates a given rating matrix as a product of two lower-rank matrices.\n",
    "It decomposes a rating matrix R(nxm) into a product of two matrices W(nxd) and U(mxd).\n",
    "\n",
    "\\begin{equation*}\n",
    "\\mathbf{R}_{n \\times m} \\approx \\mathbf{\\hat{R}} = \n",
    "\\mathbf{V}_{n \\times k} \\times \\mathbf{V}_{m \\times k}^T\n",
    "\\end{equation*}"
   ]
  },
  {
   "cell_type": "code",
   "execution_count": null,
   "metadata": {
    "_cell_guid": "79c7e3d0-c299-4dcb-8224-4455121ee9b0",
    "_uuid": "d629ff2d2480ee46fbb7e2d37f6b5fab8052498a"
   },
   "outputs": [],
   "source": [
    "!pip install pyspark       #installing pyspark"
   ]
  },
  {
   "cell_type": "markdown",
   "metadata": {},
   "source": [
    "#### Importing the necessary libraries"
   ]
  },
  {
   "cell_type": "code",
   "execution_count": null,
   "metadata": {},
   "outputs": [],
   "source": [
    "from pyspark import SparkContext, SQLContext   # required for dealing with dataframes\n",
    "import numpy as np\n",
    "from pyspark.ml.recommendation import ALS      # for Matrix Factorization using ALS "
   ]
  },
  {
   "cell_type": "code",
   "execution_count": null,
   "metadata": {},
   "outputs": [],
   "source": [
    "sc = SparkContext()      # instantiating spark context \n",
    "sqlContext = SQLContext(sc) # instantiating SQL context "
   ]
  },
  {
   "cell_type": "markdown",
   "metadata": {},
   "source": [
    "#### Step 1. Loading the data into a PySpark dataframe"
   ]
  },
  {
   "cell_type": "code",
   "execution_count": null,
   "metadata": {},
   "outputs": [],
   "source": [
    "#Read the dataset into a dataframe\n",
    "jester_ratings_df = sqlContext.read.csv(\"/kaggle/input/jester-17m-jokes-ratings-dataset/jester_ratings.csv\",header = True, inferSchema = True)"
   ]
  },
  {
   "cell_type": "code",
   "execution_count": null,
   "metadata": {},
   "outputs": [],
   "source": [
    "#show the ratings\n",
    "jester_ratings_df.show(5)"
   ]
  },
  {
   "cell_type": "code",
   "execution_count": null,
   "metadata": {},
   "outputs": [],
   "source": [
    "#Print total number of ratings, unique users and unique jokes.\n",
    "print(\"Total number of ratings: \", jester_ratings_df.count())\n",
    "print(\"Number of unique users: \", jester_ratings_df.select(\"userId\").distinct().count())\n",
    "print(\"Number of unique jokes: \", jester_ratings_df.select(\"jokeId\").distinct().count())"
   ]
  },
  {
   "cell_type": "markdown",
   "metadata": {},
   "source": [
    "#### Step 2. Splitting into train and test part"
   ]
  },
  {
   "cell_type": "code",
   "execution_count": null,
   "metadata": {},
   "outputs": [],
   "source": [
    "#Split the dataset using randomSplit in a 90:10 ratio\n",
    "X_train, X_test = jester_ratings_df.randomSplit([0.9,0.1])   # 90:10 ratio"
   ]
  },
  {
   "cell_type": "code",
   "execution_count": null,
   "metadata": {},
   "outputs": [],
   "source": [
    "#Print the training data size and the test data size\n",
    "print(\"Training data size : \", X_train.count())\n",
    "print(\"Test data size : \", X_test.count())"
   ]
  },
  {
   "cell_type": "code",
   "execution_count": null,
   "metadata": {},
   "outputs": [],
   "source": [
    "#Show the train set\n",
    "X_train.show(5)"
   ]
  },
  {
   "cell_type": "code",
   "execution_count": null,
   "metadata": {},
   "outputs": [],
   "source": [
    "#Show the test set\n",
    "X_test.show(5)"
   ]
  },
  {
   "cell_type": "markdown",
   "metadata": {},
   "source": [
    "#### Step 3. Fitting an ALS model"
   ]
  },
  {
   "cell_type": "code",
   "execution_count": null,
   "metadata": {},
   "outputs": [],
   "source": [
    "#Fit an ALS model with rank=5, maxIter=10 and Seed=0\n",
    "als = ALS(userCol=\"userId\",itemCol=\"jokeId\",ratingCol=\"rating\",rank=5, maxIter=10, seed=0, )\n",
    "model = als.fit(X_train)"
   ]
  },
  {
   "cell_type": "code",
   "execution_count": null,
   "metadata": {},
   "outputs": [],
   "source": [
    "model.userFactors.show(5, truncate = False)  # displaying the latent features for five users"
   ]
  },
  {
   "cell_type": "markdown",
   "metadata": {},
   "source": [
    "#### Step 4. Making predictions"
   ]
  },
  {
   "cell_type": "code",
   "execution_count": null,
   "metadata": {},
   "outputs": [],
   "source": [
    "predictions = model.transform(X_test[[\"userId\",\"jokeId\"]])  # passing userId and jokeId from test dataset as an argument "
   ]
  },
  {
   "cell_type": "code",
   "execution_count": null,
   "metadata": {},
   "outputs": [],
   "source": [
    "# joining X_test and prediction dataframe and also dropping the records for which no predictions made\n",
    "ratesAndPreds = X_test.join(other=predictions,on=['userId','jokeId'],how='inner').na.drop() \n",
    "ratesAndPreds.show(5)"
   ]
  },
  {
   "cell_type": "markdown",
   "metadata": {},
   "source": [
    "#### Step 5. Evaluating the model"
   ]
  },
  {
   "cell_type": "code",
   "execution_count": null,
   "metadata": {},
   "outputs": [],
   "source": [
    "# converting the columns into numpy arrays for direct and easy calculations \n",
    "rating = np.array(ratesAndPreds.select(\"rating\").collect()).ravel()\n",
    "prediction = np.array(ratesAndPreds.select(\"prediction\").collect()).ravel()\n",
    "print(\"RMSE : \", np.sqrt(np.mean((rating - prediction)**2)))"
   ]
  },
  {
   "cell_type": "markdown",
   "metadata": {},
   "source": [
    "#### Step 6. Recommending jokes"
   ]
  },
  {
   "cell_type": "code",
   "execution_count": null,
   "metadata": {},
   "outputs": [],
   "source": [
    "# recommending top 3 jokes for all the users with highest predicted rating \n",
    "model.recommendForAllUsers(3).show(5,truncate = False)"
   ]
  }
 ],
 "metadata": {
  "kernelspec": {
   "display_name": "Python 3",
   "language": "python",
   "name": "python3"
  },
  "language_info": {
   "codemirror_mode": {
    "name": "ipython",
    "version": 3
   },
   "file_extension": ".py",
   "mimetype": "text/x-python",
   "name": "python",
   "nbconvert_exporter": "python",
   "pygments_lexer": "ipython3",
   "version": "3.7.4"
  }
 },
 "nbformat": 4,
 "nbformat_minor": 1
}
