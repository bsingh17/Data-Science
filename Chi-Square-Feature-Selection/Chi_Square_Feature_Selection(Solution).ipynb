{
  "nbformat": 4,
  "nbformat_minor": 0,
  "metadata": {
    "colab": {
      "name": "Chi-Square Feature Selection(Solution).ipynb",
      "provenance": [],
      "collapsed_sections": [],
      "toc_visible": true
    },
    "kernelspec": {
      "name": "python3",
      "display_name": "Python 3"
    }
  },
  "cells": [
    {
      "cell_type": "markdown",
      "metadata": {
        "id": "QcTKleOP3Y5E",
        "colab_type": "text"
      },
      "source": [
        "## **Feature selection is a process where you automatically select those features in your data that contribute most to the prediction variable or output in which you are interested. The benefits of performing feature selection before modeling your data are:**\n",
        "\n",
        "* Avoid Overfitting: Less redundant data gives performance boost to the model and results in less opportunity to make decisions based on noise\n",
        "* Reduces Training Time: Less data means that algorithms train faster\n",
        "\n"
      ]
    },
    {
      "cell_type": "markdown",
      "metadata": {
        "id": "CfOBjpLPVw5f",
        "colab_type": "text"
      },
      "source": [
        "## \n",
        "* One common feature selection method that is used with text data is the Chi-Square feature selection. \n",
        "* The χ2 test is used in statistics to test the independence of two events.  \n",
        "* More specifically in feature selection we use it to test whether the occurrence of a specific term and the occurrence of a specific class are independent. \n",
        "\n",
        "* For each feature (term), a corresponding high χ2 score indicates that the null hypothesis H0 of independence (meaning the document class has no influence over the term's frequency) should be rejected and the occurrence of the term and class are dependent. \n",
        "* In this case, we should select the feature for the text classification."
      ]
    },
    {
      "cell_type": "markdown",
      "metadata": {
        "id": "NBJkpANQRKWr",
        "colab_type": "text"
      },
      "source": [
        "# **Import libraries**"
      ]
    },
    {
      "cell_type": "code",
      "metadata": {
        "id": "8LfLoq9u2sB8",
        "colab_type": "code",
        "colab": {}
      },
      "source": [
        "# TODO: import pandas,numpy,labelbinarizer,selectkbest,countvectorizers\n",
        "import numpy as np\n",
        "import pandas as pd\n",
        "\n",
        "from sklearn.preprocessing import LabelBinarizer\n",
        "from sklearn.feature_selection import SelectKBest\n",
        "from sklearn.feature_extraction.text import CountVectorizer\n"
      ],
      "execution_count": 0,
      "outputs": []
    },
    {
      "cell_type": "markdown",
      "metadata": {
        "id": "F9b-WXg8e_3u",
        "colab_type": "text"
      },
      "source": [
        "# **Read the Datset**"
      ]
    },
    {
      "cell_type": "code",
      "metadata": {
        "id": "9Jw9li3_fGOb",
        "colab_type": "code",
        "colab": {}
      },
      "source": [
        "#read csv\n",
        "data = pd.read_csv(\"/content/iris.data\",names=['sl','sw','pl','pw','class'])"
      ],
      "execution_count": 0,
      "outputs": []
    },
    {
      "cell_type": "code",
      "metadata": {
        "id": "wDGZpg4ngMS4",
        "colab_type": "code",
        "outputId": "0fddea59-5740-4640-c554-c12c056fd1cd",
        "colab": {
          "base_uri": "https://localhost:8080/",
          "height": 206
        }
      },
      "source": [
        "data.head()"
      ],
      "execution_count": 0,
      "outputs": [
        {
          "output_type": "execute_result",
          "data": {
            "text/html": [
              "<div>\n",
              "<style scoped>\n",
              "    .dataframe tbody tr th:only-of-type {\n",
              "        vertical-align: middle;\n",
              "    }\n",
              "\n",
              "    .dataframe tbody tr th {\n",
              "        vertical-align: top;\n",
              "    }\n",
              "\n",
              "    .dataframe thead th {\n",
              "        text-align: right;\n",
              "    }\n",
              "</style>\n",
              "<table border=\"1\" class=\"dataframe\">\n",
              "  <thead>\n",
              "    <tr style=\"text-align: right;\">\n",
              "      <th></th>\n",
              "      <th>sl</th>\n",
              "      <th>sw</th>\n",
              "      <th>pl</th>\n",
              "      <th>pw</th>\n",
              "      <th>class</th>\n",
              "    </tr>\n",
              "  </thead>\n",
              "  <tbody>\n",
              "    <tr>\n",
              "      <th>0</th>\n",
              "      <td>5.1</td>\n",
              "      <td>3.5</td>\n",
              "      <td>1.4</td>\n",
              "      <td>0.2</td>\n",
              "      <td>Iris-setosa</td>\n",
              "    </tr>\n",
              "    <tr>\n",
              "      <th>1</th>\n",
              "      <td>4.9</td>\n",
              "      <td>3.0</td>\n",
              "      <td>1.4</td>\n",
              "      <td>0.2</td>\n",
              "      <td>Iris-setosa</td>\n",
              "    </tr>\n",
              "    <tr>\n",
              "      <th>2</th>\n",
              "      <td>4.7</td>\n",
              "      <td>3.2</td>\n",
              "      <td>1.3</td>\n",
              "      <td>0.2</td>\n",
              "      <td>Iris-setosa</td>\n",
              "    </tr>\n",
              "    <tr>\n",
              "      <th>3</th>\n",
              "      <td>4.6</td>\n",
              "      <td>3.1</td>\n",
              "      <td>1.5</td>\n",
              "      <td>0.2</td>\n",
              "      <td>Iris-setosa</td>\n",
              "    </tr>\n",
              "    <tr>\n",
              "      <th>4</th>\n",
              "      <td>5.0</td>\n",
              "      <td>3.6</td>\n",
              "      <td>1.4</td>\n",
              "      <td>0.2</td>\n",
              "      <td>Iris-setosa</td>\n",
              "    </tr>\n",
              "  </tbody>\n",
              "</table>\n",
              "</div>"
            ],
            "text/plain": [
              "    sl   sw   pl   pw        class\n",
              "0  5.1  3.5  1.4  0.2  Iris-setosa\n",
              "1  4.9  3.0  1.4  0.2  Iris-setosa\n",
              "2  4.7  3.2  1.3  0.2  Iris-setosa\n",
              "3  4.6  3.1  1.5  0.2  Iris-setosa\n",
              "4  5.0  3.6  1.4  0.2  Iris-setosa"
            ]
          },
          "metadata": {
            "tags": []
          },
          "execution_count": 84
        }
      ]
    },
    {
      "cell_type": "code",
      "metadata": {
        "id": "ToFOCwv2gPlb",
        "colab_type": "code",
        "outputId": "c74286b7-925e-401a-f684-db614d30fda4",
        "colab": {
          "base_uri": "https://localhost:8080/",
          "height": 34
        }
      },
      "source": [
        "# shape method gives the shape of dataframe\n",
        "data.shape"
      ],
      "execution_count": 0,
      "outputs": [
        {
          "output_type": "execute_result",
          "data": {
            "text/plain": [
              "(150, 5)"
            ]
          },
          "metadata": {
            "tags": []
          },
          "execution_count": 85
        }
      ]
    },
    {
      "cell_type": "code",
      "metadata": {
        "colab_type": "code",
        "id": "YJW18OJMfX4l",
        "colab": {}
      },
      "source": [
        "X = data.iloc[:,:4]\n",
        "Y = data.iloc[:,-1]\n"
      ],
      "execution_count": 0,
      "outputs": []
    },
    {
      "cell_type": "code",
      "metadata": {
        "id": "RkOKlt7Ohtzx",
        "colab_type": "code",
        "outputId": "ef2a2802-a4f1-4c02-f662-6a05fcc83ac5",
        "colab": {
          "base_uri": "https://localhost:8080/",
          "height": 104
        }
      },
      "source": [
        "X = X.values\n",
        "print(X[:5])"
      ],
      "execution_count": 0,
      "outputs": [
        {
          "output_type": "stream",
          "text": [
            "[[5.1 3.5 1.4 0.2]\n",
            " [4.9 3.  1.4 0.2]\n",
            " [4.7 3.2 1.3 0.2]\n",
            " [4.6 3.1 1.5 0.2]\n",
            " [5.  3.6 1.4 0.2]]\n"
          ],
          "name": "stdout"
        }
      ]
    },
    {
      "cell_type": "markdown",
      "metadata": {
        "id": "achXHlH6WUBv",
        "colab_type": "text"
      },
      "source": [
        ""
      ]
    },
    {
      "cell_type": "markdown",
      "metadata": {
        "id": "g7DUBQkWRrh8",
        "colab_type": "text"
      },
      "source": [
        "# **STEPS¶**\n",
        "* First compute the observed count for each class. This is done by building a contingency table from an input X (feature values) and y (class labels). \n",
        "*  Each entry i, j corresponds to some feature i and some class j, and holds the sum of the ith feature's values across all samples belonging to the class j.\n",
        "\n",
        "* Note that although the feature values here are represented as frequencies, this method also works quite well in practice when the values are tf-idf values, since those are just weighted/scaled frequencies."
      ]
    },
    {
      "cell_type": "code",
      "metadata": {
        "id": "jySPMDwWoxA5",
        "colab_type": "code",
        "outputId": "e13808e4-6ddb-4463-8c85-3fb6de026adf",
        "colab": {
          "base_uri": "https://localhost:8080/",
          "height": 104
        }
      },
      "source": [
        "# binarize the output column,\n",
        "# this makes computing the observed value a \n",
        "# simple dot product\n",
        "from sklearn.preprocessing import LabelBinarizer\n",
        "encoder = LabelBinarizer()\n",
        "transfomed_label = encoder.fit_transform(Y)\n",
        "print(transfomed_label[:5])\n"
      ],
      "execution_count": 0,
      "outputs": [
        {
          "output_type": "stream",
          "text": [
            "[[1 0 0]\n",
            " [1 0 0]\n",
            " [1 0 0]\n",
            " [1 0 0]\n",
            " [1 0 0]]\n"
          ],
          "name": "stdout"
        }
      ]
    },
    {
      "cell_type": "code",
      "metadata": {
        "id": "-hllK3ILp7xe",
        "colab_type": "code",
        "colab": {}
      },
      "source": [
        "y = transfomed_label"
      ],
      "execution_count": 0,
      "outputs": []
    },
    {
      "cell_type": "code",
      "metadata": {
        "id": "jhQuNRSDRqsj",
        "colab_type": "code",
        "outputId": "d7ad6e2b-28f9-4012-fc3c-baf9e60153ca",
        "colab": {
          "base_uri": "https://localhost:8080/",
          "height": 69
        }
      },
      "source": [
        "# our observed count for each class (the row)\n",
        "# and each feature (the column)\n",
        "observed = np.dot(y.T, X)\n",
        "print(observed)"
      ],
      "execution_count": 117,
      "outputs": [
        {
          "output_type": "stream",
          "text": [
            "[[250.3 170.9  73.2  12.2]\n",
            " [296.8 138.5 213.   66.3]\n",
            " [329.4 148.7 277.6 101.3]]\n"
          ],
          "name": "stdout"
        }
      ]
    },
    {
      "cell_type": "code",
      "metadata": {
        "id": "HcwVOR9mSBrc",
        "colab_type": "code",
        "outputId": "1a8e0057-2716-4622-c234-a8cb541b461b",
        "colab": {
          "base_uri": "https://localhost:8080/",
          "height": 69
        }
      },
      "source": [
        "# compute the probability of each class and the feature count; \n",
        "# keep both as a 2 dimension array using reshape\n",
        "class_prob = y.mean(axis = 0).reshape(1, -1)\n",
        "feature_count = X.sum(axis = 0).reshape(1, -1)\n",
        "expected = np.dot(class_prob.T, feature_count)\n",
        "print(expected)"
      ],
      "execution_count": 118,
      "outputs": [
        {
          "output_type": "stream",
          "text": [
            "[[292.16666667 152.7        187.93333333  59.93333333]\n",
            " [292.16666667 152.7        187.93333333  59.93333333]\n",
            " [292.16666667 152.7        187.93333333  59.93333333]]\n"
          ],
          "name": "stdout"
        }
      ]
    },
    {
      "cell_type": "markdown",
      "metadata": {
        "id": "vh7uLCqoSQOB",
        "colab_type": "text"
      },
      "source": [
        "### **We can do chi square test with an assumption that there is no biase between the columns. We can also do Chi_square test directly from the contigency table** \n",
        "\n",
        "### **find the Chi value and P value for each feature**\n",
        "* chi-square scores - the scores are better if greater. \n",
        "* p-values - they are better if smaller.\n",
        "\n"
      ]
    },
    {
      "cell_type": "code",
      "metadata": {
        "id": "NiENIGrwSDAg",
        "colab_type": "code",
        "outputId": "beb49bde-af0c-4ec6-90ae-97289857a7e2",
        "colab": {
          "base_uri": "https://localhost:8080/",
          "height": 34
        }
      },
      "source": [
        "#TODO : Find chisqscore for each feature value\n",
        "chisq = (observed - expected) ** 2 / expected\n",
        "chisq_score = chisq.sum(axis = 0)\n",
        "print(chisq_score)"
      ],
      "execution_count": 119,
      "outputs": [
        {
          "output_type": "stream",
          "text": [
            "[ 10.81782088   3.59449902 116.16984746  67.24482759]\n"
          ],
          "name": "stdout"
        }
      ]
    },
    {
      "cell_type": "markdown",
      "metadata": {
        "id": "VTyJfMvnrelA",
        "colab_type": "text"
      },
      "source": [
        "#**TODO : Cross check the same using Scikit learn chi2 function**\n"
      ]
    },
    {
      "cell_type": "code",
      "metadata": {
        "id": "yB40iZxpSWT0",
        "colab_type": "code",
        "outputId": "9f60f496-4726-4add-a235-11bb64c869bb",
        "colab": {
          "base_uri": "https://localhost:8080/",
          "height": 34
        }
      },
      "source": [
        "from sklearn.feature_selection import chi2\n",
        "chi2score = chi2(X, y)\n",
        "print(chi2score)\n",
        "\n",
        "# 1st tuple is chisq value and 2nd tuple is pval"
      ],
      "execution_count": 127,
      "outputs": [
        {
          "output_type": "stream",
          "text": [
            "(array([ 10.81782088,   3.59449902, 116.16984746,  67.24482759]), array([4.47651499e-03, 1.65754167e-01, 5.94344354e-26, 2.50017968e-15]))\n"
          ],
          "name": "stdout"
        }
      ]
    },
    {
      "cell_type": "markdown",
      "metadata": {
        "id": "hjFUJRlFcct_",
        "colab_type": "text"
      },
      "source": [
        "# **Feature Selection**"
      ]
    },
    {
      "cell_type": "markdown",
      "metadata": {
        "id": "Usuihe_Xbnqc",
        "colab_type": "text"
      },
      "source": [
        "## **Select k best features using Chisquare as score fn**\n",
        "**Scikit**-**learn** provides a **SelectKBest** class that can be used with a suite of different statistical tests. It will rank the features with the statistical test that we've specified and select the top k performing ones (meaning that these terms is considered to be more relevant to the task at hand than the others), where k is also a number that we can tweak."
      ]
    },
    {
      "cell_type": "code",
      "metadata": {
        "id": "wEIyB_6SbiCd",
        "colab_type": "code",
        "outputId": "ce2560ce-1148-4f81-ae1c-23fba8e9ef5f",
        "colab": {
          "base_uri": "https://localhost:8080/",
          "height": 52
        }
      },
      "source": [
        "#TODO : scikit selectkbest\n",
        "chi2_features = SelectKBest(chi2, k = 2) \n",
        "X_kbest_features = chi2_features.fit_transform(X, y) \n",
        "  \n",
        "# Reduced features \n",
        "print('Original feature number:', X.shape[1]) \n",
        "print('Reduced feature number:', X_kbest_features.shape[1]) "
      ],
      "execution_count": 130,
      "outputs": [
        {
          "output_type": "stream",
          "text": [
            "Original feature number: 4\n",
            "Reduced feature number: 2\n"
          ],
          "name": "stdout"
        }
      ]
    },
    {
      "cell_type": "markdown",
      "metadata": {
        "id": "WO36-MN_cmik",
        "colab_type": "text"
      },
      "source": [
        "# **Conclusion**"
      ]
    },
    {
      "cell_type": "code",
      "metadata": {
        "id": "XQruTfQkfvn2",
        "colab_type": "code",
        "colab": {}
      },
      "source": [
        ""
      ],
      "execution_count": 0,
      "outputs": []
    }
  ]
}